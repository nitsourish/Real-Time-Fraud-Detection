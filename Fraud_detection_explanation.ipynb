{
 "cells": [
  {
   "cell_type": "markdown",
   "metadata": {},
   "source": [
    "## This jupyter notebook contains table creation in postgresql(PG) database,subsequent loading with data,data retrieving, deep dive in the data provided for Revolut challenge to do data preparation,feature engineering, exploratory analysis and build ML classification model to predict propensity to fraud in user level and action against each user. Throughout this notebook we will mainly do following task(Not always in the order):\n",
    "\n",
    "### PART I - DATABASE operation\n",
    "#### Input Data table creation and loading of data\n",
    "#### Testing of data tables and accessing data from PG database\n",
    "\n",
    "\n",
    "### PART II - EXPLORATION, ANALYSIS, MODELLING & OPERATIONALIZATION: \n",
    "\n",
    "- data preparation and feature engineering- I did it simultaneously, as the task demands\n",
    "- Exploratory analysis of key(intuitive) features, visualization and some useful insights about fraudsters(Lot of things could     be done here with more time investment)\n",
    "- Model data preparation(oversampling and variable transformation)for supervised ML model\n",
    "- Feature Selection\n",
    "- Final ML model building through Grid search(some feature related insights are also covered here)\n",
    "- Model Evaluation and visualization\n",
    "- Model operationalization with additional Model Evaluation points\n",
    "- Some database operations of creating output and variable importance table and loading the data\n",
    "\n",
    "\n",
    "### Assumptions\n",
    "\n",
    "#### The frauds are happening in the user level, ie. the users are intentionally making frauds(someone who signs up and uses Revolut with the main goal of stealing other people's money into their account or other means).Here users(who are labeled as fraud) are not victim of frauds.\n",
    "#### Frauds are detected as user level not in transaction level\n",
    "#### Labeling as IS_FRAUDSTER is correct and exhaustive in 'users' data and these are the only fraudsters \n",
    "\n",
    "### Limitation\n",
    "\n",
    "#### As user level fraud data is restricted to only no of users, who are common(intersection)in both 'users' and 'transactions' data.\n",
    "#### With approximately 8k such user counts with highly imbalance data(event rate ~ 3.8%)the ML model performance is decent at most. Although with more time and research other techniques are worth trying.   \n"
   ]
  },
  {
   "cell_type": "code",
   "execution_count": 1424,
   "metadata": {},
   "outputs": [],
   "source": [
    "#Packages\n",
    "import psycopg2 as pg\n",
    "import yaml\n",
    "from pathlib import Path\n",
    "import os\n",
    "import numpy as np\n",
    "from numpy import genfromtxt\n",
    "import pandas as pd\n",
    "import tqdm\n",
    "import cv2\n",
    "from scipy.spatial import distance\n",
    "from PIL import Image\n",
    "from sklearn.preprocessing import OneHotEncoder,LabelEncoder\n",
    "from sklearn.model_selection import train_test_split,cross_val_score,cross_val_predict,cross_validate,GridSearchCV,RandomizedSearchCV\n",
    "import matplotlib.pyplot as plt\n",
    "import plotly.plotly as py\n",
    "import plotly.graph_objs as go\n",
    "from plotly.tools import FigureFactory as FF\n",
    "import scipy\n",
    "import datetime\n",
    "import seaborn as sns\n",
    "from imblearn.over_sampling import SMOTE\n",
    "import lightgbm as lgb\n",
    "import xgboost as xgb\n",
    "from ctypes import *\n",
    "from sklearn import datasets, metrics, model_selection\n",
    "from sklearn.model_selection import cross_val_score, StratifiedKFold\n",
    "from xgboost.sklearn import XGBClassifier\n",
    "from xgboost import plot_importance\n",
    "import pickle\n",
    "from itertools import cycle\n",
    "from sklearn.metrics import roc_curve, auc,roc_auc_score,confusion_matrix,precision_recall_curve,f1_score,average_precision_score,accuracy_score,classification_report\n",
    "from scipy import interp\n",
    "from xgboost import plot_importance\n",
    "import pickle"
   ]
  },
  {
   "cell_type": "markdown",
   "metadata": {},
   "source": [
    "## PART I - DATABASE operation"
   ]
  },
  {
   "cell_type": "markdown",
   "metadata": {},
   "source": [
    "### Connecting the postgresql(PG) database using my credentials"
   ]
  },
  {
   "cell_type": "code",
   "execution_count": 1479,
   "metadata": {},
   "outputs": [
    {
     "name": "stdout",
     "output_type": "stream",
     "text": [
      "data base is connected\n"
     ]
    }
   ],
   "source": [
    "#Database creation\n",
    "try:\n",
    "    connection = pg.connect(\n",
    "    host= 'localhost',password = 'Data@12345',\n",
    "    port=5432,\n",
    "    dbname='revolute_challenge',\n",
    "    user='postgres')\n",
    "    print('data base is connected')\n",
    "except:\n",
    "    print('Database not connected')"
   ]
  },
  {
   "cell_type": "markdown",
   "metadata": {},
   "source": [
    "### database operation functions"
   ]
  },
  {
   "cell_type": "code",
   "execution_count": 1480,
   "metadata": {},
   "outputs": [],
   "source": [
    "#Functions for creating table\n",
    "\n",
    "def create_tables(config, connection):\n",
    "    cur = connection.cursor()\n",
    "    for table in config:\n",
    "        name = table.get('name')\n",
    "        schema = table.get('schema')\n",
    "        ddl = f\"\"\"CREATE TABLE IF NOT EXISTS {name} ({schema})\"\"\"\n",
    "        cur.execute(ddl)\n",
    "    connection.commit()"
   ]
  },
  {
   "cell_type": "code",
   "execution_count": null,
   "metadata": {},
   "outputs": [],
   "source": [
    "#Functions for loading the tables with bulk data\n",
    "\n",
    "def load_tables(config, connection,ip=True):\n",
    "    \"\"\"If ip==True it will load input data else it will load the model scored output data\"\"\"\n",
    "    # iterate and load\n",
    "    cur = connection.cursor()\n",
    "    data_path_ip = \"D:/data_science/revolut_challenge/data\"     #Input data location\n",
    "    data_path_op = \"D:/data_science/revolut_challenge/deliverables/data\"  #Output data location\n",
    "    for table in config:\n",
    "        table_name = table.get('name')\n",
    "        if ip == True:\n",
    "            table_source = os.path.join(data_path_ip,(f\"{table_name}.csv\"))\n",
    "        else:\n",
    "            table_source = os.path.join(data_path_op,(f\"{table_name}.csv\"))\n",
    "        with open(table_source, 'r') as f:\n",
    "            next(f)\n",
    "            cur.copy_expert(f\"COPY {table_name} FROM STDIN CSV NULL AS ''\", f)\n",
    "        connection.commit()"
   ]
  },
  {
   "cell_type": "markdown",
   "metadata": {},
   "source": [
    "### ETL operation of loading of in input raw tables to PG"
   ]
  },
  {
   "cell_type": "code",
   "execution_count": 25,
   "metadata": {},
   "outputs": [
    {
     "name": "stderr",
     "output_type": "stream",
     "text": [
      "c:\\users\\sourish\\anaconda3\\lib\\site-packages\\ipykernel_launcher.py:4: YAMLLoadWarning:\n",
      "\n",
      "calling yaml.load() without Loader=... is deprecated, as the default Loader is unsafe. Please read https://msg.pyyaml.org/load for full details.\n",
      "\n"
     ]
    }
   ],
   "source": [
    "#creating and Loading the input raw tables \n",
    "\n",
    "with open(\"D:/data_science/revolut_challenge/misc/schemas.yaml\") as schema_file:  #schema yaml for all Input tables\n",
    "    config = yaml.load(schema_file)\n",
    "create_tables(config, connection)\n",
    "load_tables(config, connection,ip=True)"
   ]
  },
  {
   "cell_type": "markdown",
   "metadata": {},
   "source": [
    "### Comparing data read from PG database and from local drive"
   ]
  },
  {
   "cell_type": "code",
   "execution_count": 35,
   "metadata": {},
   "outputs": [
    {
     "name": "stdout",
     "output_type": "stream",
     "text": [
      "data reading\n",
      "Data Read from local drive\n"
     ]
    },
    {
     "data": {
      "text/html": [
       "<div>\n",
       "<style scoped>\n",
       "    .dataframe tbody tr th:only-of-type {\n",
       "        vertical-align: middle;\n",
       "    }\n",
       "\n",
       "    .dataframe tbody tr th {\n",
       "        vertical-align: top;\n",
       "    }\n",
       "\n",
       "    .dataframe thead th {\n",
       "        text-align: right;\n",
       "    }\n",
       "</style>\n",
       "<table border=\"1\" class=\"dataframe\">\n",
       "  <thead>\n",
       "    <tr style=\"text-align: right;\">\n",
       "      <th></th>\n",
       "      <th>CODE</th>\n",
       "      <th>NAME</th>\n",
       "      <th>CODE3</th>\n",
       "      <th>NUMCODE</th>\n",
       "      <th>PHONECODE</th>\n",
       "    </tr>\n",
       "  </thead>\n",
       "  <tbody>\n",
       "    <tr>\n",
       "      <th>0</th>\n",
       "      <td>AF</td>\n",
       "      <td>Afghanistan</td>\n",
       "      <td>AFG</td>\n",
       "      <td>4</td>\n",
       "      <td>93</td>\n",
       "    </tr>\n",
       "    <tr>\n",
       "      <th>1</th>\n",
       "      <td>AL</td>\n",
       "      <td>Albania</td>\n",
       "      <td>ALB</td>\n",
       "      <td>8</td>\n",
       "      <td>355</td>\n",
       "    </tr>\n",
       "    <tr>\n",
       "      <th>2</th>\n",
       "      <td>DZ</td>\n",
       "      <td>Algeria</td>\n",
       "      <td>DZA</td>\n",
       "      <td>12</td>\n",
       "      <td>213</td>\n",
       "    </tr>\n",
       "    <tr>\n",
       "      <th>3</th>\n",
       "      <td>AS</td>\n",
       "      <td>American Samoa</td>\n",
       "      <td>ASM</td>\n",
       "      <td>16</td>\n",
       "      <td>1684</td>\n",
       "    </tr>\n",
       "    <tr>\n",
       "      <th>4</th>\n",
       "      <td>AO</td>\n",
       "      <td>Angola</td>\n",
       "      <td>AGO</td>\n",
       "      <td>24</td>\n",
       "      <td>244</td>\n",
       "    </tr>\n",
       "  </tbody>\n",
       "</table>\n",
       "</div>"
      ],
      "text/plain": [
       "  CODE            NAME CODE3  NUMCODE  PHONECODE\n",
       "0   AF     Afghanistan   AFG        4         93\n",
       "1   AL         Albania   ALB        8        355\n",
       "2   DZ         Algeria   DZA       12        213\n",
       "3   AS  American Samoa   ASM       16       1684\n",
       "4   AO          Angola   AGO       24        244"
      ]
     },
     "metadata": {},
     "output_type": "display_data"
    },
    {
     "name": "stdout",
     "output_type": "stream",
     "text": [
      "Data Read from Postgres DB-revolute_challenge\n"
     ]
    },
    {
     "data": {
      "text/html": [
       "<div>\n",
       "<style scoped>\n",
       "    .dataframe tbody tr th:only-of-type {\n",
       "        vertical-align: middle;\n",
       "    }\n",
       "\n",
       "    .dataframe tbody tr th {\n",
       "        vertical-align: top;\n",
       "    }\n",
       "\n",
       "    .dataframe thead th {\n",
       "        text-align: right;\n",
       "    }\n",
       "</style>\n",
       "<table border=\"1\" class=\"dataframe\">\n",
       "  <thead>\n",
       "    <tr style=\"text-align: right;\">\n",
       "      <th></th>\n",
       "      <th>CODE</th>\n",
       "      <th>NAME</th>\n",
       "      <th>CODE3</th>\n",
       "      <th>NUMCODE</th>\n",
       "      <th>PHONECODE</th>\n",
       "    </tr>\n",
       "  </thead>\n",
       "  <tbody>\n",
       "    <tr>\n",
       "      <th>0</th>\n",
       "      <td>AF</td>\n",
       "      <td>Afghanistan</td>\n",
       "      <td>AFG</td>\n",
       "      <td>4</td>\n",
       "      <td>93</td>\n",
       "    </tr>\n",
       "    <tr>\n",
       "      <th>1</th>\n",
       "      <td>AL</td>\n",
       "      <td>Albania</td>\n",
       "      <td>ALB</td>\n",
       "      <td>8</td>\n",
       "      <td>355</td>\n",
       "    </tr>\n",
       "    <tr>\n",
       "      <th>2</th>\n",
       "      <td>DZ</td>\n",
       "      <td>Algeria</td>\n",
       "      <td>DZA</td>\n",
       "      <td>12</td>\n",
       "      <td>213</td>\n",
       "    </tr>\n",
       "    <tr>\n",
       "      <th>3</th>\n",
       "      <td>AS</td>\n",
       "      <td>American Samoa</td>\n",
       "      <td>ASM</td>\n",
       "      <td>16</td>\n",
       "      <td>1684</td>\n",
       "    </tr>\n",
       "    <tr>\n",
       "      <th>4</th>\n",
       "      <td>AO</td>\n",
       "      <td>Angola</td>\n",
       "      <td>AGO</td>\n",
       "      <td>24</td>\n",
       "      <td>244</td>\n",
       "    </tr>\n",
       "  </tbody>\n",
       "</table>\n",
       "</div>"
      ],
      "text/plain": [
       "  CODE            NAME CODE3  NUMCODE  PHONECODE\n",
       "0   AF     Afghanistan   AFG        4         93\n",
       "1   AL         Albania   ALB        8        355\n",
       "2   DZ         Algeria   DZA       12        213\n",
       "3   AS  American Samoa   ASM       16       1684\n",
       "4   AO          Angola   AGO       24        244"
      ]
     },
     "metadata": {},
     "output_type": "display_data"
    },
    {
     "name": "stdout",
     "output_type": "stream",
     "text": [
      "Complete Data read\n"
     ]
    }
   ],
   "source": [
    "#Testing wheather data loaded properly-Comparing no of rows for country table\n",
    "\n",
    "try:\n",
    "    cur = connection.cursor()\n",
    "    cur.execute(\"\"\"SELECT * FROM countries\"\"\") \n",
    "    rows = cur.fetchall()\n",
    "    print('data reading')\n",
    "except:\n",
    "    print('data not read')\n",
    "    \n",
    "os.chdir('D:/data_science/revolut_challenge/data')    \n",
    "country_drive = pd.read_csv('countries.csv')\n",
    "country_pg=pd.DataFrame(rows,columns=country_drive.columns)\n",
    "print('Data Read from local drive')\n",
    "display(country_drive.head(5))\n",
    "print('Data Read from Postgres DB-revolute_challenge')\n",
    "display(country_drive.head(5))\n",
    "if len(country_drive) == len(country_pg):\n",
    "    print('Complete Data read')\n",
    "else:\n",
    "    print('Complete Data not read')"
   ]
  },
  {
   "cell_type": "markdown",
   "metadata": {},
   "source": [
    "### Creating output(Patrol/user action)placeholder table to database to load data later "
   ]
  },
  {
   "cell_type": "code",
   "execution_count": null,
   "metadata": {},
   "outputs": [],
   "source": [
    "#creating output tables \n",
    "\n",
    "with open(\"D:/data_science/revolut_challenge/deliverables/output_schemas.yaml\") as schema_file: #schema yaml for all Input tables\n",
    "    config = yaml.load(schema_file)\n",
    "create_tables(config, connection)\n",
    "#load_tables(config, connection) #We will load these tables after task-2 completion"
   ]
  },
  {
   "cell_type": "markdown",
   "metadata": {},
   "source": [
    "### Table read from database"
   ]
  },
  {
   "cell_type": "code",
   "execution_count": 1482,
   "metadata": {},
   "outputs": [
    {
     "data": {
      "text/html": [
       "<div>\n",
       "<style scoped>\n",
       "    .dataframe tbody tr th:only-of-type {\n",
       "        vertical-align: middle;\n",
       "    }\n",
       "\n",
       "    .dataframe tbody tr th {\n",
       "        vertical-align: top;\n",
       "    }\n",
       "\n",
       "    .dataframe thead th {\n",
       "        text-align: right;\n",
       "    }\n",
       "</style>\n",
       "<table border=\"1\" class=\"dataframe\">\n",
       "  <thead>\n",
       "    <tr style=\"text-align: right;\">\n",
       "      <th></th>\n",
       "      <th>id</th>\n",
       "      <th>has_email</th>\n",
       "      <th>phone_country</th>\n",
       "      <th>is_fraudster</th>\n",
       "      <th>terms_version</th>\n",
       "      <th>created_date</th>\n",
       "      <th>state</th>\n",
       "      <th>country</th>\n",
       "      <th>birth_year</th>\n",
       "      <th>kyc</th>\n",
       "      <th>failed_sign_in_attempts</th>\n",
       "    </tr>\n",
       "  </thead>\n",
       "  <tbody>\n",
       "    <tr>\n",
       "      <th>0</th>\n",
       "      <td>1872820f-e3ac-4c02-bdc7-727897b60043</td>\n",
       "      <td>True</td>\n",
       "      <td>GB||JE||IM||GG</td>\n",
       "      <td>False</td>\n",
       "      <td>2018-05-25</td>\n",
       "      <td>2017-08-06 07:33:33.341</td>\n",
       "      <td>ACTIVE</td>\n",
       "      <td>GB</td>\n",
       "      <td>1971</td>\n",
       "      <td>PASSED</td>\n",
       "      <td>0</td>\n",
       "    </tr>\n",
       "  </tbody>\n",
       "</table>\n",
       "</div>"
      ],
      "text/plain": [
       "                                     id  has_email   phone_country  \\\n",
       "0  1872820f-e3ac-4c02-bdc7-727897b60043       True  GB||JE||IM||GG   \n",
       "\n",
       "   is_fraudster terms_version            created_date   state country  \\\n",
       "0         False    2018-05-25 2017-08-06 07:33:33.341  ACTIVE      GB   \n",
       "\n",
       "   birth_year     kyc  failed_sign_in_attempts  \n",
       "0        1971  PASSED                        0  "
      ]
     },
     "metadata": {},
     "output_type": "display_data"
    },
    {
     "data": {
      "text/html": [
       "<div>\n",
       "<style scoped>\n",
       "    .dataframe tbody tr th:only-of-type {\n",
       "        vertical-align: middle;\n",
       "    }\n",
       "\n",
       "    .dataframe tbody tr th {\n",
       "        vertical-align: top;\n",
       "    }\n",
       "\n",
       "    .dataframe thead th {\n",
       "        text-align: right;\n",
       "    }\n",
       "</style>\n",
       "<table border=\"1\" class=\"dataframe\">\n",
       "  <thead>\n",
       "    <tr style=\"text-align: right;\">\n",
       "      <th></th>\n",
       "      <th>currency</th>\n",
       "      <th>amount</th>\n",
       "      <th>state</th>\n",
       "      <th>created_date</th>\n",
       "      <th>merchant_category</th>\n",
       "      <th>merchant_country</th>\n",
       "      <th>entry_method</th>\n",
       "      <th>user_id</th>\n",
       "      <th>type</th>\n",
       "      <th>source</th>\n",
       "      <th>id</th>\n",
       "      <th>amount_usd</th>\n",
       "    </tr>\n",
       "  </thead>\n",
       "  <tbody>\n",
       "    <tr>\n",
       "      <th>0</th>\n",
       "      <td>GBP</td>\n",
       "      <td>175</td>\n",
       "      <td>COMPLETED</td>\n",
       "      <td>2017-12-20 12:46:20.294</td>\n",
       "      <td>cafe</td>\n",
       "      <td>GBR</td>\n",
       "      <td>cont</td>\n",
       "      <td>8f99c254-7cf2-4e35-b7e4-53804d42445d</td>\n",
       "      <td>CARD_PAYMENT</td>\n",
       "      <td>GAIA</td>\n",
       "      <td>b3332e6f-7865-4d6e-b6a5-370bc75568d8</td>\n",
       "      <td>220</td>\n",
       "    </tr>\n",
       "  </tbody>\n",
       "</table>\n",
       "</div>"
      ],
      "text/plain": [
       "  currency  amount      state            created_date merchant_category  \\\n",
       "0      GBP     175  COMPLETED 2017-12-20 12:46:20.294              cafe   \n",
       "\n",
       "  merchant_country entry_method                               user_id  \\\n",
       "0              GBR         cont  8f99c254-7cf2-4e35-b7e4-53804d42445d   \n",
       "\n",
       "           type source                                    id  amount_usd  \n",
       "0  CARD_PAYMENT   GAIA  b3332e6f-7865-4d6e-b6a5-370bc75568d8         220  "
      ]
     },
     "metadata": {},
     "output_type": "display_data"
    },
    {
     "data": {
      "text/html": [
       "<div>\n",
       "<style scoped>\n",
       "    .dataframe tbody tr th:only-of-type {\n",
       "        vertical-align: middle;\n",
       "    }\n",
       "\n",
       "    .dataframe tbody tr th {\n",
       "        vertical-align: top;\n",
       "    }\n",
       "\n",
       "    .dataframe thead th {\n",
       "        text-align: right;\n",
       "    }\n",
       "</style>\n",
       "<table border=\"1\" class=\"dataframe\">\n",
       "  <thead>\n",
       "    <tr style=\"text-align: right;\">\n",
       "      <th></th>\n",
       "      <th>ccy</th>\n",
       "      <th>exponent</th>\n",
       "      <th>is_crypto</th>\n",
       "    </tr>\n",
       "  </thead>\n",
       "  <tbody>\n",
       "    <tr>\n",
       "      <th>0</th>\n",
       "      <td>AED</td>\n",
       "      <td>2</td>\n",
       "      <td>False</td>\n",
       "    </tr>\n",
       "  </tbody>\n",
       "</table>\n",
       "</div>"
      ],
      "text/plain": [
       "   ccy  exponent  is_crypto\n",
       "0  AED         2      False"
      ]
     },
     "metadata": {},
     "output_type": "display_data"
    },
    {
     "data": {
      "text/html": [
       "<div>\n",
       "<style scoped>\n",
       "    .dataframe tbody tr th:only-of-type {\n",
       "        vertical-align: middle;\n",
       "    }\n",
       "\n",
       "    .dataframe tbody tr th {\n",
       "        vertical-align: top;\n",
       "    }\n",
       "\n",
       "    .dataframe thead th {\n",
       "        text-align: right;\n",
       "    }\n",
       "</style>\n",
       "<table border=\"1\" class=\"dataframe\">\n",
       "  <thead>\n",
       "    <tr style=\"text-align: right;\">\n",
       "      <th></th>\n",
       "      <th>code</th>\n",
       "      <th>name</th>\n",
       "      <th>code3</th>\n",
       "      <th>numcode</th>\n",
       "      <th>phonecode</th>\n",
       "    </tr>\n",
       "  </thead>\n",
       "  <tbody>\n",
       "    <tr>\n",
       "      <th>0</th>\n",
       "      <td>AF</td>\n",
       "      <td>Afghanistan</td>\n",
       "      <td>AFG</td>\n",
       "      <td>4</td>\n",
       "      <td>93</td>\n",
       "    </tr>\n",
       "  </tbody>\n",
       "</table>\n",
       "</div>"
      ],
      "text/plain": [
       "  code         name code3  numcode  phonecode\n",
       "0   AF  Afghanistan   AFG        4         93"
      ]
     },
     "metadata": {},
     "output_type": "display_data"
    }
   ],
   "source": [
    "cur = connection.cursor()\n",
    "\n",
    "#Users\n",
    "cur.execute(\"Select * FROM users\")\n",
    "rows = cur.fetchall()\n",
    "colnames = [desc[0] for desc in cur.description]\n",
    "users = pd.DataFrame(rows)\n",
    "users.columns = colnames\n",
    "display(users.head(1))\n",
    "\n",
    "#transactions\n",
    "cur.execute(\"Select * FROM transactions\")\n",
    "rows = cur.fetchall()\n",
    "colnames = [desc[0] for desc in cur.description]\n",
    "transactions = pd.DataFrame(rows)\n",
    "transactions.columns = colnames\n",
    "display(transactions.head(1))\n",
    "\n",
    "#currency_details\n",
    "cur.execute(\"Select * FROM currency_details\")\n",
    "rows = cur.fetchall()\n",
    "colnames = [desc[0] for desc in cur.description]\n",
    "currency_details = pd.DataFrame(rows)\n",
    "currency_details.columns = colnames\n",
    "display(currency_details.head(1))\n",
    "\n",
    "#countries\n",
    "cur.execute(\"Select * FROM countries\")\n",
    "rows = cur.fetchall()\n",
    "colnames = [desc[0] for desc in cur.description]\n",
    "countries = pd.DataFrame(rows)\n",
    "countries.columns = colnames\n",
    "display(countries.head(1))"
   ]
  },
  {
   "cell_type": "markdown",
   "metadata": {},
   "source": [
    "#### Table read from drive"
   ]
  },
  {
   "cell_type": "code",
   "execution_count": 1484,
   "metadata": {},
   "outputs": [],
   "source": [
    "os.chdir('D:/data_science/revolut_challenge/data')\n",
    "users=pd.read_csv('users.csv')\n",
    "transactions = pd.read_csv('transactions.csv')\n",
    "fraudsters = pd.read_csv('fraudsters.csv')\n",
    "currency_details = pd.read_csv('currency_details.csv')\n",
    "countries = pd.read_csv('countries.csv')"
   ]
  },
  {
   "cell_type": "markdown",
   "metadata": {},
   "source": [
    "### So All set for database creation,table creation,storing and retrieving data to and from PG database."
   ]
  },
  {
   "cell_type": "markdown",
   "metadata": {},
   "source": [
    "## Part-II-  Although through out the entire exercise there are few more database operations, now in rest of the Jupyter note-book we will focus on EXPLORATION, ANALYSIS, MODELLING & OPERATIONALIZATION user level fraud detection model"
   ]
  },
  {
   "cell_type": "markdown",
   "metadata": {},
   "source": [
    "### Data preparation and feature engineering- \n",
    "\n",
    "#### -To prepare user level feature data we need to perform both these operations simultaneously. We will first create as many as features from transactions and other tables and then apply suitable feature selection technique. "
   ]
  },
  {
   "cell_type": "code",
   "execution_count": 1485,
   "metadata": {},
   "outputs": [
    {
     "name": "stdout",
     "output_type": "stream",
     "text": [
      "(688651, 12)\n",
      "transactions data has total 8021 unique users\n"
     ]
    },
    {
     "data": {
      "text/html": [
       "<div>\n",
       "<style scoped>\n",
       "    .dataframe tbody tr th:only-of-type {\n",
       "        vertical-align: middle;\n",
       "    }\n",
       "\n",
       "    .dataframe tbody tr th {\n",
       "        vertical-align: top;\n",
       "    }\n",
       "\n",
       "    .dataframe thead th {\n",
       "        text-align: right;\n",
       "    }\n",
       "</style>\n",
       "<table border=\"1\" class=\"dataframe\">\n",
       "  <thead>\n",
       "    <tr style=\"text-align: right;\">\n",
       "      <th></th>\n",
       "      <th>CURRENCY</th>\n",
       "      <th>AMOUNT</th>\n",
       "      <th>STATE</th>\n",
       "      <th>CREATED_DATE</th>\n",
       "      <th>MERCHANT_CATEGORY</th>\n",
       "      <th>MERCHANT_COUNTRY</th>\n",
       "      <th>ENTRY_METHOD</th>\n",
       "      <th>USER_ID</th>\n",
       "      <th>TYPE</th>\n",
       "      <th>SOURCE</th>\n",
       "      <th>ID</th>\n",
       "      <th>AMOUNT_USD</th>\n",
       "    </tr>\n",
       "  </thead>\n",
       "  <tbody>\n",
       "    <tr>\n",
       "      <th>0</th>\n",
       "      <td>GBP</td>\n",
       "      <td>175</td>\n",
       "      <td>COMPLETED</td>\n",
       "      <td>2017-12-20 12:46:20.294</td>\n",
       "      <td>cafe</td>\n",
       "      <td>GBR</td>\n",
       "      <td>cont</td>\n",
       "      <td>8f99c254-7cf2-4e35-b7e4-53804d42445d</td>\n",
       "      <td>CARD_PAYMENT</td>\n",
       "      <td>GAIA</td>\n",
       "      <td>b3332e6f-7865-4d6e-b6a5-370bc75568d8</td>\n",
       "      <td>220</td>\n",
       "    </tr>\n",
       "    <tr>\n",
       "      <th>1</th>\n",
       "      <td>EUR</td>\n",
       "      <td>2593</td>\n",
       "      <td>COMPLETED</td>\n",
       "      <td>2017-12-20 12:38:47.232</td>\n",
       "      <td>bar</td>\n",
       "      <td>AUS</td>\n",
       "      <td>cont</td>\n",
       "      <td>ed773c34-2b83-4f70-a691-6a7aa1cb9f11</td>\n",
       "      <td>CARD_PAYMENT</td>\n",
       "      <td>GAIA</td>\n",
       "      <td>853d9ff8-a007-40ef-91a2-7d81e29a309a</td>\n",
       "      <td>2885</td>\n",
       "    </tr>\n",
       "    <tr>\n",
       "      <th>2</th>\n",
       "      <td>EUR</td>\n",
       "      <td>1077</td>\n",
       "      <td>COMPLETED</td>\n",
       "      <td>2017-12-20 12:34:39.668</td>\n",
       "      <td>NaN</td>\n",
       "      <td>CZE</td>\n",
       "      <td>cont</td>\n",
       "      <td>eb349cc1-e986-4bf4-bb75-72280a7b8680</td>\n",
       "      <td>CARD_PAYMENT</td>\n",
       "      <td>GAIA</td>\n",
       "      <td>04de8238-7828-4e46-91f1-050a9aa7a9df</td>\n",
       "      <td>1198</td>\n",
       "    </tr>\n",
       "    <tr>\n",
       "      <th>3</th>\n",
       "      <td>GBP</td>\n",
       "      <td>198</td>\n",
       "      <td>COMPLETED</td>\n",
       "      <td>2017-12-20 12:45:50.555</td>\n",
       "      <td>supermarket</td>\n",
       "      <td>GBR</td>\n",
       "      <td>cont</td>\n",
       "      <td>dc78fbc4-c936-45d3-a813-e2477ac6d74b</td>\n",
       "      <td>CARD_PAYMENT</td>\n",
       "      <td>GAIA</td>\n",
       "      <td>2b790b9b-c312-4098-a4b3-4830fc8cda53</td>\n",
       "      <td>249</td>\n",
       "    </tr>\n",
       "    <tr>\n",
       "      <th>4</th>\n",
       "      <td>EUR</td>\n",
       "      <td>990</td>\n",
       "      <td>COMPLETED</td>\n",
       "      <td>2017-12-20 12:45:32.722</td>\n",
       "      <td>NaN</td>\n",
       "      <td>FRA</td>\n",
       "      <td>cont</td>\n",
       "      <td>32958a5c-2532-42f7-94f9-127f2a812a55</td>\n",
       "      <td>CARD_PAYMENT</td>\n",
       "      <td>GAIA</td>\n",
       "      <td>6469fc3a-e535-41e9-91b9-acb46d1cc65d</td>\n",
       "      <td>1101</td>\n",
       "    </tr>\n",
       "    <tr>\n",
       "      <th>5</th>\n",
       "      <td>EUR</td>\n",
       "      <td>2000</td>\n",
       "      <td>REVERTED</td>\n",
       "      <td>2017-12-20 12:44:14.216</td>\n",
       "      <td>NaN</td>\n",
       "      <td>NaN</td>\n",
       "      <td>misc</td>\n",
       "      <td>7a7ebaa8-6c24-4c4f-bb09-c30b3b98b73c</td>\n",
       "      <td>TOPUP</td>\n",
       "      <td>HERA</td>\n",
       "      <td>b074480b-d09b-40cb-aed3-e45039ae8e25</td>\n",
       "      <td>2225</td>\n",
       "    </tr>\n",
       "    <tr>\n",
       "      <th>6</th>\n",
       "      <td>GBP</td>\n",
       "      <td>300</td>\n",
       "      <td>COMPLETED</td>\n",
       "      <td>2017-12-20 12:44:10.132</td>\n",
       "      <td>NaN</td>\n",
       "      <td>GBR</td>\n",
       "      <td>chip</td>\n",
       "      <td>c069a845-b843-475e-af4f-a27e379f1c76</td>\n",
       "      <td>CARD_PAYMENT</td>\n",
       "      <td>GAIA</td>\n",
       "      <td>8c4328f3-5f39-4526-9ff8-cddb72cea623</td>\n",
       "      <td>378</td>\n",
       "    </tr>\n",
       "    <tr>\n",
       "      <th>7</th>\n",
       "      <td>EUR</td>\n",
       "      <td>1000</td>\n",
       "      <td>COMPLETED</td>\n",
       "      <td>2017-12-20 12:42:58.51</td>\n",
       "      <td>NaN</td>\n",
       "      <td>GRC</td>\n",
       "      <td>chip</td>\n",
       "      <td>f9588784-a994-4bfc-b4a0-d97f8c4941f7</td>\n",
       "      <td>CARD_PAYMENT</td>\n",
       "      <td>GAIA</td>\n",
       "      <td>f8bd44b7-a812-4468-9994-850d4dc1d0b0</td>\n",
       "      <td>1112</td>\n",
       "    </tr>\n",
       "    <tr>\n",
       "      <th>8</th>\n",
       "      <td>GBP</td>\n",
       "      <td>1000</td>\n",
       "      <td>COMPLETED</td>\n",
       "      <td>2017-12-20 12:42:52.014</td>\n",
       "      <td>NaN</td>\n",
       "      <td>NaN</td>\n",
       "      <td>misc</td>\n",
       "      <td>c248610a-3e08-4620-a6c3-89eb338fe155</td>\n",
       "      <td>TOPUP</td>\n",
       "      <td>HERA</td>\n",
       "      <td>1e819f57-8aed-4602-ae8f-58e1862836f0</td>\n",
       "      <td>1260</td>\n",
       "    </tr>\n",
       "    <tr>\n",
       "      <th>9</th>\n",
       "      <td>EUR</td>\n",
       "      <td>80</td>\n",
       "      <td>COMPLETED</td>\n",
       "      <td>2017-12-20 12:41:53.683</td>\n",
       "      <td>NaN</td>\n",
       "      <td>LTU</td>\n",
       "      <td>cont</td>\n",
       "      <td>a827cf38-cb43-46af-b728-413c313b5b6d</td>\n",
       "      <td>CARD_PAYMENT</td>\n",
       "      <td>GAIA</td>\n",
       "      <td>cabba07c-d0f1-474e-b3a3-53ed50e21c38</td>\n",
       "      <td>89</td>\n",
       "    </tr>\n",
       "    <tr>\n",
       "      <th>10</th>\n",
       "      <td>EUR</td>\n",
       "      <td>100</td>\n",
       "      <td>REVERTED</td>\n",
       "      <td>2017-12-20 12:41:42.404</td>\n",
       "      <td>NaN</td>\n",
       "      <td>FRA</td>\n",
       "      <td>manu</td>\n",
       "      <td>c6a164f7-0e40-408c-bf51-7d83407c9a93</td>\n",
       "      <td>CARD_PAYMENT</td>\n",
       "      <td>GAIA</td>\n",
       "      <td>cc4e064a-6aed-4f1a-8e02-bce82bbcbd35</td>\n",
       "      <td>111</td>\n",
       "    </tr>\n",
       "    <tr>\n",
       "      <th>11</th>\n",
       "      <td>EUR</td>\n",
       "      <td>9125</td>\n",
       "      <td>COMPLETED</td>\n",
       "      <td>2017-12-20 13:43:36.337</td>\n",
       "      <td>NaN</td>\n",
       "      <td>LTU</td>\n",
       "      <td>chip</td>\n",
       "      <td>c10338bc-dbf7-419b-a347-8d894036b7f2</td>\n",
       "      <td>CARD_PAYMENT</td>\n",
       "      <td>GAIA</td>\n",
       "      <td>9ce3c73b-68b3-40b2-bef3-2305c28b6587</td>\n",
       "      <td>10155</td>\n",
       "    </tr>\n",
       "    <tr>\n",
       "      <th>12</th>\n",
       "      <td>GBP</td>\n",
       "      <td>3000</td>\n",
       "      <td>COMPLETED</td>\n",
       "      <td>2017-12-20 13:41:34.973</td>\n",
       "      <td>NaN</td>\n",
       "      <td>GBR</td>\n",
       "      <td>cont</td>\n",
       "      <td>012c2e0a-ee3a-4a05-a42b-111cb628c153</td>\n",
       "      <td>CARD_PAYMENT</td>\n",
       "      <td>GAIA</td>\n",
       "      <td>7b0598e3-4edc-407f-90ab-d5d51740376f</td>\n",
       "      <td>3782</td>\n",
       "    </tr>\n",
       "    <tr>\n",
       "      <th>13</th>\n",
       "      <td>EUR</td>\n",
       "      <td>350</td>\n",
       "      <td>COMPLETED</td>\n",
       "      <td>2017-12-20 13:41:12.979</td>\n",
       "      <td>florist</td>\n",
       "      <td>LTU</td>\n",
       "      <td>cont</td>\n",
       "      <td>e5aeaf76-8d99-4b27-b450-9d60de05aa6b</td>\n",
       "      <td>CARD_PAYMENT</td>\n",
       "      <td>GAIA</td>\n",
       "      <td>5929f8a6-b20a-4137-aaed-89e73e9670de</td>\n",
       "      <td>389</td>\n",
       "    </tr>\n",
       "    <tr>\n",
       "      <th>14</th>\n",
       "      <td>EUR</td>\n",
       "      <td>3496</td>\n",
       "      <td>COMPLETED</td>\n",
       "      <td>2017-12-20 12:57:12.663</td>\n",
       "      <td>supermarket</td>\n",
       "      <td>FRA</td>\n",
       "      <td>chip</td>\n",
       "      <td>f699b98a-3916-48fe-b110-848016ea3051</td>\n",
       "      <td>CARD_PAYMENT</td>\n",
       "      <td>GAIA</td>\n",
       "      <td>abe658a9-3dec-4648-883c-5796814101fe</td>\n",
       "      <td>3890</td>\n",
       "    </tr>\n",
       "    <tr>\n",
       "      <th>15</th>\n",
       "      <td>GBP</td>\n",
       "      <td>480</td>\n",
       "      <td>COMPLETED</td>\n",
       "      <td>2017-12-20 12:56:54.918</td>\n",
       "      <td>NaN</td>\n",
       "      <td>GBR</td>\n",
       "      <td>misc</td>\n",
       "      <td>a6f4e1fa-b721-4920-98b5-60e845d70518</td>\n",
       "      <td>CARD_PAYMENT</td>\n",
       "      <td>GAIA</td>\n",
       "      <td>e2840ec1-cbaa-4049-8892-31588d1dcbc3</td>\n",
       "      <td>605</td>\n",
       "    </tr>\n",
       "    <tr>\n",
       "      <th>16</th>\n",
       "      <td>GBP</td>\n",
       "      <td>697</td>\n",
       "      <td>COMPLETED</td>\n",
       "      <td>2017-12-20 12:55:46.066</td>\n",
       "      <td>restaurant</td>\n",
       "      <td>GBR</td>\n",
       "      <td>cont</td>\n",
       "      <td>c248610a-3e08-4620-a6c3-89eb338fe155</td>\n",
       "      <td>CARD_PAYMENT</td>\n",
       "      <td>GAIA</td>\n",
       "      <td>c6a892fa-1bbe-4fbb-89c4-9676bbfa5a48</td>\n",
       "      <td>878</td>\n",
       "    </tr>\n",
       "    <tr>\n",
       "      <th>17</th>\n",
       "      <td>GBP</td>\n",
       "      <td>330</td>\n",
       "      <td>COMPLETED</td>\n",
       "      <td>2017-12-20 12:55:36.637</td>\n",
       "      <td>NaN</td>\n",
       "      <td>GBR</td>\n",
       "      <td>misc</td>\n",
       "      <td>5077c517-eea8-48e1-b11f-e69ff54233f9</td>\n",
       "      <td>CARD_PAYMENT</td>\n",
       "      <td>GAIA</td>\n",
       "      <td>c863afba-0a13-4ed9-8e93-55610d8ce702</td>\n",
       "      <td>416</td>\n",
       "    </tr>\n",
       "    <tr>\n",
       "      <th>18</th>\n",
       "      <td>EUR</td>\n",
       "      <td>702</td>\n",
       "      <td>COMPLETED</td>\n",
       "      <td>2017-12-20 12:55:31.161</td>\n",
       "      <td>florist</td>\n",
       "      <td>GBR</td>\n",
       "      <td>cont</td>\n",
       "      <td>769c5f83-14e6-427d-bba2-879b3ce4d633</td>\n",
       "      <td>CARD_PAYMENT</td>\n",
       "      <td>GAIA</td>\n",
       "      <td>d18f8441-d337-4e79-ac90-a79b3c86f85d</td>\n",
       "      <td>781</td>\n",
       "    </tr>\n",
       "    <tr>\n",
       "      <th>19</th>\n",
       "      <td>GBP</td>\n",
       "      <td>794</td>\n",
       "      <td>COMPLETED</td>\n",
       "      <td>2017-12-20 12:55:30.025</td>\n",
       "      <td>restaurant</td>\n",
       "      <td>GBR</td>\n",
       "      <td>cont</td>\n",
       "      <td>a997eed9-d248-480e-bdd4-c54e23dd6edb</td>\n",
       "      <td>CARD_PAYMENT</td>\n",
       "      <td>GAIA</td>\n",
       "      <td>48869447-ebbe-4c73-9f55-42486cc32ac8</td>\n",
       "      <td>1000</td>\n",
       "    </tr>\n",
       "    <tr>\n",
       "      <th>20</th>\n",
       "      <td>GBP</td>\n",
       "      <td>4906</td>\n",
       "      <td>COMPLETED</td>\n",
       "      <td>2017-12-20 12:54:48.406</td>\n",
       "      <td>restaurant</td>\n",
       "      <td>SWE</td>\n",
       "      <td>mags</td>\n",
       "      <td>714661e3-b09b-42ef-a7b8-14a90bd455f5</td>\n",
       "      <td>CARD_PAYMENT</td>\n",
       "      <td>GAIA</td>\n",
       "      <td>4dc61636-3d3d-41ea-9173-c6252838caf4</td>\n",
       "      <td>6184</td>\n",
       "    </tr>\n",
       "    <tr>\n",
       "      <th>21</th>\n",
       "      <td>GBP</td>\n",
       "      <td>560</td>\n",
       "      <td>COMPLETED</td>\n",
       "      <td>2017-12-20 12:54:36.632</td>\n",
       "      <td>supermarket</td>\n",
       "      <td>GBR</td>\n",
       "      <td>cont</td>\n",
       "      <td>fb2dc96c-567f-481d-bfb6-782ceb213059</td>\n",
       "      <td>CARD_PAYMENT</td>\n",
       "      <td>GAIA</td>\n",
       "      <td>58ce8116-a683-40fe-ad0f-a44357a111dd</td>\n",
       "      <td>705</td>\n",
       "    </tr>\n",
       "    <tr>\n",
       "      <th>22</th>\n",
       "      <td>GBP</td>\n",
       "      <td>299</td>\n",
       "      <td>COMPLETED</td>\n",
       "      <td>2017-12-20 12:52:58.166</td>\n",
       "      <td>NaN</td>\n",
       "      <td>GBR</td>\n",
       "      <td>chip</td>\n",
       "      <td>c069a845-b843-475e-af4f-a27e379f1c76</td>\n",
       "      <td>CARD_PAYMENT</td>\n",
       "      <td>GAIA</td>\n",
       "      <td>eecc52d4-ea0c-45c4-8dce-62fb1721faf3</td>\n",
       "      <td>376</td>\n",
       "    </tr>\n",
       "    <tr>\n",
       "      <th>23</th>\n",
       "      <td>GBP</td>\n",
       "      <td>150</td>\n",
       "      <td>COMPLETED</td>\n",
       "      <td>2017-12-20 13:02:20.748</td>\n",
       "      <td>NaN</td>\n",
       "      <td>GBR</td>\n",
       "      <td>misc</td>\n",
       "      <td>c2b50874-5091-44be-969c-6e3b4578f668</td>\n",
       "      <td>CARD_PAYMENT</td>\n",
       "      <td>GAIA</td>\n",
       "      <td>1de820e8-d6cb-4a49-8f0c-2205459f035b</td>\n",
       "      <td>189</td>\n",
       "    </tr>\n",
       "    <tr>\n",
       "      <th>24</th>\n",
       "      <td>EUR</td>\n",
       "      <td>1000</td>\n",
       "      <td>COMPLETED</td>\n",
       "      <td>2017-12-20 13:02:11.228</td>\n",
       "      <td>NaN</td>\n",
       "      <td>NaN</td>\n",
       "      <td>misc</td>\n",
       "      <td>d48a22aa-0a97-4390-b204-472be40c6638</td>\n",
       "      <td>TOPUP</td>\n",
       "      <td>LIMOS</td>\n",
       "      <td>17297235-93a3-4168-aef8-576340f80ddb</td>\n",
       "      <td>1112</td>\n",
       "    </tr>\n",
       "    <tr>\n",
       "      <th>25</th>\n",
       "      <td>EUR</td>\n",
       "      <td>30270</td>\n",
       "      <td>COMPLETED</td>\n",
       "      <td>2017-12-20 13:02:04.39</td>\n",
       "      <td>NaN</td>\n",
       "      <td>NaN</td>\n",
       "      <td>misc</td>\n",
       "      <td>672a2944-c97b-421d-8045-97bf99510cc4</td>\n",
       "      <td>BANK_TRANSFER</td>\n",
       "      <td>LETO</td>\n",
       "      <td>ac5b67b2-5f48-4788-a719-323b776e01d7</td>\n",
       "      <td>33689</td>\n",
       "    </tr>\n",
       "    <tr>\n",
       "      <th>26</th>\n",
       "      <td>GBP</td>\n",
       "      <td>999</td>\n",
       "      <td>COMPLETED</td>\n",
       "      <td>2017-12-20 13:01:25.808</td>\n",
       "      <td>supermarket</td>\n",
       "      <td>GBR</td>\n",
       "      <td>chip</td>\n",
       "      <td>39b3f889-bbdd-4d66-93fe-dd75bef27dbf</td>\n",
       "      <td>CARD_PAYMENT</td>\n",
       "      <td>GAIA</td>\n",
       "      <td>d3391d71-6bb0-4f88-80b3-7e783f1088f2</td>\n",
       "      <td>1259</td>\n",
       "    </tr>\n",
       "    <tr>\n",
       "      <th>27</th>\n",
       "      <td>CHF</td>\n",
       "      <td>600000</td>\n",
       "      <td>COMPLETED</td>\n",
       "      <td>2017-12-20 13:01:05.803</td>\n",
       "      <td>NaN</td>\n",
       "      <td>NaN</td>\n",
       "      <td>misc</td>\n",
       "      <td>50711c3a-c796-45d0-b84e-585a2048491d</td>\n",
       "      <td>TOPUP</td>\n",
       "      <td>LIMOS</td>\n",
       "      <td>ad33434c-270c-4fa9-94d0-f434799fa6b5</td>\n",
       "      <td>595838</td>\n",
       "    </tr>\n",
       "    <tr>\n",
       "      <th>28</th>\n",
       "      <td>EUR</td>\n",
       "      <td>180</td>\n",
       "      <td>COMPLETED</td>\n",
       "      <td>2017-12-20 13:00:16.982</td>\n",
       "      <td>NaN</td>\n",
       "      <td>ESP</td>\n",
       "      <td>cont</td>\n",
       "      <td>9bfe89e6-e494-4701-89db-2f0ca9cfd9e9</td>\n",
       "      <td>CARD_PAYMENT</td>\n",
       "      <td>GAIA</td>\n",
       "      <td>090d5721-44cc-43b9-8abf-6c9504188f4c</td>\n",
       "      <td>200</td>\n",
       "    </tr>\n",
       "    <tr>\n",
       "      <th>29</th>\n",
       "      <td>GBP</td>\n",
       "      <td>595</td>\n",
       "      <td>COMPLETED</td>\n",
       "      <td>2017-12-20 13:00:02.379</td>\n",
       "      <td>restaurant</td>\n",
       "      <td>GBR</td>\n",
       "      <td>cont</td>\n",
       "      <td>0b7733cb-fbfe-492e-afac-7243a08a6507</td>\n",
       "      <td>CARD_PAYMENT</td>\n",
       "      <td>GAIA</td>\n",
       "      <td>c5fd71b8-af32-4627-9559-cabf47af7267</td>\n",
       "      <td>750</td>\n",
       "    </tr>\n",
       "    <tr>\n",
       "      <th>...</th>\n",
       "      <td>...</td>\n",
       "      <td>...</td>\n",
       "      <td>...</td>\n",
       "      <td>...</td>\n",
       "      <td>...</td>\n",
       "      <td>...</td>\n",
       "      <td>...</td>\n",
       "      <td>...</td>\n",
       "      <td>...</td>\n",
       "      <td>...</td>\n",
       "      <td>...</td>\n",
       "      <td>...</td>\n",
       "    </tr>\n",
       "    <tr>\n",
       "      <th>688621</th>\n",
       "      <td>EUR</td>\n",
       "      <td>371</td>\n",
       "      <td>COMPLETED</td>\n",
       "      <td>2017-12-20 12:12:50.347</td>\n",
       "      <td>restaurant</td>\n",
       "      <td>CZE</td>\n",
       "      <td>cont</td>\n",
       "      <td>eb349cc1-e986-4bf4-bb75-72280a7b8680</td>\n",
       "      <td>CARD_PAYMENT</td>\n",
       "      <td>GAIA</td>\n",
       "      <td>9054a749-7c3b-4b16-8e45-8d6710c0b40c</td>\n",
       "      <td>412</td>\n",
       "    </tr>\n",
       "    <tr>\n",
       "      <th>688622</th>\n",
       "      <td>EUR</td>\n",
       "      <td>6120</td>\n",
       "      <td>COMPLETED</td>\n",
       "      <td>2017-12-20 12:12:40.873</td>\n",
       "      <td>bar</td>\n",
       "      <td>FRA</td>\n",
       "      <td>chip</td>\n",
       "      <td>8e00b563-d84c-4169-9dcd-b33279bc4049</td>\n",
       "      <td>CARD_PAYMENT</td>\n",
       "      <td>GAIA</td>\n",
       "      <td>6e9fad4e-dabb-4b5b-8bca-a7141ae8da09</td>\n",
       "      <td>6811</td>\n",
       "    </tr>\n",
       "    <tr>\n",
       "      <th>688623</th>\n",
       "      <td>NZD</td>\n",
       "      <td>500</td>\n",
       "      <td>COMPLETED</td>\n",
       "      <td>2017-12-20 12:10:29.433</td>\n",
       "      <td>NaN</td>\n",
       "      <td>NaN</td>\n",
       "      <td>misc</td>\n",
       "      <td>593af380-eea9-4e9b-bc2a-fd680f49534b</td>\n",
       "      <td>P2P</td>\n",
       "      <td>INTERNAL</td>\n",
       "      <td>28289cfa-7b76-4dd0-9035-f9f32327b588</td>\n",
       "      <td>325</td>\n",
       "    </tr>\n",
       "    <tr>\n",
       "      <th>688624</th>\n",
       "      <td>EUR</td>\n",
       "      <td>889</td>\n",
       "      <td>COMPLETED</td>\n",
       "      <td>2017-12-20 12:10:15.338</td>\n",
       "      <td>shopping_mall</td>\n",
       "      <td>FRA</td>\n",
       "      <td>chip</td>\n",
       "      <td>a7bca823-72d7-4193-b523-afa96de47da9</td>\n",
       "      <td>CARD_PAYMENT</td>\n",
       "      <td>GAIA</td>\n",
       "      <td>e0120b44-b5a2-43af-8aa1-0a336460e945</td>\n",
       "      <td>989</td>\n",
       "    </tr>\n",
       "    <tr>\n",
       "      <th>688625</th>\n",
       "      <td>GBP</td>\n",
       "      <td>249</td>\n",
       "      <td>COMPLETED</td>\n",
       "      <td>2017-12-20 12:09:42.575</td>\n",
       "      <td>supermarket</td>\n",
       "      <td>GBR</td>\n",
       "      <td>chip</td>\n",
       "      <td>d2d6f48a-c3bc-4d98-be4a-e822fcf5fd2d</td>\n",
       "      <td>CARD_PAYMENT</td>\n",
       "      <td>GAIA</td>\n",
       "      <td>7edf1e41-8f75-4b3c-8a59-27c5d03ae253</td>\n",
       "      <td>313</td>\n",
       "    </tr>\n",
       "    <tr>\n",
       "      <th>688626</th>\n",
       "      <td>GBP</td>\n",
       "      <td>1672</td>\n",
       "      <td>DECLINED</td>\n",
       "      <td>2017-12-20 12:21:04.539</td>\n",
       "      <td>NaN</td>\n",
       "      <td>ESP</td>\n",
       "      <td>cont</td>\n",
       "      <td>b6980177-6f5d-4418-ab8e-0711dbee1d4c</td>\n",
       "      <td>CARD_PAYMENT</td>\n",
       "      <td>GAIA</td>\n",
       "      <td>67283dfa-29c9-40de-81fa-ab1b0dca0805</td>\n",
       "      <td>2107</td>\n",
       "    </tr>\n",
       "    <tr>\n",
       "      <th>688627</th>\n",
       "      <td>EUR</td>\n",
       "      <td>2000</td>\n",
       "      <td>REVERTED</td>\n",
       "      <td>2017-12-20 12:20:47.688</td>\n",
       "      <td>NaN</td>\n",
       "      <td>NaN</td>\n",
       "      <td>misc</td>\n",
       "      <td>7a7ebaa8-6c24-4c4f-bb09-c30b3b98b73c</td>\n",
       "      <td>TOPUP</td>\n",
       "      <td>HERA</td>\n",
       "      <td>77296a4e-7d19-447e-8654-b3625d3173cf</td>\n",
       "      <td>2225</td>\n",
       "    </tr>\n",
       "    <tr>\n",
       "      <th>688628</th>\n",
       "      <td>EUR</td>\n",
       "      <td>870</td>\n",
       "      <td>COMPLETED</td>\n",
       "      <td>2017-12-20 12:20:17.299</td>\n",
       "      <td>restaurant</td>\n",
       "      <td>LTU</td>\n",
       "      <td>chip</td>\n",
       "      <td>84e22e7f-f2ab-413c-969a-667c78d8885c</td>\n",
       "      <td>CARD_PAYMENT</td>\n",
       "      <td>GAIA</td>\n",
       "      <td>582e7692-f71f-4591-82c5-006bbcf55528</td>\n",
       "      <td>968</td>\n",
       "    </tr>\n",
       "    <tr>\n",
       "      <th>688629</th>\n",
       "      <td>EUR</td>\n",
       "      <td>2000</td>\n",
       "      <td>FAILED</td>\n",
       "      <td>2017-12-20 12:19:57.497</td>\n",
       "      <td>NaN</td>\n",
       "      <td>NaN</td>\n",
       "      <td>misc</td>\n",
       "      <td>7a7ebaa8-6c24-4c4f-bb09-c30b3b98b73c</td>\n",
       "      <td>TOPUP</td>\n",
       "      <td>HERA</td>\n",
       "      <td>f1551ecd-ac7d-4997-9119-676f79e28f10</td>\n",
       "      <td>2225</td>\n",
       "    </tr>\n",
       "    <tr>\n",
       "      <th>688630</th>\n",
       "      <td>CHF</td>\n",
       "      <td>2000</td>\n",
       "      <td>COMPLETED</td>\n",
       "      <td>2017-12-20 12:17:16.78</td>\n",
       "      <td>NaN</td>\n",
       "      <td>CHE</td>\n",
       "      <td>chip</td>\n",
       "      <td>6d782a05-5d6d-4d51-9a3c-971e2cbe2b25</td>\n",
       "      <td>ATM</td>\n",
       "      <td>GAIA</td>\n",
       "      <td>9a22b473-4a19-4c28-8ddc-4005c1beae37</td>\n",
       "      <td>1986</td>\n",
       "    </tr>\n",
       "    <tr>\n",
       "      <th>688631</th>\n",
       "      <td>EUR</td>\n",
       "      <td>495</td>\n",
       "      <td>COMPLETED</td>\n",
       "      <td>2017-12-20 12:16:52.867</td>\n",
       "      <td>convenience_store</td>\n",
       "      <td>IRL</td>\n",
       "      <td>cont</td>\n",
       "      <td>028d7411-f41c-4494-a2c2-d3b7c529a077</td>\n",
       "      <td>CARD_PAYMENT</td>\n",
       "      <td>GAIA</td>\n",
       "      <td>edbab596-a300-4148-95d3-8556aac289bd</td>\n",
       "      <td>550</td>\n",
       "    </tr>\n",
       "    <tr>\n",
       "      <th>688632</th>\n",
       "      <td>EUR</td>\n",
       "      <td>300</td>\n",
       "      <td>COMPLETED</td>\n",
       "      <td>2017-12-20 12:26:28.667</td>\n",
       "      <td>point_of_interest</td>\n",
       "      <td>FRA</td>\n",
       "      <td>manu</td>\n",
       "      <td>4ca0aa7c-f78a-476e-a881-649a9f4efdc2</td>\n",
       "      <td>CARD_PAYMENT</td>\n",
       "      <td>GAIA</td>\n",
       "      <td>5ccdc14c-5f5e-42b0-bdfd-e58b26a24e04</td>\n",
       "      <td>333</td>\n",
       "    </tr>\n",
       "    <tr>\n",
       "      <th>688633</th>\n",
       "      <td>GBP</td>\n",
       "      <td>2000</td>\n",
       "      <td>COMPLETED</td>\n",
       "      <td>2017-12-20 12:25:15.024</td>\n",
       "      <td>NaN</td>\n",
       "      <td>GBR</td>\n",
       "      <td>chip</td>\n",
       "      <td>d2d6f48a-c3bc-4d98-be4a-e822fcf5fd2d</td>\n",
       "      <td>CARD_PAYMENT</td>\n",
       "      <td>GAIA</td>\n",
       "      <td>a21ab112-2442-4952-a8c6-fe14840a072c</td>\n",
       "      <td>2521</td>\n",
       "    </tr>\n",
       "    <tr>\n",
       "      <th>688634</th>\n",
       "      <td>EUR</td>\n",
       "      <td>262</td>\n",
       "      <td>COMPLETED</td>\n",
       "      <td>2017-12-20 12:23:32.986</td>\n",
       "      <td>NaN</td>\n",
       "      <td>NLD</td>\n",
       "      <td>manu</td>\n",
       "      <td>13dcc570-fd32-445a-b320-ac961b036d18</td>\n",
       "      <td>CARD_PAYMENT</td>\n",
       "      <td>GAIA</td>\n",
       "      <td>e05e5074-dbea-423d-922e-58e90cd73b5f</td>\n",
       "      <td>291</td>\n",
       "    </tr>\n",
       "    <tr>\n",
       "      <th>688635</th>\n",
       "      <td>EUR</td>\n",
       "      <td>5629</td>\n",
       "      <td>COMPLETED</td>\n",
       "      <td>2017-12-20 12:23:29.614</td>\n",
       "      <td>home_goods_store</td>\n",
       "      <td>IRL</td>\n",
       "      <td>chip</td>\n",
       "      <td>78018401-b3d1-4373-b53e-25d3bc1e38a9</td>\n",
       "      <td>CARD_PAYMENT</td>\n",
       "      <td>GAIA</td>\n",
       "      <td>de98cd7b-ced0-47b1-96fa-348cdb18b79a</td>\n",
       "      <td>6264</td>\n",
       "    </tr>\n",
       "    <tr>\n",
       "      <th>688636</th>\n",
       "      <td>GBP</td>\n",
       "      <td>1000</td>\n",
       "      <td>COMPLETED</td>\n",
       "      <td>2017-12-20 12:22:41.424</td>\n",
       "      <td>NaN</td>\n",
       "      <td>NaN</td>\n",
       "      <td>misc</td>\n",
       "      <td>ccbc8b46-dea8-4d12-be57-fe5bc93359be</td>\n",
       "      <td>TOPUP</td>\n",
       "      <td>HERA</td>\n",
       "      <td>dfc4d740-9c3e-46c5-8d76-fda4d2f161bd</td>\n",
       "      <td>1260</td>\n",
       "    </tr>\n",
       "    <tr>\n",
       "      <th>688637</th>\n",
       "      <td>GBP</td>\n",
       "      <td>1671</td>\n",
       "      <td>COMPLETED</td>\n",
       "      <td>2017-12-20 12:22:35.214</td>\n",
       "      <td>NaN</td>\n",
       "      <td>ESP</td>\n",
       "      <td>chip</td>\n",
       "      <td>b6980177-6f5d-4418-ab8e-0711dbee1d4c</td>\n",
       "      <td>CARD_PAYMENT</td>\n",
       "      <td>GAIA</td>\n",
       "      <td>1dd7cfb0-7cb5-4b54-885f-d7bcf4418350</td>\n",
       "      <td>2106</td>\n",
       "    </tr>\n",
       "    <tr>\n",
       "      <th>688638</th>\n",
       "      <td>EUR</td>\n",
       "      <td>3394</td>\n",
       "      <td>COMPLETED</td>\n",
       "      <td>2017-12-20 12:22:07.637</td>\n",
       "      <td>NaN</td>\n",
       "      <td>NaN</td>\n",
       "      <td>misc</td>\n",
       "      <td>ccbc8b46-dea8-4d12-be57-fe5bc93359be</td>\n",
       "      <td>BANK_TRANSFER</td>\n",
       "      <td>LETO</td>\n",
       "      <td>14b4111c-aa86-4832-a78d-9491b2eaa29e</td>\n",
       "      <td>3777</td>\n",
       "    </tr>\n",
       "    <tr>\n",
       "      <th>688639</th>\n",
       "      <td>GBP</td>\n",
       "      <td>10000</td>\n",
       "      <td>COMPLETED</td>\n",
       "      <td>2017-12-20 12:21:35.958</td>\n",
       "      <td>NaN</td>\n",
       "      <td>NaN</td>\n",
       "      <td>misc</td>\n",
       "      <td>b6980177-6f5d-4418-ab8e-0711dbee1d4c</td>\n",
       "      <td>TOPUP</td>\n",
       "      <td>HERA</td>\n",
       "      <td>eb91108b-2df7-48af-84a2-ecdbe6175e57</td>\n",
       "      <td>12606</td>\n",
       "    </tr>\n",
       "    <tr>\n",
       "      <th>688640</th>\n",
       "      <td>GBP</td>\n",
       "      <td>210</td>\n",
       "      <td>COMPLETED</td>\n",
       "      <td>2017-12-20 12:21:29.24</td>\n",
       "      <td>NaN</td>\n",
       "      <td>GBR</td>\n",
       "      <td>cont</td>\n",
       "      <td>0bd1abbf-c76a-4e3f-afab-5ccadf19cf66</td>\n",
       "      <td>CARD_PAYMENT</td>\n",
       "      <td>GAIA</td>\n",
       "      <td>a6ad25c1-4380-429a-b128-c8e856fc3d1d</td>\n",
       "      <td>264</td>\n",
       "    </tr>\n",
       "    <tr>\n",
       "      <th>688641</th>\n",
       "      <td>EUR</td>\n",
       "      <td>79</td>\n",
       "      <td>COMPLETED</td>\n",
       "      <td>2017-12-20 12:50:45.693</td>\n",
       "      <td>store</td>\n",
       "      <td>LTU</td>\n",
       "      <td>chip</td>\n",
       "      <td>9b21f471-7db3-49ab-8f6b-66472540e2b5</td>\n",
       "      <td>CARD_PAYMENT</td>\n",
       "      <td>GAIA</td>\n",
       "      <td>99eae850-7563-4f74-a74f-21b63721e094</td>\n",
       "      <td>87</td>\n",
       "    </tr>\n",
       "    <tr>\n",
       "      <th>688642</th>\n",
       "      <td>GBP</td>\n",
       "      <td>599</td>\n",
       "      <td>COMPLETED</td>\n",
       "      <td>2017-12-20 12:50:19.54</td>\n",
       "      <td>NaN</td>\n",
       "      <td>GBR</td>\n",
       "      <td>chip</td>\n",
       "      <td>e641ff3a-7838-405c-9456-1008aa03e66c</td>\n",
       "      <td>CARD_PAYMENT</td>\n",
       "      <td>GAIA</td>\n",
       "      <td>0868eda4-dec5-49a1-94ff-c8505c118556</td>\n",
       "      <td>755</td>\n",
       "    </tr>\n",
       "    <tr>\n",
       "      <th>688643</th>\n",
       "      <td>GBP</td>\n",
       "      <td>280</td>\n",
       "      <td>COMPLETED</td>\n",
       "      <td>2017-12-20 12:48:58.465</td>\n",
       "      <td>NaN</td>\n",
       "      <td>GBR</td>\n",
       "      <td>misc</td>\n",
       "      <td>0b0fa6b1-72ba-41f5-8486-328ec222aa15</td>\n",
       "      <td>CARD_PAYMENT</td>\n",
       "      <td>GAIA</td>\n",
       "      <td>4e0de672-52d8-4d47-8df2-3713d321ab15</td>\n",
       "      <td>352</td>\n",
       "    </tr>\n",
       "    <tr>\n",
       "      <th>688644</th>\n",
       "      <td>GBP</td>\n",
       "      <td>300</td>\n",
       "      <td>COMPLETED</td>\n",
       "      <td>2017-12-20 12:48:54.092</td>\n",
       "      <td>point_of_interest</td>\n",
       "      <td>GBR</td>\n",
       "      <td>cont</td>\n",
       "      <td>834fa452-b75c-45e8-9d1d-638ca5b214f4</td>\n",
       "      <td>CARD_PAYMENT</td>\n",
       "      <td>GAIA</td>\n",
       "      <td>5a95fd0a-51f1-4435-a1c3-60756678a885</td>\n",
       "      <td>378</td>\n",
       "    </tr>\n",
       "    <tr>\n",
       "      <th>688645</th>\n",
       "      <td>GBP</td>\n",
       "      <td>220</td>\n",
       "      <td>COMPLETED</td>\n",
       "      <td>2017-12-20 12:48:33.415</td>\n",
       "      <td>department_store</td>\n",
       "      <td>GBR</td>\n",
       "      <td>cont</td>\n",
       "      <td>8f99c254-7cf2-4e35-b7e4-53804d42445d</td>\n",
       "      <td>CARD_PAYMENT</td>\n",
       "      <td>GAIA</td>\n",
       "      <td>f072fe06-4d7c-4a2c-808d-03e3c9d2844c</td>\n",
       "      <td>277</td>\n",
       "    </tr>\n",
       "    <tr>\n",
       "      <th>688646</th>\n",
       "      <td>GBP</td>\n",
       "      <td>0</td>\n",
       "      <td>REVERTED</td>\n",
       "      <td>2017-12-20 12:48:15.307</td>\n",
       "      <td>NaN</td>\n",
       "      <td>NLD</td>\n",
       "      <td>manu</td>\n",
       "      <td>ee7fce18-8856-49ba-8dc3-105f65cf1541</td>\n",
       "      <td>CARD_PAYMENT</td>\n",
       "      <td>GAIA</td>\n",
       "      <td>e7dca262-3943-4b2d-bf90-3c849cbdcbc2</td>\n",
       "      <td>0</td>\n",
       "    </tr>\n",
       "    <tr>\n",
       "      <th>688647</th>\n",
       "      <td>GBP</td>\n",
       "      <td>1200</td>\n",
       "      <td>COMPLETED</td>\n",
       "      <td>2017-12-20 12:47:54.882</td>\n",
       "      <td>cafe</td>\n",
       "      <td>GBR</td>\n",
       "      <td>cont</td>\n",
       "      <td>4b710a93-5d73-4940-a0f4-a3065a8f3327</td>\n",
       "      <td>CARD_PAYMENT</td>\n",
       "      <td>GAIA</td>\n",
       "      <td>66022e35-cace-4647-848f-7b595ff366c3</td>\n",
       "      <td>1512</td>\n",
       "    </tr>\n",
       "    <tr>\n",
       "      <th>688648</th>\n",
       "      <td>GBP</td>\n",
       "      <td>1000</td>\n",
       "      <td>COMPLETED</td>\n",
       "      <td>2017-12-20 12:47:49.418</td>\n",
       "      <td>NaN</td>\n",
       "      <td>NaN</td>\n",
       "      <td>misc</td>\n",
       "      <td>1bbf9b04-ee79-41c9-80c2-822fca3dc86b</td>\n",
       "      <td>TOPUP</td>\n",
       "      <td>HERA</td>\n",
       "      <td>d58ff01d-636b-40ce-aea2-1dac43259d61</td>\n",
       "      <td>1260</td>\n",
       "    </tr>\n",
       "    <tr>\n",
       "      <th>688649</th>\n",
       "      <td>EUR</td>\n",
       "      <td>689</td>\n",
       "      <td>COMPLETED</td>\n",
       "      <td>2017-12-20 12:46:52.147</td>\n",
       "      <td>restaurant</td>\n",
       "      <td>DEU</td>\n",
       "      <td>cont</td>\n",
       "      <td>2c3f944e-6b86-45e8-ae34-b1c6c32dda2a</td>\n",
       "      <td>CARD_PAYMENT</td>\n",
       "      <td>GAIA</td>\n",
       "      <td>347c7842-82b2-4350-bd4c-6b585901f8ef</td>\n",
       "      <td>766</td>\n",
       "    </tr>\n",
       "    <tr>\n",
       "      <th>688650</th>\n",
       "      <td>EUR</td>\n",
       "      <td>895</td>\n",
       "      <td>COMPLETED</td>\n",
       "      <td>2017-12-20 12:46:30.945</td>\n",
       "      <td>restaurant</td>\n",
       "      <td>IRL</td>\n",
       "      <td>chip</td>\n",
       "      <td>3d487e5e-23a7-4f8e-a174-5e56c8bc93eb</td>\n",
       "      <td>CARD_PAYMENT</td>\n",
       "      <td>GAIA</td>\n",
       "      <td>a1ec875d-109b-4064-a294-c1b161857170</td>\n",
       "      <td>996</td>\n",
       "    </tr>\n",
       "  </tbody>\n",
       "</table>\n",
       "<p>688651 rows × 12 columns</p>\n",
       "</div>"
      ],
      "text/plain": [
       "       CURRENCY  AMOUNT      STATE             CREATED_DATE  \\\n",
       "0           GBP     175  COMPLETED  2017-12-20 12:46:20.294   \n",
       "1           EUR    2593  COMPLETED  2017-12-20 12:38:47.232   \n",
       "2           EUR    1077  COMPLETED  2017-12-20 12:34:39.668   \n",
       "3           GBP     198  COMPLETED  2017-12-20 12:45:50.555   \n",
       "4           EUR     990  COMPLETED  2017-12-20 12:45:32.722   \n",
       "5           EUR    2000   REVERTED  2017-12-20 12:44:14.216   \n",
       "6           GBP     300  COMPLETED  2017-12-20 12:44:10.132   \n",
       "7           EUR    1000  COMPLETED   2017-12-20 12:42:58.51   \n",
       "8           GBP    1000  COMPLETED  2017-12-20 12:42:52.014   \n",
       "9           EUR      80  COMPLETED  2017-12-20 12:41:53.683   \n",
       "10          EUR     100   REVERTED  2017-12-20 12:41:42.404   \n",
       "11          EUR    9125  COMPLETED  2017-12-20 13:43:36.337   \n",
       "12          GBP    3000  COMPLETED  2017-12-20 13:41:34.973   \n",
       "13          EUR     350  COMPLETED  2017-12-20 13:41:12.979   \n",
       "14          EUR    3496  COMPLETED  2017-12-20 12:57:12.663   \n",
       "15          GBP     480  COMPLETED  2017-12-20 12:56:54.918   \n",
       "16          GBP     697  COMPLETED  2017-12-20 12:55:46.066   \n",
       "17          GBP     330  COMPLETED  2017-12-20 12:55:36.637   \n",
       "18          EUR     702  COMPLETED  2017-12-20 12:55:31.161   \n",
       "19          GBP     794  COMPLETED  2017-12-20 12:55:30.025   \n",
       "20          GBP    4906  COMPLETED  2017-12-20 12:54:48.406   \n",
       "21          GBP     560  COMPLETED  2017-12-20 12:54:36.632   \n",
       "22          GBP     299  COMPLETED  2017-12-20 12:52:58.166   \n",
       "23          GBP     150  COMPLETED  2017-12-20 13:02:20.748   \n",
       "24          EUR    1000  COMPLETED  2017-12-20 13:02:11.228   \n",
       "25          EUR   30270  COMPLETED   2017-12-20 13:02:04.39   \n",
       "26          GBP     999  COMPLETED  2017-12-20 13:01:25.808   \n",
       "27          CHF  600000  COMPLETED  2017-12-20 13:01:05.803   \n",
       "28          EUR     180  COMPLETED  2017-12-20 13:00:16.982   \n",
       "29          GBP     595  COMPLETED  2017-12-20 13:00:02.379   \n",
       "...         ...     ...        ...                      ...   \n",
       "688621      EUR     371  COMPLETED  2017-12-20 12:12:50.347   \n",
       "688622      EUR    6120  COMPLETED  2017-12-20 12:12:40.873   \n",
       "688623      NZD     500  COMPLETED  2017-12-20 12:10:29.433   \n",
       "688624      EUR     889  COMPLETED  2017-12-20 12:10:15.338   \n",
       "688625      GBP     249  COMPLETED  2017-12-20 12:09:42.575   \n",
       "688626      GBP    1672   DECLINED  2017-12-20 12:21:04.539   \n",
       "688627      EUR    2000   REVERTED  2017-12-20 12:20:47.688   \n",
       "688628      EUR     870  COMPLETED  2017-12-20 12:20:17.299   \n",
       "688629      EUR    2000     FAILED  2017-12-20 12:19:57.497   \n",
       "688630      CHF    2000  COMPLETED   2017-12-20 12:17:16.78   \n",
       "688631      EUR     495  COMPLETED  2017-12-20 12:16:52.867   \n",
       "688632      EUR     300  COMPLETED  2017-12-20 12:26:28.667   \n",
       "688633      GBP    2000  COMPLETED  2017-12-20 12:25:15.024   \n",
       "688634      EUR     262  COMPLETED  2017-12-20 12:23:32.986   \n",
       "688635      EUR    5629  COMPLETED  2017-12-20 12:23:29.614   \n",
       "688636      GBP    1000  COMPLETED  2017-12-20 12:22:41.424   \n",
       "688637      GBP    1671  COMPLETED  2017-12-20 12:22:35.214   \n",
       "688638      EUR    3394  COMPLETED  2017-12-20 12:22:07.637   \n",
       "688639      GBP   10000  COMPLETED  2017-12-20 12:21:35.958   \n",
       "688640      GBP     210  COMPLETED   2017-12-20 12:21:29.24   \n",
       "688641      EUR      79  COMPLETED  2017-12-20 12:50:45.693   \n",
       "688642      GBP     599  COMPLETED   2017-12-20 12:50:19.54   \n",
       "688643      GBP     280  COMPLETED  2017-12-20 12:48:58.465   \n",
       "688644      GBP     300  COMPLETED  2017-12-20 12:48:54.092   \n",
       "688645      GBP     220  COMPLETED  2017-12-20 12:48:33.415   \n",
       "688646      GBP       0   REVERTED  2017-12-20 12:48:15.307   \n",
       "688647      GBP    1200  COMPLETED  2017-12-20 12:47:54.882   \n",
       "688648      GBP    1000  COMPLETED  2017-12-20 12:47:49.418   \n",
       "688649      EUR     689  COMPLETED  2017-12-20 12:46:52.147   \n",
       "688650      EUR     895  COMPLETED  2017-12-20 12:46:30.945   \n",
       "\n",
       "        MERCHANT_CATEGORY MERCHANT_COUNTRY ENTRY_METHOD  \\\n",
       "0                    cafe              GBR         cont   \n",
       "1                     bar              AUS         cont   \n",
       "2                     NaN              CZE         cont   \n",
       "3             supermarket              GBR         cont   \n",
       "4                     NaN              FRA         cont   \n",
       "5                     NaN              NaN         misc   \n",
       "6                     NaN              GBR         chip   \n",
       "7                     NaN              GRC         chip   \n",
       "8                     NaN              NaN         misc   \n",
       "9                     NaN              LTU         cont   \n",
       "10                    NaN              FRA         manu   \n",
       "11                    NaN              LTU         chip   \n",
       "12                    NaN              GBR         cont   \n",
       "13                florist              LTU         cont   \n",
       "14            supermarket              FRA         chip   \n",
       "15                    NaN              GBR         misc   \n",
       "16             restaurant              GBR         cont   \n",
       "17                    NaN              GBR         misc   \n",
       "18                florist              GBR         cont   \n",
       "19             restaurant              GBR         cont   \n",
       "20             restaurant              SWE         mags   \n",
       "21            supermarket              GBR         cont   \n",
       "22                    NaN              GBR         chip   \n",
       "23                    NaN              GBR         misc   \n",
       "24                    NaN              NaN         misc   \n",
       "25                    NaN              NaN         misc   \n",
       "26            supermarket              GBR         chip   \n",
       "27                    NaN              NaN         misc   \n",
       "28                    NaN              ESP         cont   \n",
       "29             restaurant              GBR         cont   \n",
       "...                   ...              ...          ...   \n",
       "688621         restaurant              CZE         cont   \n",
       "688622                bar              FRA         chip   \n",
       "688623                NaN              NaN         misc   \n",
       "688624      shopping_mall              FRA         chip   \n",
       "688625        supermarket              GBR         chip   \n",
       "688626                NaN              ESP         cont   \n",
       "688627                NaN              NaN         misc   \n",
       "688628         restaurant              LTU         chip   \n",
       "688629                NaN              NaN         misc   \n",
       "688630                NaN              CHE         chip   \n",
       "688631  convenience_store              IRL         cont   \n",
       "688632  point_of_interest              FRA         manu   \n",
       "688633                NaN              GBR         chip   \n",
       "688634                NaN              NLD         manu   \n",
       "688635   home_goods_store              IRL         chip   \n",
       "688636                NaN              NaN         misc   \n",
       "688637                NaN              ESP         chip   \n",
       "688638                NaN              NaN         misc   \n",
       "688639                NaN              NaN         misc   \n",
       "688640                NaN              GBR         cont   \n",
       "688641              store              LTU         chip   \n",
       "688642                NaN              GBR         chip   \n",
       "688643                NaN              GBR         misc   \n",
       "688644  point_of_interest              GBR         cont   \n",
       "688645   department_store              GBR         cont   \n",
       "688646                NaN              NLD         manu   \n",
       "688647               cafe              GBR         cont   \n",
       "688648                NaN              NaN         misc   \n",
       "688649         restaurant              DEU         cont   \n",
       "688650         restaurant              IRL         chip   \n",
       "\n",
       "                                     USER_ID           TYPE    SOURCE  \\\n",
       "0       8f99c254-7cf2-4e35-b7e4-53804d42445d   CARD_PAYMENT      GAIA   \n",
       "1       ed773c34-2b83-4f70-a691-6a7aa1cb9f11   CARD_PAYMENT      GAIA   \n",
       "2       eb349cc1-e986-4bf4-bb75-72280a7b8680   CARD_PAYMENT      GAIA   \n",
       "3       dc78fbc4-c936-45d3-a813-e2477ac6d74b   CARD_PAYMENT      GAIA   \n",
       "4       32958a5c-2532-42f7-94f9-127f2a812a55   CARD_PAYMENT      GAIA   \n",
       "5       7a7ebaa8-6c24-4c4f-bb09-c30b3b98b73c          TOPUP      HERA   \n",
       "6       c069a845-b843-475e-af4f-a27e379f1c76   CARD_PAYMENT      GAIA   \n",
       "7       f9588784-a994-4bfc-b4a0-d97f8c4941f7   CARD_PAYMENT      GAIA   \n",
       "8       c248610a-3e08-4620-a6c3-89eb338fe155          TOPUP      HERA   \n",
       "9       a827cf38-cb43-46af-b728-413c313b5b6d   CARD_PAYMENT      GAIA   \n",
       "10      c6a164f7-0e40-408c-bf51-7d83407c9a93   CARD_PAYMENT      GAIA   \n",
       "11      c10338bc-dbf7-419b-a347-8d894036b7f2   CARD_PAYMENT      GAIA   \n",
       "12      012c2e0a-ee3a-4a05-a42b-111cb628c153   CARD_PAYMENT      GAIA   \n",
       "13      e5aeaf76-8d99-4b27-b450-9d60de05aa6b   CARD_PAYMENT      GAIA   \n",
       "14      f699b98a-3916-48fe-b110-848016ea3051   CARD_PAYMENT      GAIA   \n",
       "15      a6f4e1fa-b721-4920-98b5-60e845d70518   CARD_PAYMENT      GAIA   \n",
       "16      c248610a-3e08-4620-a6c3-89eb338fe155   CARD_PAYMENT      GAIA   \n",
       "17      5077c517-eea8-48e1-b11f-e69ff54233f9   CARD_PAYMENT      GAIA   \n",
       "18      769c5f83-14e6-427d-bba2-879b3ce4d633   CARD_PAYMENT      GAIA   \n",
       "19      a997eed9-d248-480e-bdd4-c54e23dd6edb   CARD_PAYMENT      GAIA   \n",
       "20      714661e3-b09b-42ef-a7b8-14a90bd455f5   CARD_PAYMENT      GAIA   \n",
       "21      fb2dc96c-567f-481d-bfb6-782ceb213059   CARD_PAYMENT      GAIA   \n",
       "22      c069a845-b843-475e-af4f-a27e379f1c76   CARD_PAYMENT      GAIA   \n",
       "23      c2b50874-5091-44be-969c-6e3b4578f668   CARD_PAYMENT      GAIA   \n",
       "24      d48a22aa-0a97-4390-b204-472be40c6638          TOPUP     LIMOS   \n",
       "25      672a2944-c97b-421d-8045-97bf99510cc4  BANK_TRANSFER      LETO   \n",
       "26      39b3f889-bbdd-4d66-93fe-dd75bef27dbf   CARD_PAYMENT      GAIA   \n",
       "27      50711c3a-c796-45d0-b84e-585a2048491d          TOPUP     LIMOS   \n",
       "28      9bfe89e6-e494-4701-89db-2f0ca9cfd9e9   CARD_PAYMENT      GAIA   \n",
       "29      0b7733cb-fbfe-492e-afac-7243a08a6507   CARD_PAYMENT      GAIA   \n",
       "...                                      ...            ...       ...   \n",
       "688621  eb349cc1-e986-4bf4-bb75-72280a7b8680   CARD_PAYMENT      GAIA   \n",
       "688622  8e00b563-d84c-4169-9dcd-b33279bc4049   CARD_PAYMENT      GAIA   \n",
       "688623  593af380-eea9-4e9b-bc2a-fd680f49534b            P2P  INTERNAL   \n",
       "688624  a7bca823-72d7-4193-b523-afa96de47da9   CARD_PAYMENT      GAIA   \n",
       "688625  d2d6f48a-c3bc-4d98-be4a-e822fcf5fd2d   CARD_PAYMENT      GAIA   \n",
       "688626  b6980177-6f5d-4418-ab8e-0711dbee1d4c   CARD_PAYMENT      GAIA   \n",
       "688627  7a7ebaa8-6c24-4c4f-bb09-c30b3b98b73c          TOPUP      HERA   \n",
       "688628  84e22e7f-f2ab-413c-969a-667c78d8885c   CARD_PAYMENT      GAIA   \n",
       "688629  7a7ebaa8-6c24-4c4f-bb09-c30b3b98b73c          TOPUP      HERA   \n",
       "688630  6d782a05-5d6d-4d51-9a3c-971e2cbe2b25            ATM      GAIA   \n",
       "688631  028d7411-f41c-4494-a2c2-d3b7c529a077   CARD_PAYMENT      GAIA   \n",
       "688632  4ca0aa7c-f78a-476e-a881-649a9f4efdc2   CARD_PAYMENT      GAIA   \n",
       "688633  d2d6f48a-c3bc-4d98-be4a-e822fcf5fd2d   CARD_PAYMENT      GAIA   \n",
       "688634  13dcc570-fd32-445a-b320-ac961b036d18   CARD_PAYMENT      GAIA   \n",
       "688635  78018401-b3d1-4373-b53e-25d3bc1e38a9   CARD_PAYMENT      GAIA   \n",
       "688636  ccbc8b46-dea8-4d12-be57-fe5bc93359be          TOPUP      HERA   \n",
       "688637  b6980177-6f5d-4418-ab8e-0711dbee1d4c   CARD_PAYMENT      GAIA   \n",
       "688638  ccbc8b46-dea8-4d12-be57-fe5bc93359be  BANK_TRANSFER      LETO   \n",
       "688639  b6980177-6f5d-4418-ab8e-0711dbee1d4c          TOPUP      HERA   \n",
       "688640  0bd1abbf-c76a-4e3f-afab-5ccadf19cf66   CARD_PAYMENT      GAIA   \n",
       "688641  9b21f471-7db3-49ab-8f6b-66472540e2b5   CARD_PAYMENT      GAIA   \n",
       "688642  e641ff3a-7838-405c-9456-1008aa03e66c   CARD_PAYMENT      GAIA   \n",
       "688643  0b0fa6b1-72ba-41f5-8486-328ec222aa15   CARD_PAYMENT      GAIA   \n",
       "688644  834fa452-b75c-45e8-9d1d-638ca5b214f4   CARD_PAYMENT      GAIA   \n",
       "688645  8f99c254-7cf2-4e35-b7e4-53804d42445d   CARD_PAYMENT      GAIA   \n",
       "688646  ee7fce18-8856-49ba-8dc3-105f65cf1541   CARD_PAYMENT      GAIA   \n",
       "688647  4b710a93-5d73-4940-a0f4-a3065a8f3327   CARD_PAYMENT      GAIA   \n",
       "688648  1bbf9b04-ee79-41c9-80c2-822fca3dc86b          TOPUP      HERA   \n",
       "688649  2c3f944e-6b86-45e8-ae34-b1c6c32dda2a   CARD_PAYMENT      GAIA   \n",
       "688650  3d487e5e-23a7-4f8e-a174-5e56c8bc93eb   CARD_PAYMENT      GAIA   \n",
       "\n",
       "                                          ID  AMOUNT_USD  \n",
       "0       b3332e6f-7865-4d6e-b6a5-370bc75568d8         220  \n",
       "1       853d9ff8-a007-40ef-91a2-7d81e29a309a        2885  \n",
       "2       04de8238-7828-4e46-91f1-050a9aa7a9df        1198  \n",
       "3       2b790b9b-c312-4098-a4b3-4830fc8cda53         249  \n",
       "4       6469fc3a-e535-41e9-91b9-acb46d1cc65d        1101  \n",
       "5       b074480b-d09b-40cb-aed3-e45039ae8e25        2225  \n",
       "6       8c4328f3-5f39-4526-9ff8-cddb72cea623         378  \n",
       "7       f8bd44b7-a812-4468-9994-850d4dc1d0b0        1112  \n",
       "8       1e819f57-8aed-4602-ae8f-58e1862836f0        1260  \n",
       "9       cabba07c-d0f1-474e-b3a3-53ed50e21c38          89  \n",
       "10      cc4e064a-6aed-4f1a-8e02-bce82bbcbd35         111  \n",
       "11      9ce3c73b-68b3-40b2-bef3-2305c28b6587       10155  \n",
       "12      7b0598e3-4edc-407f-90ab-d5d51740376f        3782  \n",
       "13      5929f8a6-b20a-4137-aaed-89e73e9670de         389  \n",
       "14      abe658a9-3dec-4648-883c-5796814101fe        3890  \n",
       "15      e2840ec1-cbaa-4049-8892-31588d1dcbc3         605  \n",
       "16      c6a892fa-1bbe-4fbb-89c4-9676bbfa5a48         878  \n",
       "17      c863afba-0a13-4ed9-8e93-55610d8ce702         416  \n",
       "18      d18f8441-d337-4e79-ac90-a79b3c86f85d         781  \n",
       "19      48869447-ebbe-4c73-9f55-42486cc32ac8        1000  \n",
       "20      4dc61636-3d3d-41ea-9173-c6252838caf4        6184  \n",
       "21      58ce8116-a683-40fe-ad0f-a44357a111dd         705  \n",
       "22      eecc52d4-ea0c-45c4-8dce-62fb1721faf3         376  \n",
       "23      1de820e8-d6cb-4a49-8f0c-2205459f035b         189  \n",
       "24      17297235-93a3-4168-aef8-576340f80ddb        1112  \n",
       "25      ac5b67b2-5f48-4788-a719-323b776e01d7       33689  \n",
       "26      d3391d71-6bb0-4f88-80b3-7e783f1088f2        1259  \n",
       "27      ad33434c-270c-4fa9-94d0-f434799fa6b5      595838  \n",
       "28      090d5721-44cc-43b9-8abf-6c9504188f4c         200  \n",
       "29      c5fd71b8-af32-4627-9559-cabf47af7267         750  \n",
       "...                                      ...         ...  \n",
       "688621  9054a749-7c3b-4b16-8e45-8d6710c0b40c         412  \n",
       "688622  6e9fad4e-dabb-4b5b-8bca-a7141ae8da09        6811  \n",
       "688623  28289cfa-7b76-4dd0-9035-f9f32327b588         325  \n",
       "688624  e0120b44-b5a2-43af-8aa1-0a336460e945         989  \n",
       "688625  7edf1e41-8f75-4b3c-8a59-27c5d03ae253         313  \n",
       "688626  67283dfa-29c9-40de-81fa-ab1b0dca0805        2107  \n",
       "688627  77296a4e-7d19-447e-8654-b3625d3173cf        2225  \n",
       "688628  582e7692-f71f-4591-82c5-006bbcf55528         968  \n",
       "688629  f1551ecd-ac7d-4997-9119-676f79e28f10        2225  \n",
       "688630  9a22b473-4a19-4c28-8ddc-4005c1beae37        1986  \n",
       "688631  edbab596-a300-4148-95d3-8556aac289bd         550  \n",
       "688632  5ccdc14c-5f5e-42b0-bdfd-e58b26a24e04         333  \n",
       "688633  a21ab112-2442-4952-a8c6-fe14840a072c        2521  \n",
       "688634  e05e5074-dbea-423d-922e-58e90cd73b5f         291  \n",
       "688635  de98cd7b-ced0-47b1-96fa-348cdb18b79a        6264  \n",
       "688636  dfc4d740-9c3e-46c5-8d76-fda4d2f161bd        1260  \n",
       "688637  1dd7cfb0-7cb5-4b54-885f-d7bcf4418350        2106  \n",
       "688638  14b4111c-aa86-4832-a78d-9491b2eaa29e        3777  \n",
       "688639  eb91108b-2df7-48af-84a2-ecdbe6175e57       12606  \n",
       "688640  a6ad25c1-4380-429a-b128-c8e856fc3d1d         264  \n",
       "688641  99eae850-7563-4f74-a74f-21b63721e094          87  \n",
       "688642  0868eda4-dec5-49a1-94ff-c8505c118556         755  \n",
       "688643  4e0de672-52d8-4d47-8df2-3713d321ab15         352  \n",
       "688644  5a95fd0a-51f1-4435-a1c3-60756678a885         378  \n",
       "688645  f072fe06-4d7c-4a2c-808d-03e3c9d2844c         277  \n",
       "688646  e7dca262-3943-4b2d-bf90-3c849cbdcbc2           0  \n",
       "688647  66022e35-cace-4647-848f-7b595ff366c3        1512  \n",
       "688648  d58ff01d-636b-40ce-aea2-1dac43259d61        1260  \n",
       "688649  347c7842-82b2-4350-bd4c-6b585901f8ef         766  \n",
       "688650  a1ec875d-109b-4064-a294-c1b161857170         996  \n",
       "\n",
       "[688651 rows x 12 columns]"
      ]
     },
     "execution_count": 1485,
     "metadata": {},
     "output_type": "execute_result"
    }
   ],
   "source": [
    "print(transactions.shape)\n",
    "print('transactions data has total %d unique users' %(len(np.unique(transactions.USER_ID))))\n",
    "transactions"
   ]
  },
  {
   "cell_type": "markdown",
   "metadata": {},
   "source": [
    "#### First to check and treat missing values if any "
   ]
  },
  {
   "cell_type": "code",
   "execution_count": 360,
   "metadata": {},
   "outputs": [
    {
     "data": {
      "text/html": [
       "<div>\n",
       "<style scoped>\n",
       "    .dataframe tbody tr th:only-of-type {\n",
       "        vertical-align: middle;\n",
       "    }\n",
       "\n",
       "    .dataframe tbody tr th {\n",
       "        vertical-align: top;\n",
       "    }\n",
       "\n",
       "    .dataframe thead th {\n",
       "        text-align: right;\n",
       "    }\n",
       "</style>\n",
       "<table border=\"1\" class=\"dataframe\">\n",
       "  <thead>\n",
       "    <tr style=\"text-align: right;\">\n",
       "      <th></th>\n",
       "      <th>count_missing</th>\n",
       "      <th>percentage_missing</th>\n",
       "    </tr>\n",
       "  </thead>\n",
       "  <tbody>\n",
       "    <tr>\n",
       "      <th>CURRENCY</th>\n",
       "      <td>0</td>\n",
       "      <td>0.000000</td>\n",
       "    </tr>\n",
       "    <tr>\n",
       "      <th>AMOUNT</th>\n",
       "      <td>0</td>\n",
       "      <td>0.000000</td>\n",
       "    </tr>\n",
       "    <tr>\n",
       "      <th>STATE</th>\n",
       "      <td>0</td>\n",
       "      <td>0.000000</td>\n",
       "    </tr>\n",
       "    <tr>\n",
       "      <th>CREATED_DATE</th>\n",
       "      <td>0</td>\n",
       "      <td>0.000000</td>\n",
       "    </tr>\n",
       "    <tr>\n",
       "      <th>MERCHANT_CATEGORY</th>\n",
       "      <td>465586</td>\n",
       "      <td>67.608411</td>\n",
       "    </tr>\n",
       "    <tr>\n",
       "      <th>MERCHANT_COUNTRY</th>\n",
       "      <td>205596</td>\n",
       "      <td>29.854890</td>\n",
       "    </tr>\n",
       "    <tr>\n",
       "      <th>ENTRY_METHOD</th>\n",
       "      <td>0</td>\n",
       "      <td>0.000000</td>\n",
       "    </tr>\n",
       "    <tr>\n",
       "      <th>USER_ID</th>\n",
       "      <td>0</td>\n",
       "      <td>0.000000</td>\n",
       "    </tr>\n",
       "    <tr>\n",
       "      <th>TYPE</th>\n",
       "      <td>0</td>\n",
       "      <td>0.000000</td>\n",
       "    </tr>\n",
       "    <tr>\n",
       "      <th>SOURCE</th>\n",
       "      <td>0</td>\n",
       "      <td>0.000000</td>\n",
       "    </tr>\n",
       "    <tr>\n",
       "      <th>ID</th>\n",
       "      <td>0</td>\n",
       "      <td>0.000000</td>\n",
       "    </tr>\n",
       "    <tr>\n",
       "      <th>AMOUNT_USD</th>\n",
       "      <td>0</td>\n",
       "      <td>0.000000</td>\n",
       "    </tr>\n",
       "    <tr>\n",
       "      <th>CCY</th>\n",
       "      <td>0</td>\n",
       "      <td>0.000000</td>\n",
       "    </tr>\n",
       "    <tr>\n",
       "      <th>IS_CRYPTO</th>\n",
       "      <td>0</td>\n",
       "      <td>0.000000</td>\n",
       "    </tr>\n",
       "  </tbody>\n",
       "</table>\n",
       "</div>"
      ],
      "text/plain": [
       "                   count_missing  percentage_missing\n",
       "CURRENCY                       0            0.000000\n",
       "AMOUNT                         0            0.000000\n",
       "STATE                          0            0.000000\n",
       "CREATED_DATE                   0            0.000000\n",
       "MERCHANT_CATEGORY         465586           67.608411\n",
       "MERCHANT_COUNTRY          205596           29.854890\n",
       "ENTRY_METHOD                   0            0.000000\n",
       "USER_ID                        0            0.000000\n",
       "TYPE                           0            0.000000\n",
       "SOURCE                         0            0.000000\n",
       "ID                             0            0.000000\n",
       "AMOUNT_USD                     0            0.000000\n",
       "CCY                            0            0.000000\n",
       "IS_CRYPTO                      0            0.000000"
      ]
     },
     "execution_count": 360,
     "metadata": {},
     "output_type": "execute_result"
    }
   ],
   "source": [
    "def missing_quantity(data,column):\n",
    "    missing = pd.DataFrame(data[column].apply(lambda x: np.sum(x.isnull(), axis=0)))\n",
    "    missing['count_missing'] = missing.iloc[:,0]\n",
    "    missing['percentage_missing'] = (missing.iloc[:,0]/data.shape[0])*100\n",
    "    missing.drop(missing.columns[0],axis='columns',inplace=True)\n",
    "    return(missing)\n",
    "missing_quantity(transactions,transactions.columns)"
   ]
  },
  {
   "cell_type": "code",
   "execution_count": 430,
   "metadata": {},
   "outputs": [
    {
     "name": "stderr",
     "output_type": "stream",
     "text": [
      "c:\\users\\sourish\\anaconda3\\lib\\site-packages\\ipykernel_launcher.py:1: SettingWithCopyWarning:\n",
      "\n",
      "\n",
      "A value is trying to be set on a copy of a slice from a DataFrame\n",
      "\n",
      "See the caveats in the documentation: http://pandas.pydata.org/pandas-docs/stable/indexing.html#indexing-view-versus-copy\n",
      "\n",
      "c:\\users\\sourish\\anaconda3\\lib\\site-packages\\ipykernel_launcher.py:2: SettingWithCopyWarning:\n",
      "\n",
      "\n",
      "A value is trying to be set on a copy of a slice from a DataFrame\n",
      "\n",
      "See the caveats in the documentation: http://pandas.pydata.org/pandas-docs/stable/indexing.html#indexing-view-versus-copy\n",
      "\n"
     ]
    },
    {
     "data": {
      "text/html": [
       "<div>\n",
       "<style scoped>\n",
       "    .dataframe tbody tr th:only-of-type {\n",
       "        vertical-align: middle;\n",
       "    }\n",
       "\n",
       "    .dataframe tbody tr th {\n",
       "        vertical-align: top;\n",
       "    }\n",
       "\n",
       "    .dataframe thead th {\n",
       "        text-align: right;\n",
       "    }\n",
       "</style>\n",
       "<table border=\"1\" class=\"dataframe\">\n",
       "  <thead>\n",
       "    <tr style=\"text-align: right;\">\n",
       "      <th></th>\n",
       "      <th>count_missing</th>\n",
       "      <th>percentage_missing</th>\n",
       "    </tr>\n",
       "  </thead>\n",
       "  <tbody>\n",
       "    <tr>\n",
       "      <th>CURRENCY</th>\n",
       "      <td>0</td>\n",
       "      <td>0.0</td>\n",
       "    </tr>\n",
       "    <tr>\n",
       "      <th>AMOUNT</th>\n",
       "      <td>0</td>\n",
       "      <td>0.0</td>\n",
       "    </tr>\n",
       "    <tr>\n",
       "      <th>STATE</th>\n",
       "      <td>0</td>\n",
       "      <td>0.0</td>\n",
       "    </tr>\n",
       "    <tr>\n",
       "      <th>CREATED_DATE</th>\n",
       "      <td>0</td>\n",
       "      <td>0.0</td>\n",
       "    </tr>\n",
       "    <tr>\n",
       "      <th>MERCHANT_CATEGORY</th>\n",
       "      <td>0</td>\n",
       "      <td>0.0</td>\n",
       "    </tr>\n",
       "    <tr>\n",
       "      <th>MERCHANT_COUNTRY</th>\n",
       "      <td>0</td>\n",
       "      <td>0.0</td>\n",
       "    </tr>\n",
       "    <tr>\n",
       "      <th>ENTRY_METHOD</th>\n",
       "      <td>0</td>\n",
       "      <td>0.0</td>\n",
       "    </tr>\n",
       "    <tr>\n",
       "      <th>USER_ID</th>\n",
       "      <td>0</td>\n",
       "      <td>0.0</td>\n",
       "    </tr>\n",
       "    <tr>\n",
       "      <th>TYPE</th>\n",
       "      <td>0</td>\n",
       "      <td>0.0</td>\n",
       "    </tr>\n",
       "    <tr>\n",
       "      <th>SOURCE</th>\n",
       "      <td>0</td>\n",
       "      <td>0.0</td>\n",
       "    </tr>\n",
       "    <tr>\n",
       "      <th>ID</th>\n",
       "      <td>0</td>\n",
       "      <td>0.0</td>\n",
       "    </tr>\n",
       "    <tr>\n",
       "      <th>AMOUNT_USD</th>\n",
       "      <td>0</td>\n",
       "      <td>0.0</td>\n",
       "    </tr>\n",
       "  </tbody>\n",
       "</table>\n",
       "</div>"
      ],
      "text/plain": [
       "                   count_missing  percentage_missing\n",
       "CURRENCY                       0                 0.0\n",
       "AMOUNT                         0                 0.0\n",
       "STATE                          0                 0.0\n",
       "CREATED_DATE                   0                 0.0\n",
       "MERCHANT_CATEGORY              0                 0.0\n",
       "MERCHANT_COUNTRY               0                 0.0\n",
       "ENTRY_METHOD                   0                 0.0\n",
       "USER_ID                        0                 0.0\n",
       "TYPE                           0                 0.0\n",
       "SOURCE                         0                 0.0\n",
       "ID                             0                 0.0\n",
       "AMOUNT_USD                     0                 0.0"
      ]
     },
     "execution_count": 430,
     "metadata": {},
     "output_type": "execute_result"
    }
   ],
   "source": [
    "transactions.MERCHANT_CATEGORY[transactions.MERCHANT_CATEGORY.isna()] = 'marchant_category_not_known'\n",
    "transactions.MERCHANT_COUNTRY[transactions.MERCHANT_COUNTRY.isna()] = 'marchant_country_not_known'\n",
    "missing_quantity(transactions,transactions.columns)"
   ]
  },
  {
   "cell_type": "markdown",
   "metadata": {},
   "source": [
    "### Now we got rid of missing values/NULLs"
   ]
  },
  {
   "cell_type": "markdown",
   "metadata": {},
   "source": [
    "### Now as next step we will create user level transactional features for all the fields in transactions data. May be there are redundant/useless features, but later we will select best out of them through suitable feature selection technique. \n",
    "\n",
    "#### - The rationale behind making this feature engineering is to understand transaction pattern of users to capture user behaviour. As it's user created intentional fraud there must be a multivariate combination(eg a typical distribution of no of currency used and merchant category with a country combination) of  of transactional features,which has more likelihood of fraudulent characteristics than others.\n",
    "\n",
    "#### - Even for user level fraud detection, we need to keep in mind that a particular fraud incident happens in transactional level.\n",
    "\n",
    "#### - There will be creation of sparse matrices,so there are many NaNs as feature values for users. This is normal as there will not be transaction for each user for every subcategory of a feature.So it is logical to impute these NaNs with zero. For illustration purpose here I used same feature creation and 'fillna' operation for each feature.Later during train.py script I will do it at once in a data preparation function block."
   ]
  },
  {
   "cell_type": "code",
   "execution_count": 364,
   "metadata": {},
   "outputs": [
    {
     "data": {
      "text/html": [
       "<div>\n",
       "<style scoped>\n",
       "    .dataframe tbody tr th:only-of-type {\n",
       "        vertical-align: middle;\n",
       "    }\n",
       "\n",
       "    .dataframe tbody tr th {\n",
       "        vertical-align: top;\n",
       "    }\n",
       "\n",
       "    .dataframe thead th {\n",
       "        text-align: right;\n",
       "    }\n",
       "</style>\n",
       "<table border=\"1\" class=\"dataframe\">\n",
       "  <thead>\n",
       "    <tr style=\"text-align: right;\">\n",
       "      <th>CURRENCY</th>\n",
       "      <th>AED</th>\n",
       "      <th>AUD</th>\n",
       "      <th>BTC</th>\n",
       "      <th>CAD</th>\n",
       "      <th>CHF</th>\n",
       "      <th>CZK</th>\n",
       "      <th>DKK</th>\n",
       "      <th>ETH</th>\n",
       "      <th>EUR</th>\n",
       "      <th>GBP</th>\n",
       "      <th>...</th>\n",
       "      <th>QAR</th>\n",
       "      <th>RON</th>\n",
       "      <th>SEK</th>\n",
       "      <th>SGD</th>\n",
       "      <th>THB</th>\n",
       "      <th>TRY</th>\n",
       "      <th>USD</th>\n",
       "      <th>XRP</th>\n",
       "      <th>ZAR</th>\n",
       "      <th>count_diff_currency</th>\n",
       "    </tr>\n",
       "  </thead>\n",
       "  <tbody>\n",
       "    <tr>\n",
       "      <th>0</th>\n",
       "      <td>0.0</td>\n",
       "      <td>0.0</td>\n",
       "      <td>0.0</td>\n",
       "      <td>0.0</td>\n",
       "      <td>0.0</td>\n",
       "      <td>0.0</td>\n",
       "      <td>26.0</td>\n",
       "      <td>0.0</td>\n",
       "      <td>6.0</td>\n",
       "      <td>0.0</td>\n",
       "      <td>...</td>\n",
       "      <td>0.0</td>\n",
       "      <td>0.0</td>\n",
       "      <td>0.0</td>\n",
       "      <td>0.0</td>\n",
       "      <td>0.0</td>\n",
       "      <td>0.0</td>\n",
       "      <td>0.0</td>\n",
       "      <td>0.0</td>\n",
       "      <td>0.0</td>\n",
       "      <td>2</td>\n",
       "    </tr>\n",
       "    <tr>\n",
       "      <th>1</th>\n",
       "      <td>0.0</td>\n",
       "      <td>0.0</td>\n",
       "      <td>0.0</td>\n",
       "      <td>0.0</td>\n",
       "      <td>0.0</td>\n",
       "      <td>0.0</td>\n",
       "      <td>0.0</td>\n",
       "      <td>0.0</td>\n",
       "      <td>50.0</td>\n",
       "      <td>0.0</td>\n",
       "      <td>...</td>\n",
       "      <td>0.0</td>\n",
       "      <td>0.0</td>\n",
       "      <td>0.0</td>\n",
       "      <td>0.0</td>\n",
       "      <td>0.0</td>\n",
       "      <td>0.0</td>\n",
       "      <td>22.0</td>\n",
       "      <td>0.0</td>\n",
       "      <td>0.0</td>\n",
       "      <td>2</td>\n",
       "    </tr>\n",
       "  </tbody>\n",
       "</table>\n",
       "<p>2 rows × 30 columns</p>\n",
       "</div>"
      ],
      "text/plain": [
       "CURRENCY  AED  AUD  BTC  CAD  CHF  CZK   DKK  ETH   EUR  GBP  ...  QAR  RON  \\\n",
       "0         0.0  0.0  0.0  0.0  0.0  0.0  26.0  0.0   6.0  0.0  ...  0.0  0.0   \n",
       "1         0.0  0.0  0.0  0.0  0.0  0.0   0.0  0.0  50.0  0.0  ...  0.0  0.0   \n",
       "\n",
       "CURRENCY  SEK  SGD  THB  TRY   USD  XRP  ZAR  count_diff_currency  \n",
       "0         0.0  0.0  0.0  0.0   0.0  0.0  0.0                    2  \n",
       "1         0.0  0.0  0.0  0.0  22.0  0.0  0.0                    2  \n",
       "\n",
       "[2 rows x 30 columns]"
      ]
     },
     "execution_count": 364,
     "metadata": {},
     "output_type": "execute_result"
    }
   ],
   "source": [
    "#Currency_type\n",
    "\n",
    "currency_type = pd.DataFrame(pd.pivot_table(transactions[['USER_ID','CURRENCY']],index=['USER_ID'],columns='CURRENCY', aggfunc = np.count_nonzero)).reset_index(drop=True)\n",
    "currency_type.fillna(0, inplace=True)\n",
    "currency_type['count_diff_currency']=[np.count_nonzero(np.array(currency_type.iloc[i,:])) for i in range(currency_type.shape[0])]\n",
    "currency_type.head(2)"
   ]
  },
  {
   "cell_type": "code",
   "execution_count": 112,
   "metadata": {},
   "outputs": [
    {
     "data": {
      "text/html": [
       "<div>\n",
       "<style scoped>\n",
       "    .dataframe tbody tr th:only-of-type {\n",
       "        vertical-align: middle;\n",
       "    }\n",
       "\n",
       "    .dataframe tbody tr th {\n",
       "        vertical-align: top;\n",
       "    }\n",
       "\n",
       "    .dataframe thead th {\n",
       "        text-align: right;\n",
       "    }\n",
       "</style>\n",
       "<table border=\"1\" class=\"dataframe\">\n",
       "  <thead>\n",
       "    <tr style=\"text-align: right;\">\n",
       "      <th></th>\n",
       "      <th>AED_amt</th>\n",
       "      <th>AUD_amt</th>\n",
       "      <th>BTC_amt</th>\n",
       "      <th>CAD_amt</th>\n",
       "      <th>CHF_amt</th>\n",
       "      <th>CZK_amt</th>\n",
       "      <th>DKK_amt</th>\n",
       "      <th>ETH_amt</th>\n",
       "      <th>EUR_amt</th>\n",
       "      <th>GBP_amt</th>\n",
       "      <th>...</th>\n",
       "      <th>PLN_amt</th>\n",
       "      <th>QAR_amt</th>\n",
       "      <th>RON_amt</th>\n",
       "      <th>SEK_amt</th>\n",
       "      <th>SGD_amt</th>\n",
       "      <th>THB_amt</th>\n",
       "      <th>TRY_amt</th>\n",
       "      <th>USD_amt</th>\n",
       "      <th>XRP_amt</th>\n",
       "      <th>ZAR_amt</th>\n",
       "    </tr>\n",
       "  </thead>\n",
       "  <tbody>\n",
       "    <tr>\n",
       "      <th>0</th>\n",
       "      <td>0.0</td>\n",
       "      <td>0.0</td>\n",
       "      <td>0.0</td>\n",
       "      <td>0.0</td>\n",
       "      <td>0.0</td>\n",
       "      <td>0.0</td>\n",
       "      <td>251765.0</td>\n",
       "      <td>0.0</td>\n",
       "      <td>980.0</td>\n",
       "      <td>0.0</td>\n",
       "      <td>...</td>\n",
       "      <td>0.0</td>\n",
       "      <td>0.0</td>\n",
       "      <td>0.0</td>\n",
       "      <td>0.0</td>\n",
       "      <td>0.0</td>\n",
       "      <td>0.0</td>\n",
       "      <td>0.0</td>\n",
       "      <td>0.0</td>\n",
       "      <td>0.0</td>\n",
       "      <td>0.0</td>\n",
       "    </tr>\n",
       "    <tr>\n",
       "      <th>1</th>\n",
       "      <td>0.0</td>\n",
       "      <td>0.0</td>\n",
       "      <td>0.0</td>\n",
       "      <td>0.0</td>\n",
       "      <td>0.0</td>\n",
       "      <td>0.0</td>\n",
       "      <td>0.0</td>\n",
       "      <td>0.0</td>\n",
       "      <td>149811.0</td>\n",
       "      <td>0.0</td>\n",
       "      <td>...</td>\n",
       "      <td>0.0</td>\n",
       "      <td>0.0</td>\n",
       "      <td>0.0</td>\n",
       "      <td>0.0</td>\n",
       "      <td>0.0</td>\n",
       "      <td>0.0</td>\n",
       "      <td>0.0</td>\n",
       "      <td>57618.0</td>\n",
       "      <td>0.0</td>\n",
       "      <td>0.0</td>\n",
       "    </tr>\n",
       "  </tbody>\n",
       "</table>\n",
       "<p>2 rows × 29 columns</p>\n",
       "</div>"
      ],
      "text/plain": [
       "   AED_amt  AUD_amt  BTC_amt  CAD_amt  CHF_amt  CZK_amt   DKK_amt  ETH_amt  \\\n",
       "0      0.0      0.0      0.0      0.0      0.0      0.0  251765.0      0.0   \n",
       "1      0.0      0.0      0.0      0.0      0.0      0.0       0.0      0.0   \n",
       "\n",
       "    EUR_amt  GBP_amt  ...  PLN_amt  QAR_amt  RON_amt  SEK_amt  SGD_amt  \\\n",
       "0     980.0      0.0  ...      0.0      0.0      0.0      0.0      0.0   \n",
       "1  149811.0      0.0  ...      0.0      0.0      0.0      0.0      0.0   \n",
       "\n",
       "   THB_amt  TRY_amt  USD_amt  XRP_amt  ZAR_amt  \n",
       "0      0.0      0.0      0.0      0.0      0.0  \n",
       "1      0.0      0.0  57618.0      0.0      0.0  \n",
       "\n",
       "[2 rows x 29 columns]"
      ]
     },
     "execution_count": 112,
     "metadata": {},
     "output_type": "execute_result"
    }
   ],
   "source": [
    "#Currency_amount\n",
    "currency_amount = pd.DataFrame(pd.pivot_table(transactions[['USER_ID','CURRENCY','AMOUNT']],index=['USER_ID'],columns='CURRENCY',values = 'AMOUNT', aggfunc = np.sum)).reset_index(drop=True)\n",
    "currency_amount.fillna(0, inplace=True)\n",
    "def renaming_fun(x):\n",
    "    return '_'.join([x,'amt'])\n",
    "currency_amount.columns = [renaming_fun(col) for col in list(currency_amount.columns)]\n",
    "currency_amount.head(2)"
   ]
  },
  {
   "cell_type": "code",
   "execution_count": 138,
   "metadata": {},
   "outputs": [
    {
     "data": {
      "text/html": [
       "<div>\n",
       "<style scoped>\n",
       "    .dataframe tbody tr th:only-of-type {\n",
       "        vertical-align: middle;\n",
       "    }\n",
       "\n",
       "    .dataframe tbody tr th {\n",
       "        vertical-align: top;\n",
       "    }\n",
       "\n",
       "    .dataframe thead th {\n",
       "        text-align: right;\n",
       "    }\n",
       "</style>\n",
       "<table border=\"1\" class=\"dataframe\">\n",
       "  <thead>\n",
       "    <tr style=\"text-align: right;\">\n",
       "      <th>STATE</th>\n",
       "      <th>CANCELLED</th>\n",
       "      <th>COMPLETED</th>\n",
       "      <th>DECLINED</th>\n",
       "      <th>FAILED</th>\n",
       "      <th>PENDING</th>\n",
       "      <th>RECORDED</th>\n",
       "      <th>REVERTED</th>\n",
       "    </tr>\n",
       "    <tr>\n",
       "      <th>USER_ID</th>\n",
       "      <th></th>\n",
       "      <th></th>\n",
       "      <th></th>\n",
       "      <th></th>\n",
       "      <th></th>\n",
       "      <th></th>\n",
       "      <th></th>\n",
       "    </tr>\n",
       "  </thead>\n",
       "  <tbody>\n",
       "    <tr>\n",
       "      <th>000e88bb-d302-4fdc-b757-2b1a2c33e7d6</th>\n",
       "      <td>0.0</td>\n",
       "      <td>24.0</td>\n",
       "      <td>0.0</td>\n",
       "      <td>0.0</td>\n",
       "      <td>0.0</td>\n",
       "      <td>0.0</td>\n",
       "      <td>8.0</td>\n",
       "    </tr>\n",
       "    <tr>\n",
       "      <th>001032e0-8071-4baf-95b9-e50214665c2e</th>\n",
       "      <td>0.0</td>\n",
       "      <td>62.0</td>\n",
       "      <td>4.0</td>\n",
       "      <td>0.0</td>\n",
       "      <td>0.0</td>\n",
       "      <td>0.0</td>\n",
       "      <td>6.0</td>\n",
       "    </tr>\n",
       "  </tbody>\n",
       "</table>\n",
       "</div>"
      ],
      "text/plain": [
       "STATE                                 CANCELLED  COMPLETED  DECLINED  FAILED  \\\n",
       "USER_ID                                                                        \n",
       "000e88bb-d302-4fdc-b757-2b1a2c33e7d6        0.0       24.0       0.0     0.0   \n",
       "001032e0-8071-4baf-95b9-e50214665c2e        0.0       62.0       4.0     0.0   \n",
       "\n",
       "STATE                                 PENDING  RECORDED  REVERTED  \n",
       "USER_ID                                                            \n",
       "000e88bb-d302-4fdc-b757-2b1a2c33e7d6      0.0       0.0       8.0  \n",
       "001032e0-8071-4baf-95b9-e50214665c2e      0.0       0.0       6.0  "
      ]
     },
     "execution_count": 138,
     "metadata": {},
     "output_type": "execute_result"
    }
   ],
   "source": [
    "#STATE\n",
    "\n",
    "state = pd.DataFrame(pd.pivot_table(transactions[['USER_ID','STATE']],index=['USER_ID'],columns='STATE', aggfunc = np.count_nonzero))\n",
    "user_id = pd.DataFrame(state.index)\n",
    "state.fillna(0, inplace=True)\n",
    "state.head(2)"
   ]
  },
  {
   "cell_type": "code",
   "execution_count": 431,
   "metadata": {},
   "outputs": [
    {
     "data": {
      "text/html": [
       "<div>\n",
       "<style scoped>\n",
       "    .dataframe tbody tr th:only-of-type {\n",
       "        vertical-align: middle;\n",
       "    }\n",
       "\n",
       "    .dataframe tbody tr th {\n",
       "        vertical-align: top;\n",
       "    }\n",
       "\n",
       "    .dataframe thead th {\n",
       "        text-align: right;\n",
       "    }\n",
       "</style>\n",
       "<table border=\"1\" class=\"dataframe\">\n",
       "  <thead>\n",
       "    <tr style=\"text-align: right;\">\n",
       "      <th>MERCHANT_CATEGORY</th>\n",
       "      <th>accounting</th>\n",
       "      <th>administrative_area_level_1</th>\n",
       "      <th>administrative_area_level_2</th>\n",
       "      <th>administrative_area_level_3</th>\n",
       "      <th>administrative_area_level_4</th>\n",
       "      <th>airport</th>\n",
       "      <th>amusement_park</th>\n",
       "      <th>aquarium</th>\n",
       "      <th>archipelago</th>\n",
       "      <th>art_gallery</th>\n",
       "      <th>...</th>\n",
       "      <th>subway_station</th>\n",
       "      <th>supermarket</th>\n",
       "      <th>taxi_stand</th>\n",
       "      <th>train_station</th>\n",
       "      <th>transit_station</th>\n",
       "      <th>travel_agency</th>\n",
       "      <th>university</th>\n",
       "      <th>veterinary_care</th>\n",
       "      <th>zoo</th>\n",
       "      <th>count_diff_marchants</th>\n",
       "    </tr>\n",
       "  </thead>\n",
       "  <tbody>\n",
       "    <tr>\n",
       "      <th>0</th>\n",
       "      <td>0.0</td>\n",
       "      <td>0.0</td>\n",
       "      <td>0.0</td>\n",
       "      <td>0.0</td>\n",
       "      <td>0.0</td>\n",
       "      <td>0.0</td>\n",
       "      <td>0.0</td>\n",
       "      <td>0.0</td>\n",
       "      <td>0.0</td>\n",
       "      <td>0.0</td>\n",
       "      <td>...</td>\n",
       "      <td>0.0</td>\n",
       "      <td>0.0</td>\n",
       "      <td>0.0</td>\n",
       "      <td>0.0</td>\n",
       "      <td>0.0</td>\n",
       "      <td>0.0</td>\n",
       "      <td>0.0</td>\n",
       "      <td>0.0</td>\n",
       "      <td>0.0</td>\n",
       "      <td>2</td>\n",
       "    </tr>\n",
       "    <tr>\n",
       "      <th>1</th>\n",
       "      <td>0.0</td>\n",
       "      <td>0.0</td>\n",
       "      <td>0.0</td>\n",
       "      <td>0.0</td>\n",
       "      <td>0.0</td>\n",
       "      <td>2.0</td>\n",
       "      <td>0.0</td>\n",
       "      <td>0.0</td>\n",
       "      <td>0.0</td>\n",
       "      <td>0.0</td>\n",
       "      <td>...</td>\n",
       "      <td>0.0</td>\n",
       "      <td>0.0</td>\n",
       "      <td>0.0</td>\n",
       "      <td>0.0</td>\n",
       "      <td>0.0</td>\n",
       "      <td>0.0</td>\n",
       "      <td>0.0</td>\n",
       "      <td>0.0</td>\n",
       "      <td>0.0</td>\n",
       "      <td>6</td>\n",
       "    </tr>\n",
       "  </tbody>\n",
       "</table>\n",
       "<p>2 rows × 117 columns</p>\n",
       "</div>"
      ],
      "text/plain": [
       "MERCHANT_CATEGORY  accounting  administrative_area_level_1  \\\n",
       "0                         0.0                          0.0   \n",
       "1                         0.0                          0.0   \n",
       "\n",
       "MERCHANT_CATEGORY  administrative_area_level_2  administrative_area_level_3  \\\n",
       "0                                          0.0                          0.0   \n",
       "1                                          0.0                          0.0   \n",
       "\n",
       "MERCHANT_CATEGORY  administrative_area_level_4  airport  amusement_park  \\\n",
       "0                                          0.0      0.0             0.0   \n",
       "1                                          0.0      2.0             0.0   \n",
       "\n",
       "MERCHANT_CATEGORY  aquarium  archipelago  art_gallery  ...  subway_station  \\\n",
       "0                       0.0          0.0          0.0  ...             0.0   \n",
       "1                       0.0          0.0          0.0  ...             0.0   \n",
       "\n",
       "MERCHANT_CATEGORY  supermarket  taxi_stand  train_station  transit_station  \\\n",
       "0                          0.0         0.0            0.0              0.0   \n",
       "1                          0.0         0.0            0.0              0.0   \n",
       "\n",
       "MERCHANT_CATEGORY  travel_agency  university  veterinary_care  zoo  \\\n",
       "0                            0.0         0.0              0.0  0.0   \n",
       "1                            0.0         0.0              0.0  0.0   \n",
       "\n",
       "MERCHANT_CATEGORY  count_diff_marchants  \n",
       "0                                     2  \n",
       "1                                     6  \n",
       "\n",
       "[2 rows x 117 columns]"
      ]
     },
     "execution_count": 431,
     "metadata": {},
     "output_type": "execute_result"
    }
   ],
   "source": [
    "#MERCHANT_CATEGORY\n",
    "\n",
    "MERCHANT_CATEGORY = pd.DataFrame(pd.pivot_table(transactions[['USER_ID','MERCHANT_CATEGORY']],index=['USER_ID'],columns='MERCHANT_CATEGORY', aggfunc = np.count_nonzero)).reset_index(drop=True)\n",
    "MERCHANT_CATEGORY.fillna(0, inplace=True)\n",
    "MERCHANT_CATEGORY['count_diff_marchants']=[np.count_nonzero(np.array(MERCHANT_CATEGORY.iloc[i,:])) for i in range(MERCHANT_CATEGORY.shape[0])]\n",
    "MERCHANT_CATEGORY.head(2)"
   ]
  },
  {
   "cell_type": "code",
   "execution_count": 862,
   "metadata": {},
   "outputs": [
    {
     "data": {
      "text/html": [
       "<div>\n",
       "<style scoped>\n",
       "    .dataframe tbody tr th:only-of-type {\n",
       "        vertical-align: middle;\n",
       "    }\n",
       "\n",
       "    .dataframe tbody tr th {\n",
       "        vertical-align: top;\n",
       "    }\n",
       "\n",
       "    .dataframe thead th {\n",
       "        text-align: right;\n",
       "    }\n",
       "</style>\n",
       "<table border=\"1\" class=\"dataframe\">\n",
       "  <thead>\n",
       "    <tr style=\"text-align: right;\">\n",
       "      <th></th>\n",
       "      <th>country_000</th>\n",
       "      <th>country_001</th>\n",
       "      <th>country_003</th>\n",
       "      <th>country_004</th>\n",
       "      <th>country_005</th>\n",
       "      <th>country_006</th>\n",
       "      <th>country_007</th>\n",
       "      <th>country_008</th>\n",
       "      <th>country_009</th>\n",
       "      <th>country_011</th>\n",
       "      <th>...</th>\n",
       "      <th>country_VNM</th>\n",
       "      <th>country_W71</th>\n",
       "      <th>country_WA</th>\n",
       "      <th>country_XXX</th>\n",
       "      <th>country_ZAF</th>\n",
       "      <th>country_ZHE</th>\n",
       "      <th>country_ZMB</th>\n",
       "      <th>country_ZWE</th>\n",
       "      <th>country_marchant_country_not_known</th>\n",
       "      <th>count_diff_marchants_country</th>\n",
       "    </tr>\n",
       "  </thead>\n",
       "  <tbody>\n",
       "    <tr>\n",
       "      <th>0</th>\n",
       "      <td>0.0</td>\n",
       "      <td>0.0</td>\n",
       "      <td>0.0</td>\n",
       "      <td>0.0</td>\n",
       "      <td>0.0</td>\n",
       "      <td>0.0</td>\n",
       "      <td>0.0</td>\n",
       "      <td>0.0</td>\n",
       "      <td>0.0</td>\n",
       "      <td>0.0</td>\n",
       "      <td>...</td>\n",
       "      <td>0.0</td>\n",
       "      <td>0.0</td>\n",
       "      <td>0.0</td>\n",
       "      <td>0.0</td>\n",
       "      <td>0.0</td>\n",
       "      <td>0.0</td>\n",
       "      <td>0.0</td>\n",
       "      <td>0.0</td>\n",
       "      <td>16.0</td>\n",
       "      <td>2</td>\n",
       "    </tr>\n",
       "    <tr>\n",
       "      <th>1</th>\n",
       "      <td>0.0</td>\n",
       "      <td>0.0</td>\n",
       "      <td>0.0</td>\n",
       "      <td>0.0</td>\n",
       "      <td>0.0</td>\n",
       "      <td>0.0</td>\n",
       "      <td>0.0</td>\n",
       "      <td>0.0</td>\n",
       "      <td>0.0</td>\n",
       "      <td>0.0</td>\n",
       "      <td>...</td>\n",
       "      <td>0.0</td>\n",
       "      <td>0.0</td>\n",
       "      <td>0.0</td>\n",
       "      <td>0.0</td>\n",
       "      <td>0.0</td>\n",
       "      <td>0.0</td>\n",
       "      <td>0.0</td>\n",
       "      <td>0.0</td>\n",
       "      <td>22.0</td>\n",
       "      <td>4</td>\n",
       "    </tr>\n",
       "  </tbody>\n",
       "</table>\n",
       "<p>2 rows × 346 columns</p>\n",
       "</div>"
      ],
      "text/plain": [
       "   country_000  country_001  country_003  country_004  country_005  \\\n",
       "0          0.0          0.0          0.0          0.0          0.0   \n",
       "1          0.0          0.0          0.0          0.0          0.0   \n",
       "\n",
       "   country_006  country_007  country_008  country_009  country_011  ...  \\\n",
       "0          0.0          0.0          0.0          0.0          0.0  ...   \n",
       "1          0.0          0.0          0.0          0.0          0.0  ...   \n",
       "\n",
       "   country_VNM  country_W71  country_WA  country_XXX  country_ZAF  \\\n",
       "0          0.0          0.0         0.0          0.0          0.0   \n",
       "1          0.0          0.0         0.0          0.0          0.0   \n",
       "\n",
       "   country_ZHE  country_ZMB  country_ZWE  country_marchant_country_not_known  \\\n",
       "0          0.0          0.0          0.0                                16.0   \n",
       "1          0.0          0.0          0.0                                22.0   \n",
       "\n",
       "   count_diff_marchants_country  \n",
       "0                             2  \n",
       "1                             4  \n",
       "\n",
       "[2 rows x 346 columns]"
      ]
     },
     "execution_count": 862,
     "metadata": {},
     "output_type": "execute_result"
    }
   ],
   "source": [
    "##MERCHANT_COUNTRY\n",
    "\n",
    "MERCHANT_COUNTRY = pd.DataFrame(pd.pivot_table(transactions[['USER_ID','MERCHANT_COUNTRY']],index=['USER_ID'],columns='MERCHANT_COUNTRY', aggfunc = np.count_nonzero)).reset_index(drop=True)\n",
    "MERCHANT_COUNTRY.fillna(0, inplace=True)\n",
    "def renaming_fun(x):\n",
    "    return '_'.join(['country',x])\n",
    "MERCHANT_COUNTRY.columns = [renaming_fun(col) for col in list(MERCHANT_COUNTRY.columns)]\n",
    "MERCHANT_COUNTRY['count_diff_marchants_country']=[np.count_nonzero(np.array(MERCHANT_COUNTRY.iloc[i,:])) for i in range(MERCHANT_COUNTRY.shape[0])]\n",
    "MERCHANT_COUNTRY.head(2)"
   ]
  },
  {
   "cell_type": "code",
   "execution_count": 137,
   "metadata": {},
   "outputs": [
    {
     "data": {
      "text/html": [
       "<div>\n",
       "<style scoped>\n",
       "    .dataframe tbody tr th:only-of-type {\n",
       "        vertical-align: middle;\n",
       "    }\n",
       "\n",
       "    .dataframe tbody tr th {\n",
       "        vertical-align: top;\n",
       "    }\n",
       "\n",
       "    .dataframe thead th {\n",
       "        text-align: right;\n",
       "    }\n",
       "</style>\n",
       "<table border=\"1\" class=\"dataframe\">\n",
       "  <thead>\n",
       "    <tr style=\"text-align: right;\">\n",
       "      <th>ENTRY_METHOD</th>\n",
       "      <th>chip</th>\n",
       "      <th>cont</th>\n",
       "      <th>mags</th>\n",
       "      <th>manu</th>\n",
       "      <th>mcon</th>\n",
       "      <th>misc</th>\n",
       "    </tr>\n",
       "    <tr>\n",
       "      <th>USER_ID</th>\n",
       "      <th></th>\n",
       "      <th></th>\n",
       "      <th></th>\n",
       "      <th></th>\n",
       "      <th></th>\n",
       "      <th></th>\n",
       "    </tr>\n",
       "  </thead>\n",
       "  <tbody>\n",
       "    <tr>\n",
       "      <th>000e88bb-d302-4fdc-b757-2b1a2c33e7d6</th>\n",
       "      <td>0.0</td>\n",
       "      <td>16.0</td>\n",
       "      <td>0.0</td>\n",
       "      <td>0.0</td>\n",
       "      <td>0.0</td>\n",
       "      <td>16.0</td>\n",
       "    </tr>\n",
       "    <tr>\n",
       "      <th>001032e0-8071-4baf-95b9-e50214665c2e</th>\n",
       "      <td>24.0</td>\n",
       "      <td>12.0</td>\n",
       "      <td>10.0</td>\n",
       "      <td>4.0</td>\n",
       "      <td>0.0</td>\n",
       "      <td>22.0</td>\n",
       "    </tr>\n",
       "  </tbody>\n",
       "</table>\n",
       "</div>"
      ],
      "text/plain": [
       "ENTRY_METHOD                          chip  cont  mags  manu  mcon  misc\n",
       "USER_ID                                                                 \n",
       "000e88bb-d302-4fdc-b757-2b1a2c33e7d6   0.0  16.0   0.0   0.0   0.0  16.0\n",
       "001032e0-8071-4baf-95b9-e50214665c2e  24.0  12.0  10.0   4.0   0.0  22.0"
      ]
     },
     "execution_count": 137,
     "metadata": {},
     "output_type": "execute_result"
    }
   ],
   "source": [
    "#ENTRY_METHOD\n",
    "\n",
    "ENTRY_METHOD = pd.DataFrame(pd.pivot_table(transactions[['USER_ID','ENTRY_METHOD']],index=['USER_ID'],columns='ENTRY_METHOD', aggfunc = np.count_nonzero))\n",
    "ENTRY_METHOD.fillna(0, inplace=True)\n",
    "ENTRY_METHOD.head(2)"
   ]
  },
  {
   "cell_type": "code",
   "execution_count": 140,
   "metadata": {},
   "outputs": [
    {
     "data": {
      "text/html": [
       "<div>\n",
       "<style scoped>\n",
       "    .dataframe tbody tr th:only-of-type {\n",
       "        vertical-align: middle;\n",
       "    }\n",
       "\n",
       "    .dataframe tbody tr th {\n",
       "        vertical-align: top;\n",
       "    }\n",
       "\n",
       "    .dataframe thead th {\n",
       "        text-align: right;\n",
       "    }\n",
       "</style>\n",
       "<table border=\"1\" class=\"dataframe\">\n",
       "  <thead>\n",
       "    <tr style=\"text-align: right;\">\n",
       "      <th>TYPE</th>\n",
       "      <th>ATM</th>\n",
       "      <th>BANK_TRANSFER</th>\n",
       "      <th>CARD_PAYMENT</th>\n",
       "      <th>P2P</th>\n",
       "      <th>TOPUP</th>\n",
       "      <th>count_diff_type</th>\n",
       "    </tr>\n",
       "  </thead>\n",
       "  <tbody>\n",
       "    <tr>\n",
       "      <th>0</th>\n",
       "      <td>0.0</td>\n",
       "      <td>2.0</td>\n",
       "      <td>16.0</td>\n",
       "      <td>4.0</td>\n",
       "      <td>10.0</td>\n",
       "      <td>4</td>\n",
       "    </tr>\n",
       "    <tr>\n",
       "      <th>1</th>\n",
       "      <td>4.0</td>\n",
       "      <td>0.0</td>\n",
       "      <td>46.0</td>\n",
       "      <td>0.0</td>\n",
       "      <td>22.0</td>\n",
       "      <td>3</td>\n",
       "    </tr>\n",
       "  </tbody>\n",
       "</table>\n",
       "</div>"
      ],
      "text/plain": [
       "TYPE  ATM  BANK_TRANSFER  CARD_PAYMENT  P2P  TOPUP  count_diff_type\n",
       "0     0.0            2.0          16.0  4.0   10.0                4\n",
       "1     4.0            0.0          46.0  0.0   22.0                3"
      ]
     },
     "execution_count": 140,
     "metadata": {},
     "output_type": "execute_result"
    }
   ],
   "source": [
    "##TYPE\n",
    "\n",
    "TYPE = pd.DataFrame(pd.pivot_table(transactions[['USER_ID','TYPE']],index=['USER_ID'],columns='TYPE', aggfunc = np.count_nonzero)).reset_index(drop=True)\n",
    "TYPE.fillna(0, inplace=True)\n",
    "TYPE['count_diff_type']=[np.count_nonzero(np.array(TYPE.iloc[i,:])) for i in range(TYPE.shape[0])]\n",
    "TYPE.head(2)"
   ]
  },
  {
   "cell_type": "code",
   "execution_count": 141,
   "metadata": {},
   "outputs": [
    {
     "data": {
      "text/html": [
       "<div>\n",
       "<style scoped>\n",
       "    .dataframe tbody tr th:only-of-type {\n",
       "        vertical-align: middle;\n",
       "    }\n",
       "\n",
       "    .dataframe tbody tr th {\n",
       "        vertical-align: top;\n",
       "    }\n",
       "\n",
       "    .dataframe thead th {\n",
       "        text-align: right;\n",
       "    }\n",
       "</style>\n",
       "<table border=\"1\" class=\"dataframe\">\n",
       "  <thead>\n",
       "    <tr style=\"text-align: right;\">\n",
       "      <th>SOURCE</th>\n",
       "      <th>APOLLO</th>\n",
       "      <th>BRIZO</th>\n",
       "      <th>CRONUS</th>\n",
       "      <th>GAIA</th>\n",
       "      <th>HERA</th>\n",
       "      <th>INTERNAL</th>\n",
       "      <th>LETO</th>\n",
       "      <th>LIMOS</th>\n",
       "      <th>MINOS</th>\n",
       "      <th>NYX</th>\n",
       "      <th>OPHION</th>\n",
       "      <th>count_diff_SOURCE</th>\n",
       "    </tr>\n",
       "  </thead>\n",
       "  <tbody>\n",
       "    <tr>\n",
       "      <th>0</th>\n",
       "      <td>0.0</td>\n",
       "      <td>0.0</td>\n",
       "      <td>2.0</td>\n",
       "      <td>16.0</td>\n",
       "      <td>10.0</td>\n",
       "      <td>4.0</td>\n",
       "      <td>0.0</td>\n",
       "      <td>0.0</td>\n",
       "      <td>0.0</td>\n",
       "      <td>0.0</td>\n",
       "      <td>0.0</td>\n",
       "      <td>4</td>\n",
       "    </tr>\n",
       "    <tr>\n",
       "      <th>1</th>\n",
       "      <td>0.0</td>\n",
       "      <td>0.0</td>\n",
       "      <td>0.0</td>\n",
       "      <td>50.0</td>\n",
       "      <td>22.0</td>\n",
       "      <td>0.0</td>\n",
       "      <td>0.0</td>\n",
       "      <td>0.0</td>\n",
       "      <td>0.0</td>\n",
       "      <td>0.0</td>\n",
       "      <td>0.0</td>\n",
       "      <td>2</td>\n",
       "    </tr>\n",
       "  </tbody>\n",
       "</table>\n",
       "</div>"
      ],
      "text/plain": [
       "SOURCE  APOLLO  BRIZO  CRONUS  GAIA  HERA  INTERNAL  LETO  LIMOS  MINOS  NYX  \\\n",
       "0          0.0    0.0     2.0  16.0  10.0       4.0   0.0    0.0    0.0  0.0   \n",
       "1          0.0    0.0     0.0  50.0  22.0       0.0   0.0    0.0    0.0  0.0   \n",
       "\n",
       "SOURCE  OPHION  count_diff_SOURCE  \n",
       "0          0.0                  4  \n",
       "1          0.0                  2  "
      ]
     },
     "execution_count": 141,
     "metadata": {},
     "output_type": "execute_result"
    }
   ],
   "source": [
    "##Source\n",
    "\n",
    "SOURCE = pd.DataFrame(pd.pivot_table(transactions[['USER_ID','SOURCE']],index=['USER_ID'],columns='SOURCE', aggfunc = np.count_nonzero)).reset_index(drop=True)\n",
    "SOURCE.fillna(0, inplace=True)\n",
    "SOURCE['count_diff_SOURCE']=[np.count_nonzero(np.array(SOURCE.iloc[i,:])) for i in range(SOURCE.shape[0])]\n",
    "SOURCE.head(2)"
   ]
  },
  {
   "cell_type": "markdown",
   "metadata": {},
   "source": [
    "#### The feature of the currency(especially the currency has 'IS_CRYPTO' feature or not)used by users also might be useful to understand how the users like to transact"
   ]
  },
  {
   "cell_type": "code",
   "execution_count": 414,
   "metadata": {},
   "outputs": [
    {
     "data": {
      "text/html": [
       "<div>\n",
       "<style scoped>\n",
       "    .dataframe tbody tr th:only-of-type {\n",
       "        vertical-align: middle;\n",
       "    }\n",
       "\n",
       "    .dataframe tbody tr th {\n",
       "        vertical-align: top;\n",
       "    }\n",
       "\n",
       "    .dataframe thead th {\n",
       "        text-align: right;\n",
       "    }\n",
       "</style>\n",
       "<table border=\"1\" class=\"dataframe\">\n",
       "  <thead>\n",
       "    <tr style=\"text-align: right;\">\n",
       "      <th></th>\n",
       "      <th>CCY</th>\n",
       "      <th>EXPONENT</th>\n",
       "      <th>IS_CRYPTO</th>\n",
       "    </tr>\n",
       "  </thead>\n",
       "  <tbody>\n",
       "    <tr>\n",
       "      <th>0</th>\n",
       "      <td>AED</td>\n",
       "      <td>2</td>\n",
       "      <td>False</td>\n",
       "    </tr>\n",
       "    <tr>\n",
       "      <th>1</th>\n",
       "      <td>AFN</td>\n",
       "      <td>2</td>\n",
       "      <td>False</td>\n",
       "    </tr>\n",
       "    <tr>\n",
       "      <th>2</th>\n",
       "      <td>ALL</td>\n",
       "      <td>2</td>\n",
       "      <td>False</td>\n",
       "    </tr>\n",
       "    <tr>\n",
       "      <th>3</th>\n",
       "      <td>AMD</td>\n",
       "      <td>2</td>\n",
       "      <td>False</td>\n",
       "    </tr>\n",
       "    <tr>\n",
       "      <th>4</th>\n",
       "      <td>ANG</td>\n",
       "      <td>2</td>\n",
       "      <td>False</td>\n",
       "    </tr>\n",
       "  </tbody>\n",
       "</table>\n",
       "</div>"
      ],
      "text/plain": [
       "   CCY  EXPONENT  IS_CRYPTO\n",
       "0  AED         2      False\n",
       "1  AFN         2      False\n",
       "2  ALL         2      False\n",
       "3  AMD         2      False\n",
       "4  ANG         2      False"
      ]
     },
     "metadata": {},
     "output_type": "display_data"
    },
    {
     "data": {
      "text/plain": [
       "False    179\n",
       "True       5\n",
       "Name: IS_CRYPTO, dtype: int64"
      ]
     },
     "execution_count": 414,
     "metadata": {},
     "output_type": "execute_result"
    }
   ],
   "source": [
    "#currency_details\n",
    "display(currency_details.head(5))\n",
    "currency_details.IS_CRYPTO.value_counts()"
   ]
  },
  {
   "cell_type": "markdown",
   "metadata": {},
   "source": [
    "#### Further feature Engineering"
   ]
  },
  {
   "cell_type": "code",
   "execution_count": 424,
   "metadata": {},
   "outputs": [
    {
     "data": {
      "text/html": [
       "<div>\n",
       "<style scoped>\n",
       "    .dataframe tbody tr th:only-of-type {\n",
       "        vertical-align: middle;\n",
       "    }\n",
       "\n",
       "    .dataframe tbody tr th {\n",
       "        vertical-align: top;\n",
       "    }\n",
       "\n",
       "    .dataframe thead th {\n",
       "        text-align: right;\n",
       "    }\n",
       "</style>\n",
       "<table border=\"1\" class=\"dataframe\">\n",
       "  <thead>\n",
       "    <tr style=\"text-align: right;\">\n",
       "      <th></th>\n",
       "      <th>not_crypto</th>\n",
       "      <th>crypto</th>\n",
       "      <th>is_crypto</th>\n",
       "    </tr>\n",
       "  </thead>\n",
       "  <tbody>\n",
       "    <tr>\n",
       "      <th>0</th>\n",
       "      <td>16.0</td>\n",
       "      <td>0.0</td>\n",
       "      <td>0</td>\n",
       "    </tr>\n",
       "    <tr>\n",
       "      <th>1</th>\n",
       "      <td>36.0</td>\n",
       "      <td>0.0</td>\n",
       "      <td>0</td>\n",
       "    </tr>\n",
       "  </tbody>\n",
       "</table>\n",
       "</div>"
      ],
      "text/plain": [
       "   not_crypto  crypto  is_crypto\n",
       "0        16.0     0.0          0\n",
       "1        36.0     0.0          0"
      ]
     },
     "execution_count": 424,
     "metadata": {},
     "output_type": "execute_result"
    }
   ],
   "source": [
    "#Crypto\n",
    "transactions = pd.merge(transactions,currency_details[['CCY','IS_CRYPTO']],how='left',left_on='CURRENCY',right_on='CCY')\n",
    "IS_CRYPTO = pd.DataFrame(pd.pivot_table(transactions[['USER_ID','IS_CRYPTO']],index=['USER_ID'],columns='IS_CRYPTO', aggfunc = np.count_nonzero)).reset_index(drop = True)\n",
    "IS_CRYPTO.fillna(0, inplace=True)\n",
    "IS_CRYPTO.columns = ['not_crypto','crypto']\n",
    "IS_CRYPTO['is_crypto'] = [1 if IS_CRYPTO.crypto[i] > 0 else 0 for i in range(IS_CRYPTO.shape[0])]\n",
    "IS_CRYPTO.head(2)"
   ]
  },
  {
   "cell_type": "markdown",
   "metadata": {},
   "source": [
    "#### At last we create user level data merging all the created features."
   ]
  },
  {
   "cell_type": "code",
   "execution_count": 1356,
   "metadata": {},
   "outputs": [
    {
     "data": {
      "text/html": [
       "<div>\n",
       "<style scoped>\n",
       "    .dataframe tbody tr th:only-of-type {\n",
       "        vertical-align: middle;\n",
       "    }\n",
       "\n",
       "    .dataframe tbody tr th {\n",
       "        vertical-align: top;\n",
       "    }\n",
       "\n",
       "    .dataframe thead th {\n",
       "        text-align: right;\n",
       "    }\n",
       "</style>\n",
       "<table border=\"1\" class=\"dataframe\">\n",
       "  <thead>\n",
       "    <tr style=\"text-align: right;\">\n",
       "      <th></th>\n",
       "      <th>USER_ID</th>\n",
       "      <th>AED</th>\n",
       "      <th>AUD</th>\n",
       "      <th>BTC</th>\n",
       "      <th>CAD</th>\n",
       "      <th>CHF</th>\n",
       "      <th>CZK</th>\n",
       "      <th>DKK</th>\n",
       "      <th>ETH</th>\n",
       "      <th>EUR</th>\n",
       "      <th>...</th>\n",
       "      <th>country_VNM</th>\n",
       "      <th>country_W71</th>\n",
       "      <th>country_WA</th>\n",
       "      <th>country_XXX</th>\n",
       "      <th>country_ZAF</th>\n",
       "      <th>country_ZHE</th>\n",
       "      <th>country_ZMB</th>\n",
       "      <th>country_ZWE</th>\n",
       "      <th>country_marchant_country_not_known</th>\n",
       "      <th>count_diff_marchants_country</th>\n",
       "    </tr>\n",
       "  </thead>\n",
       "  <tbody>\n",
       "    <tr>\n",
       "      <th>0</th>\n",
       "      <td>000e88bb-d302-4fdc-b757-2b1a2c33e7d6</td>\n",
       "      <td>0.0</td>\n",
       "      <td>0.0</td>\n",
       "      <td>0.0</td>\n",
       "      <td>0.0</td>\n",
       "      <td>0.0</td>\n",
       "      <td>0.0</td>\n",
       "      <td>26.0</td>\n",
       "      <td>0.0</td>\n",
       "      <td>6.0</td>\n",
       "      <td>...</td>\n",
       "      <td>0.0</td>\n",
       "      <td>0.0</td>\n",
       "      <td>0.0</td>\n",
       "      <td>0.0</td>\n",
       "      <td>0.0</td>\n",
       "      <td>0.0</td>\n",
       "      <td>0.0</td>\n",
       "      <td>0.0</td>\n",
       "      <td>16.0</td>\n",
       "      <td>2</td>\n",
       "    </tr>\n",
       "    <tr>\n",
       "      <th>1</th>\n",
       "      <td>001032e0-8071-4baf-95b9-e50214665c2e</td>\n",
       "      <td>0.0</td>\n",
       "      <td>0.0</td>\n",
       "      <td>0.0</td>\n",
       "      <td>0.0</td>\n",
       "      <td>0.0</td>\n",
       "      <td>0.0</td>\n",
       "      <td>0.0</td>\n",
       "      <td>0.0</td>\n",
       "      <td>50.0</td>\n",
       "      <td>...</td>\n",
       "      <td>0.0</td>\n",
       "      <td>0.0</td>\n",
       "      <td>0.0</td>\n",
       "      <td>0.0</td>\n",
       "      <td>0.0</td>\n",
       "      <td>0.0</td>\n",
       "      <td>0.0</td>\n",
       "      <td>0.0</td>\n",
       "      <td>22.0</td>\n",
       "      <td>4</td>\n",
       "    </tr>\n",
       "  </tbody>\n",
       "</table>\n",
       "<p>2 rows × 550 columns</p>\n",
       "</div>"
      ],
      "text/plain": [
       "                                USER_ID  AED  AUD  BTC  CAD  CHF  CZK   DKK  \\\n",
       "0  000e88bb-d302-4fdc-b757-2b1a2c33e7d6  0.0  0.0  0.0  0.0  0.0  0.0  26.0   \n",
       "1  001032e0-8071-4baf-95b9-e50214665c2e  0.0  0.0  0.0  0.0  0.0  0.0   0.0   \n",
       "\n",
       "   ETH   EUR  ...  country_VNM  country_W71  country_WA  country_XXX  \\\n",
       "0  0.0   6.0  ...          0.0          0.0         0.0          0.0   \n",
       "1  0.0  50.0  ...          0.0          0.0         0.0          0.0   \n",
       "\n",
       "   country_ZAF  country_ZHE  country_ZMB  country_ZWE  \\\n",
       "0          0.0          0.0          0.0          0.0   \n",
       "1          0.0          0.0          0.0          0.0   \n",
       "\n",
       "   country_marchant_country_not_known  count_diff_marchants_country  \n",
       "0                                16.0                             2  \n",
       "1                                22.0                             4  \n",
       "\n",
       "[2 rows x 550 columns]"
      ]
     },
     "metadata": {},
     "output_type": "display_data"
    },
    {
     "data": {
      "text/plain": [
       "(8021, 550)"
      ]
     },
     "execution_count": 1356,
     "metadata": {},
     "output_type": "execute_result"
    }
   ],
   "source": [
    "#userlevel Data prep \n",
    "\n",
    "user_level_data = pd.concat([user_id,currency_type,currency_amount,ENTRY_METHOD,TYPE,SOURCE,IS_CRYPTO,MERCHANT_CATEGORY,MERCHANT_COUNTRY],axis=1)\n",
    "display(user_level_data.head(2))\n",
    "user_level_data.shape"
   ]
  },
  {
   "cell_type": "markdown",
   "metadata": {},
   "source": [
    "### There are a few user specific features, such as age,app_version and other derived features might be critical to assess the users\n",
    "\n",
    "#### - Currently these are all hypothesis(which will be tested through suitable feature selection algorithm) and might be weak signal.However for ML model each feature has incremental value,as long as there is no perfect multilcolinearity. "
   ]
  },
  {
   "cell_type": "code",
   "execution_count": 1357,
   "metadata": {},
   "outputs": [
    {
     "name": "stderr",
     "output_type": "stream",
     "text": [
      "c:\\users\\sourish\\anaconda3\\lib\\site-packages\\ipykernel_launcher.py:12: SettingWithCopyWarning:\n",
      "\n",
      "\n",
      "A value is trying to be set on a copy of a slice from a DataFrame\n",
      "\n",
      "See the caveats in the documentation: http://pandas.pydata.org/pandas-docs/stable/indexing.html#indexing-view-versus-copy\n",
      "\n"
     ]
    },
    {
     "data": {
      "text/plain": [
       "(7748, 556)"
      ]
     },
     "execution_count": 1357,
     "metadata": {},
     "output_type": "execute_result"
    }
   ],
   "source": [
    "#user level features\n",
    "\n",
    "user_level_data = pd.merge(user_level_data,users,how='inner',left_on='USER_ID',right_on='ID')\n",
    "#User age during creation\n",
    "user_level_data['age'] = pd.Series(user_level_data['CREATED_DATE'].apply(lambda x: str(x).split('-')[0])).astype('int')-user_level_data['BIRTH_YEAR'].astype('int')\n",
    "\n",
    "#Flag for country and PHONE_COUNTRY different\n",
    "user_level_data['user_different_PHONE_COUNTRY'] = (np.array([str(user_level_data['COUNTRY'][i]) not in str(user_level_data['PHONE_COUNTRY'][i]) for i in range(len(user_level_data))])).astype('int32') \n",
    "\n",
    "#TERMS_VERSION using(yearwise)\n",
    "user_level_data['TERMS_VERSION'] = pd.Series(user_level_data['TERMS_VERSION'].apply(lambda x: str(x).split('-')[0]))\n",
    "user_level_data['TERMS_VERSION'][user_level_data['TERMS_VERSION'] == 'nan'] = 'version_not_known'\n",
    "\n",
    "#Signing attempt failed flag\n",
    "#user_level_data['is_signing_attempt_failed'] = np.array([str(user_level_data['FAILED_SIGN_IN_ATTEMPTS'][i]) > 0 for i in range(len(user_level_data))]).astype('int32') \n",
    "\n",
    "#Droping redundant columns\n",
    "user_id = user_level_data['USER_ID']\n",
    "user_level_data.drop(['USER_ID','PHONE_COUNTRY','STATE','CREATED_DATE', 'COUNTRY', 'BIRTH_YEAR','ID'], axis = 1, inplace=True)\n",
    "user_level_data.shape"
   ]
  },
  {
   "cell_type": "markdown",
   "metadata": {},
   "source": [
    "### Exploratory data analysis, visualization and insights- \n",
    "\n",
    "#### -Next we will see a few characteristics of fraudsters.\n",
    "\n",
    "#### -To respect time, I will analyse few importantant or intuitive features. However a lot can be done here as full scale project."
   ]
  },
  {
   "cell_type": "code",
   "execution_count": 1487,
   "metadata": {},
   "outputs": [
    {
     "data": {
      "text/plain": [
       "0"
      ]
     },
     "execution_count": 1487,
     "metadata": {},
     "output_type": "execute_result"
    }
   ],
   "source": [
    "#Missing value check at final data\n",
    "\n",
    "missing = missing_quantity(user_level_data,user_level_data.columns)\n",
    "np.sum(missing['count_missing']) "
   ]
  },
  {
   "cell_type": "code",
   "execution_count": 369,
   "metadata": {},
   "outputs": [
    {
     "data": {
      "image/png": "[encoded data removed]",
      "text/plain": [
       "<Figure size 432x288 with 1 Axes>"
      ]
     },
     "metadata": {},
     "output_type": "display_data"
    },
    {
     "data": {
      "text/html": [
       "<div>\n",
       "<style scoped>\n",
       "    .dataframe tbody tr th:only-of-type {\n",
       "        vertical-align: middle;\n",
       "    }\n",
       "\n",
       "    .dataframe tbody tr th {\n",
       "        vertical-align: top;\n",
       "    }\n",
       "\n",
       "    .dataframe thead th {\n",
       "        text-align: right;\n",
       "    }\n",
       "</style>\n",
       "<table border=\"1\" class=\"dataframe\">\n",
       "  <thead>\n",
       "    <tr style=\"text-align: right;\">\n",
       "      <th></th>\n",
       "      <th>IS_FRAUDSTER</th>\n",
       "      <th>percent</th>\n",
       "    </tr>\n",
       "  </thead>\n",
       "  <tbody>\n",
       "    <tr>\n",
       "      <th>False</th>\n",
       "      <td>7451</td>\n",
       "      <td>0.961668</td>\n",
       "    </tr>\n",
       "    <tr>\n",
       "      <th>True</th>\n",
       "      <td>297</td>\n",
       "      <td>0.038332</td>\n",
       "    </tr>\n",
       "  </tbody>\n",
       "</table>\n",
       "</div>"
      ],
      "text/plain": [
       "       IS_FRAUDSTER   percent\n",
       "False          7451  0.961668\n",
       "True            297  0.038332"
      ]
     },
     "execution_count": 369,
     "metadata": {},
     "output_type": "execute_result"
    }
   ],
   "source": [
    "#'IS_FRAUDSTER' univariate analysis\n",
    "\n",
    "user_level_data['IS_FRAUDSTER'].astype(int).plot.hist()\n",
    "plt.show()\n",
    "t = pd.DataFrame(user_level_data['IS_FRAUDSTER'].value_counts())\n",
    "t['percent'] = t['IS_FRAUDSTER']/t['IS_FRAUDSTER'].sum()\n",
    "t"
   ]
  },
  {
   "cell_type": "markdown",
   "metadata": {},
   "source": [
    "#### As expected the data is extremely imbalanced as the fraud is a rare event.We need to strategise how to handle this during modelling. \n",
    "\n",
    "#### Next we will analyse(bivariate analysis) a few key categorical features,intuitively may distinguise fraudsters."
   ]
  },
  {
   "cell_type": "code",
   "execution_count": 1324,
   "metadata": {},
   "outputs": [
    {
     "name": "stdout",
     "output_type": "stream",
     "text": [
      "This EDA is for HAS_EMAIL\n"
     ]
    },
    {
     "data": {
      "text/html": [
       "<div>\n",
       "<style scoped>\n",
       "    .dataframe tbody tr th:only-of-type {\n",
       "        vertical-align: middle;\n",
       "    }\n",
       "\n",
       "    .dataframe tbody tr th {\n",
       "        vertical-align: top;\n",
       "    }\n",
       "\n",
       "    .dataframe thead th {\n",
       "        text-align: right;\n",
       "    }\n",
       "</style>\n",
       "<table border=\"1\" class=\"dataframe\">\n",
       "  <thead>\n",
       "    <tr style=\"text-align: right;\">\n",
       "      <th>HAS_EMAIL</th>\n",
       "      <th>0</th>\n",
       "      <th>1</th>\n",
       "    </tr>\n",
       "  </thead>\n",
       "  <tbody>\n",
       "    <tr>\n",
       "      <th>0</th>\n",
       "      <td>0.003876</td>\n",
       "      <td>0.039519</td>\n",
       "    </tr>\n",
       "  </tbody>\n",
       "</table>\n",
       "</div>"
      ],
      "text/plain": [
       "HAS_EMAIL         0         1\n",
       "0          0.003876  0.039519"
      ]
     },
     "metadata": {},
     "output_type": "display_data"
    },
    {
     "data": {
      "text/plain": [
       "1    7490\n",
       "0     258\n",
       "Name: HAS_EMAIL, dtype: int64"
      ]
     },
     "metadata": {},
     "output_type": "display_data"
    },
    {
     "data": {
      "image/png": "[encoded data removed]",
      "text/plain": [
       "<Figure size 360x360 with 1 Axes>"
      ]
     },
     "metadata": {},
     "output_type": "display_data"
    },
    {
     "name": "stdout",
     "output_type": "stream",
     "text": [
      "This EDA is for TERMS_VERSION\n"
     ]
    },
    {
     "data": {
      "text/html": [
       "<div>\n",
       "<style scoped>\n",
       "    .dataframe tbody tr th:only-of-type {\n",
       "        vertical-align: middle;\n",
       "    }\n",
       "\n",
       "    .dataframe tbody tr th {\n",
       "        vertical-align: top;\n",
       "    }\n",
       "\n",
       "    .dataframe thead th {\n",
       "        text-align: right;\n",
       "    }\n",
       "</style>\n",
       "<table border=\"1\" class=\"dataframe\">\n",
       "  <thead>\n",
       "    <tr style=\"text-align: right;\">\n",
       "      <th>TERMS_VERSION</th>\n",
       "      <th>2017</th>\n",
       "      <th>2018</th>\n",
       "      <th>version_not_known</th>\n",
       "    </tr>\n",
       "  </thead>\n",
       "  <tbody>\n",
       "    <tr>\n",
       "      <th>0</th>\n",
       "      <td>0.055172</td>\n",
       "      <td>0.033185</td>\n",
       "      <td>0.074745</td>\n",
       "    </tr>\n",
       "  </tbody>\n",
       "</table>\n",
       "</div>"
      ],
      "text/plain": [
       "TERMS_VERSION      2017      2018  version_not_known\n",
       "0              0.055172  0.033185           0.074745"
      ]
     },
     "metadata": {},
     "output_type": "display_data"
    },
    {
     "data": {
      "text/plain": [
       "2018                 6720\n",
       "version_not_known     883\n",
       "2017                  145\n",
       "Name: TERMS_VERSION, dtype: int64"
      ]
     },
     "metadata": {},
     "output_type": "display_data"
    },
    {
     "data": {
      "image/png": "[encoded data removed]",
      "text/plain": [
       "<Figure size 360x360 with 1 Axes>"
      ]
     },
     "metadata": {},
     "output_type": "display_data"
    },
    {
     "name": "stdout",
     "output_type": "stream",
     "text": [
      "This EDA is for KYC\n"
     ]
    },
    {
     "data": {
      "text/html": [
       "<div>\n",
       "<style scoped>\n",
       "    .dataframe tbody tr th:only-of-type {\n",
       "        vertical-align: middle;\n",
       "    }\n",
       "\n",
       "    .dataframe tbody tr th {\n",
       "        vertical-align: top;\n",
       "    }\n",
       "\n",
       "    .dataframe thead th {\n",
       "        text-align: right;\n",
       "    }\n",
       "</style>\n",
       "<table border=\"1\" class=\"dataframe\">\n",
       "  <thead>\n",
       "    <tr style=\"text-align: right;\">\n",
       "      <th>KYC</th>\n",
       "      <th>FAILED</th>\n",
       "      <th>NONE</th>\n",
       "      <th>PASSED</th>\n",
       "      <th>PENDING</th>\n",
       "    </tr>\n",
       "  </thead>\n",
       "  <tbody>\n",
       "    <tr>\n",
       "      <th>0</th>\n",
       "      <td>0.09205</td>\n",
       "      <td>0.0</td>\n",
       "      <td>0.038111</td>\n",
       "      <td>0.262295</td>\n",
       "    </tr>\n",
       "  </tbody>\n",
       "</table>\n",
       "</div>"
      ],
      "text/plain": [
       "KYC   FAILED  NONE    PASSED   PENDING\n",
       "0    0.09205   0.0  0.038111  0.262295"
      ]
     },
     "metadata": {},
     "output_type": "display_data"
    },
    {
     "data": {
      "text/plain": [
       "PASSED     6796\n",
       "NONE        652\n",
       "FAILED      239\n",
       "PENDING      61\n",
       "Name: KYC, dtype: int64"
      ]
     },
     "metadata": {},
     "output_type": "display_data"
    },
    {
     "data": {
      "image/png": "[encoded data removed]",
      "text/plain": [
       "<Figure size 360x360 with 1 Axes>"
      ]
     },
     "metadata": {},
     "output_type": "display_data"
    },
    {
     "name": "stdout",
     "output_type": "stream",
     "text": [
      "This EDA is for FAILED_SIGN_IN_ATTEMPTS\n"
     ]
    },
    {
     "data": {
      "text/html": [
       "<div>\n",
       "<style scoped>\n",
       "    .dataframe tbody tr th:only-of-type {\n",
       "        vertical-align: middle;\n",
       "    }\n",
       "\n",
       "    .dataframe tbody tr th {\n",
       "        vertical-align: top;\n",
       "    }\n",
       "\n",
       "    .dataframe thead th {\n",
       "        text-align: right;\n",
       "    }\n",
       "</style>\n",
       "<table border=\"1\" class=\"dataframe\">\n",
       "  <thead>\n",
       "    <tr style=\"text-align: right;\">\n",
       "      <th>FAILED_SIGN_IN_ATTEMPTS</th>\n",
       "      <th>0</th>\n",
       "      <th>1</th>\n",
       "      <th>2</th>\n",
       "      <th>3</th>\n",
       "      <th>6</th>\n",
       "    </tr>\n",
       "  </thead>\n",
       "  <tbody>\n",
       "    <tr>\n",
       "      <th>0</th>\n",
       "      <td>0.038167</td>\n",
       "      <td>0.045455</td>\n",
       "      <td>0.105263</td>\n",
       "      <td>0.0</td>\n",
       "      <td>0.0</td>\n",
       "    </tr>\n",
       "  </tbody>\n",
       "</table>\n",
       "</div>"
      ],
      "text/plain": [
       "FAILED_SIGN_IN_ATTEMPTS         0         1         2    3    6\n",
       "0                        0.038167  0.045455  0.105263  0.0  0.0"
      ]
     },
     "metadata": {},
     "output_type": "display_data"
    },
    {
     "data": {
      "text/plain": [
       "0    7703\n",
       "1      22\n",
       "2      19\n",
       "3       3\n",
       "6       1\n",
       "Name: FAILED_SIGN_IN_ATTEMPTS, dtype: int64"
      ]
     },
     "metadata": {},
     "output_type": "display_data"
    },
    {
     "data": {
      "image/png": "[encoded data removed]",
      "text/plain": [
       "<Figure size 360x360 with 1 Axes>"
      ]
     },
     "metadata": {},
     "output_type": "display_data"
    },
    {
     "name": "stdout",
     "output_type": "stream",
     "text": [
      "This EDA is for user_different_PHONE_COUNTRY\n"
     ]
    },
    {
     "data": {
      "text/html": [
       "<div>\n",
       "<style scoped>\n",
       "    .dataframe tbody tr th:only-of-type {\n",
       "        vertical-align: middle;\n",
       "    }\n",
       "\n",
       "    .dataframe tbody tr th {\n",
       "        vertical-align: top;\n",
       "    }\n",
       "\n",
       "    .dataframe thead th {\n",
       "        text-align: right;\n",
       "    }\n",
       "</style>\n",
       "<table border=\"1\" class=\"dataframe\">\n",
       "  <thead>\n",
       "    <tr style=\"text-align: right;\">\n",
       "      <th>user_different_PHONE_COUNTRY</th>\n",
       "      <th>0</th>\n",
       "      <th>1</th>\n",
       "    </tr>\n",
       "  </thead>\n",
       "  <tbody>\n",
       "    <tr>\n",
       "      <th>0</th>\n",
       "      <td>0.038741</td>\n",
       "      <td>0.028662</td>\n",
       "    </tr>\n",
       "  </tbody>\n",
       "</table>\n",
       "</div>"
      ],
      "text/plain": [
       "user_different_PHONE_COUNTRY         0         1\n",
       "0                             0.038741  0.028662"
      ]
     },
     "metadata": {},
     "output_type": "display_data"
    },
    {
     "data": {
      "text/plain": [
       "0    7434\n",
       "1     314\n",
       "Name: user_different_PHONE_COUNTRY, dtype: int64"
      ]
     },
     "metadata": {},
     "output_type": "display_data"
    },
    {
     "data": {
      "image/png": "[encoded data removed]",
      "text/plain": [
       "<Figure size 360x360 with 1 Axes>"
      ]
     },
     "metadata": {},
     "output_type": "display_data"
    },
    {
     "name": "stdout",
     "output_type": "stream",
     "text": [
      "This EDA is for is_crypto\n"
     ]
    },
    {
     "data": {
      "text/html": [
       "<div>\n",
       "<style scoped>\n",
       "    .dataframe tbody tr th:only-of-type {\n",
       "        vertical-align: middle;\n",
       "    }\n",
       "\n",
       "    .dataframe tbody tr th {\n",
       "        vertical-align: top;\n",
       "    }\n",
       "\n",
       "    .dataframe thead th {\n",
       "        text-align: right;\n",
       "    }\n",
       "</style>\n",
       "<table border=\"1\" class=\"dataframe\">\n",
       "  <thead>\n",
       "    <tr style=\"text-align: right;\">\n",
       "      <th>is_crypto</th>\n",
       "      <th>0</th>\n",
       "      <th>1</th>\n",
       "    </tr>\n",
       "  </thead>\n",
       "  <tbody>\n",
       "    <tr>\n",
       "      <th>0</th>\n",
       "      <td>0.03876</td>\n",
       "      <td>0.014599</td>\n",
       "    </tr>\n",
       "  </tbody>\n",
       "</table>\n",
       "</div>"
      ],
      "text/plain": [
       "is_crypto        0         1\n",
       "0          0.03876  0.014599"
      ]
     },
     "metadata": {},
     "output_type": "display_data"
    },
    {
     "data": {
      "text/plain": [
       "0    7611\n",
       "1     137\n",
       "Name: is_crypto, dtype: int64"
      ]
     },
     "metadata": {},
     "output_type": "display_data"
    },
    {
     "data": {
      "image/png": "[encoded data removed]",
      "text/plain": [
       "<Figure size 360x360 with 1 Axes>"
      ]
     },
     "metadata": {},
     "output_type": "display_data"
    }
   ],
   "source": [
    "#EDA and visualization for Categorical feature\n",
    "\n",
    "cols = ['HAS_EMAIL','TERMS_VERSION','KYC','FAILED_SIGN_IN_ATTEMPTS','user_different_PHONE_COUNTRY','is_crypto']\n",
    "\n",
    "for i in cols:\n",
    "    print('This EDA is for %s' %(i))\n",
    "    display(pd.DataFrame(pd.pivot_table(user_level_data[['IS_FRAUDSTER',i]],columns=i,values=i, aggfunc = np.mean)).reset_index(drop=True))\n",
    "    display(user_level_data[i].value_counts())\n",
    "    sns.catplot(x=i, y=\"IS_FRAUDSTER\", kind=\"bar\", data=user_level_data)\n",
    "    plt.show()"
   ]
  },
  {
   "cell_type": "markdown",
   "metadata": {},
   "source": [
    "#### From the bivariate EDA and bar plots it's visible that 'TERMS_VERSION' palays a critical role in triggering fraudulent behaviour.Latest term- 2018 has relatively less(40%) event rate(fraud rate)than its older version.Also the for the users 'version_not_known' have 2.25 times higher event rate than 2018 versions. This is probably because of the stricter regulation and monitoring for the latest version. Although these two categories are minority in counts compared to 2018, it has major impact for this rare event scenario to calculate propensity to fraud.It will definitely come out as a important feature.\n",
    "\n",
    "#### Also as expected 'FAILED_SIGN_IN_ATTEMPTS' depicts user behaviour with more nos of failed signing attempts triggers higher fraud rate.Even majority have 0 FAILED_SIGN_IN_ATTEMPTS, if we create a flag 0 vs. non-zero FAILED_SIGN_IN_ATTEMPTS,using only this feature we can detect 3(~1%) fraudsters in this small dataset.\n",
    "\n",
    "#### Similarly KYC 'failed' and 'pending' customers has more propensity to make fraud 2.4 times and 6.9 times than KYC PASSED resp. Although with very low representation for these categories compared to PASSED, for this grossly imbalanced data it's critical.However I have a fundamental question: \"How before KYC passed, users can use their cards\"?\n",
    "\n",
    "#### Counter-intuitively the users used crypto currency at least one has 62% less fraud rate, who didn't use.Even with very low no with crypto currency, this feature may worth exploring.\n",
    "\n",
    "#### Also 'HAS_EMAIL' and 'user_different_PHONE_COUNTRY'(user's country and phone country is different)binary features have some discriminatory power, however minority one sub-category be. "
   ]
  },
  {
   "cell_type": "code",
   "execution_count": 507,
   "metadata": {},
   "outputs": [
    {
     "name": "stdout",
     "output_type": "stream",
     "text": [
      "This plot is for age\n"
     ]
    },
    {
     "data": {
      "text/html": [
       "<div>\n",
       "<style scoped>\n",
       "    .dataframe tbody tr th:only-of-type {\n",
       "        vertical-align: middle;\n",
       "    }\n",
       "\n",
       "    .dataframe tbody tr th {\n",
       "        vertical-align: top;\n",
       "    }\n",
       "\n",
       "    .dataframe thead th {\n",
       "        text-align: right;\n",
       "    }\n",
       "</style>\n",
       "<table border=\"1\" class=\"dataframe\">\n",
       "  <thead>\n",
       "    <tr style=\"text-align: right;\">\n",
       "      <th>IS_FRAUDSTER</th>\n",
       "      <th>0</th>\n",
       "      <th>1</th>\n",
       "    </tr>\n",
       "  </thead>\n",
       "  <tbody>\n",
       "    <tr>\n",
       "      <th>0</th>\n",
       "      <td>34.106831</td>\n",
       "      <td>30.289562</td>\n",
       "    </tr>\n",
       "  </tbody>\n",
       "</table>\n",
       "</div>"
      ],
      "text/plain": [
       "IS_FRAUDSTER          0          1\n",
       "0             34.106831  30.289562"
      ]
     },
     "metadata": {},
     "output_type": "display_data"
    },
    {
     "data": {
      "image/png": "[encoded data removed]",
      "text/plain": [
       "<Figure size 432x288 with 1 Axes>"
      ]
     },
     "metadata": {},
     "output_type": "display_data"
    },
    {
     "name": "stdout",
     "output_type": "stream",
     "text": [
      "This plot is for count_diff_marchants_country\n"
     ]
    },
    {
     "data": {
      "text/html": [
       "<div>\n",
       "<style scoped>\n",
       "    .dataframe tbody tr th:only-of-type {\n",
       "        vertical-align: middle;\n",
       "    }\n",
       "\n",
       "    .dataframe tbody tr th {\n",
       "        vertical-align: top;\n",
       "    }\n",
       "\n",
       "    .dataframe thead th {\n",
       "        text-align: right;\n",
       "    }\n",
       "</style>\n",
       "<table border=\"1\" class=\"dataframe\">\n",
       "  <thead>\n",
       "    <tr style=\"text-align: right;\">\n",
       "      <th>IS_FRAUDSTER</th>\n",
       "      <th>0</th>\n",
       "      <th>1</th>\n",
       "    </tr>\n",
       "  </thead>\n",
       "  <tbody>\n",
       "    <tr>\n",
       "      <th>0</th>\n",
       "      <td>4.267347</td>\n",
       "      <td>4.023569</td>\n",
       "    </tr>\n",
       "  </tbody>\n",
       "</table>\n",
       "</div>"
      ],
      "text/plain": [
       "IS_FRAUDSTER         0         1\n",
       "0             4.267347  4.023569"
      ]
     },
     "metadata": {},
     "output_type": "display_data"
    },
    {
     "data": {
      "image/png": "[encoded data removed]",
      "text/plain": [
       "<Figure size 432x288 with 1 Axes>"
      ]
     },
     "metadata": {},
     "output_type": "display_data"
    },
    {
     "name": "stdout",
     "output_type": "stream",
     "text": [
      "This plot is for count_diff_marchants\n"
     ]
    },
    {
     "data": {
      "text/html": [
       "<div>\n",
       "<style scoped>\n",
       "    .dataframe tbody tr th:only-of-type {\n",
       "        vertical-align: middle;\n",
       "    }\n",
       "\n",
       "    .dataframe tbody tr th {\n",
       "        vertical-align: top;\n",
       "    }\n",
       "\n",
       "    .dataframe thead th {\n",
       "        text-align: right;\n",
       "    }\n",
       "</style>\n",
       "<table border=\"1\" class=\"dataframe\">\n",
       "  <thead>\n",
       "    <tr style=\"text-align: right;\">\n",
       "      <th>IS_FRAUDSTER</th>\n",
       "      <th>0</th>\n",
       "      <th>1</th>\n",
       "    </tr>\n",
       "  </thead>\n",
       "  <tbody>\n",
       "    <tr>\n",
       "      <th>0</th>\n",
       "      <td>6.712119</td>\n",
       "      <td>6.309764</td>\n",
       "    </tr>\n",
       "  </tbody>\n",
       "</table>\n",
       "</div>"
      ],
      "text/plain": [
       "IS_FRAUDSTER         0         1\n",
       "0             6.712119  6.309764"
      ]
     },
     "metadata": {},
     "output_type": "display_data"
    },
    {
     "data": {
      "image/png": "[encoded data removed]",
      "text/plain": [
       "<Figure size 432x288 with 1 Axes>"
      ]
     },
     "metadata": {},
     "output_type": "display_data"
    },
    {
     "name": "stdout",
     "output_type": "stream",
     "text": [
      "This plot is for marchant_category_not_known\n"
     ]
    },
    {
     "data": {
      "text/html": [
       "<div>\n",
       "<style scoped>\n",
       "    .dataframe tbody tr th:only-of-type {\n",
       "        vertical-align: middle;\n",
       "    }\n",
       "\n",
       "    .dataframe tbody tr th {\n",
       "        vertical-align: top;\n",
       "    }\n",
       "\n",
       "    .dataframe thead th {\n",
       "        text-align: right;\n",
       "    }\n",
       "</style>\n",
       "<table border=\"1\" class=\"dataframe\">\n",
       "  <thead>\n",
       "    <tr style=\"text-align: right;\">\n",
       "      <th>IS_FRAUDSTER</th>\n",
       "      <th>0</th>\n",
       "      <th>1</th>\n",
       "    </tr>\n",
       "  </thead>\n",
       "  <tbody>\n",
       "    <tr>\n",
       "      <th>0</th>\n",
       "      <td>116.28882</td>\n",
       "      <td>104.087542</td>\n",
       "    </tr>\n",
       "  </tbody>\n",
       "</table>\n",
       "</div>"
      ],
      "text/plain": [
       "IS_FRAUDSTER          0           1\n",
       "0             116.28882  104.087542"
      ]
     },
     "metadata": {},
     "output_type": "display_data"
    },
    {
     "data": {
      "image/png": "[encoded data removed]",
      "text/plain": [
       "<Figure size 432x288 with 1 Axes>"
      ]
     },
     "metadata": {},
     "output_type": "display_data"
    },
    {
     "name": "stdout",
     "output_type": "stream",
     "text": [
      "This plot is for count_diff_currency\n"
     ]
    },
    {
     "data": {
      "text/html": [
       "<div>\n",
       "<style scoped>\n",
       "    .dataframe tbody tr th:only-of-type {\n",
       "        vertical-align: middle;\n",
       "    }\n",
       "\n",
       "    .dataframe tbody tr th {\n",
       "        vertical-align: top;\n",
       "    }\n",
       "\n",
       "    .dataframe thead th {\n",
       "        text-align: right;\n",
       "    }\n",
       "</style>\n",
       "<table border=\"1\" class=\"dataframe\">\n",
       "  <thead>\n",
       "    <tr style=\"text-align: right;\">\n",
       "      <th>IS_FRAUDSTER</th>\n",
       "      <th>0</th>\n",
       "      <th>1</th>\n",
       "    </tr>\n",
       "  </thead>\n",
       "  <tbody>\n",
       "    <tr>\n",
       "      <th>0</th>\n",
       "      <td>1.663535</td>\n",
       "      <td>1.622896</td>\n",
       "    </tr>\n",
       "  </tbody>\n",
       "</table>\n",
       "</div>"
      ],
      "text/plain": [
       "IS_FRAUDSTER         0         1\n",
       "0             1.663535  1.622896"
      ]
     },
     "metadata": {},
     "output_type": "display_data"
    },
    {
     "data": {
      "image/png": "[encoded data removed]",
      "text/plain": [
       "<Figure size 432x288 with 1 Axes>"
      ]
     },
     "metadata": {},
     "output_type": "display_data"
    },
    {
     "name": "stdout",
     "output_type": "stream",
     "text": [
      "This plot is for marchant_country_not_known\n"
     ]
    },
    {
     "data": {
      "text/html": [
       "<div>\n",
       "<style scoped>\n",
       "    .dataframe tbody tr th:only-of-type {\n",
       "        vertical-align: middle;\n",
       "    }\n",
       "\n",
       "    .dataframe tbody tr th {\n",
       "        vertical-align: top;\n",
       "    }\n",
       "\n",
       "    .dataframe thead th {\n",
       "        text-align: right;\n",
       "    }\n",
       "</style>\n",
       "<table border=\"1\" class=\"dataframe\">\n",
       "  <thead>\n",
       "    <tr style=\"text-align: right;\">\n",
       "      <th>IS_FRAUDSTER</th>\n",
       "      <th>0</th>\n",
       "      <th>1</th>\n",
       "    </tr>\n",
       "  </thead>\n",
       "  <tbody>\n",
       "    <tr>\n",
       "      <th>0</th>\n",
       "      <td>51.170313</td>\n",
       "      <td>49.158249</td>\n",
       "    </tr>\n",
       "  </tbody>\n",
       "</table>\n",
       "</div>"
      ],
      "text/plain": [
       "IS_FRAUDSTER          0          1\n",
       "0             51.170313  49.158249"
      ]
     },
     "metadata": {},
     "output_type": "display_data"
    },
    {
     "data": {
      "image/png": "[encoded data removed]",
      "text/plain": [
       "<Figure size 432x288 with 1 Axes>"
      ]
     },
     "metadata": {},
     "output_type": "display_data"
    }
   ],
   "source": [
    "##EDA and visualization for continuous features\n",
    "\n",
    "continuous = ['age','count_diff_marchants_country','count_diff_marchants','marchant_category_not_known','count_diff_currency','marchant_country_not_known']\n",
    "\n",
    "for i in continuous:\n",
    "    print('This plot is for %s' %(i))\n",
    "    display(pd.DataFrame(pd.pivot_table(user_level_data[['IS_FRAUDSTER',i]],columns='IS_FRAUDSTER',values=i, aggfunc = np.mean)).reset_index(drop=True))\n",
    "    for target in targets:\n",
    "        sns.distplot(user_level_data[(user_level_data['IS_FRAUDSTER'] == target)][i], hist=False, rug=False,label=target)\n",
    "    plt.show() "
   ]
  },
  {
   "cell_type": "markdown",
   "metadata": {},
   "source": [
    "#### The distribution and EDA of user age for fraudulent vs. non-fraudulent, it's clearly evident that fraudsters' average is less than that of non-fraudsters' and this will come out as one of the most important features. This is natural and intuitive for any risk models, such as default, fraud,AML etc.\n",
    "\n",
    "#### For other continuous variables, although there is no apparent pattern, for non-linear ML algorithm these may add incremental value and atleast worth taking in the filtering process of feature selection algorithm."
   ]
  },
  {
   "cell_type": "markdown",
   "metadata": {},
   "source": [
    "### Next we will explore one multivariate(more one independent feature)space to understand fraudulent pattern\n",
    "\n",
    "#### For sake of time I explored only one such significant pocket, however more are worth exploring."
   ]
  },
  {
   "cell_type": "code",
   "execution_count": 497,
   "metadata": {},
   "outputs": [
    {
     "name": "stdout",
     "output_type": "stream",
     "text": [
      "this analysis is for KYC and TERMS_VERSION multivariate space\n"
     ]
    },
    {
     "data": {
      "text/html": [
       "<div>\n",
       "<style scoped>\n",
       "    .dataframe tbody tr th:only-of-type {\n",
       "        vertical-align: middle;\n",
       "    }\n",
       "\n",
       "    .dataframe tbody tr th {\n",
       "        vertical-align: top;\n",
       "    }\n",
       "\n",
       "    .dataframe thead th {\n",
       "        text-align: right;\n",
       "    }\n",
       "</style>\n",
       "<table border=\"1\" class=\"dataframe\">\n",
       "  <thead>\n",
       "    <tr style=\"text-align: right;\">\n",
       "      <th>KYC</th>\n",
       "      <th>FAILED</th>\n",
       "      <th>NONE</th>\n",
       "      <th>PASSED</th>\n",
       "      <th>PENDING</th>\n",
       "    </tr>\n",
       "    <tr>\n",
       "      <th>TERMS_VERSION</th>\n",
       "      <th></th>\n",
       "      <th></th>\n",
       "      <th></th>\n",
       "      <th></th>\n",
       "    </tr>\n",
       "  </thead>\n",
       "  <tbody>\n",
       "    <tr>\n",
       "      <th>2017</th>\n",
       "      <td>0.000000</td>\n",
       "      <td>0.0</td>\n",
       "      <td>0.061224</td>\n",
       "      <td>0.666667</td>\n",
       "    </tr>\n",
       "    <tr>\n",
       "      <th>2018</th>\n",
       "      <td>0.082803</td>\n",
       "      <td>0.0</td>\n",
       "      <td>0.031983</td>\n",
       "      <td>0.250000</td>\n",
       "    </tr>\n",
       "    <tr>\n",
       "      <th>version_not_known</th>\n",
       "      <td>0.128571</td>\n",
       "      <td>0.0</td>\n",
       "      <td>0.113445</td>\n",
       "      <td>0.214286</td>\n",
       "    </tr>\n",
       "  </tbody>\n",
       "</table>\n",
       "</div>"
      ],
      "text/plain": [
       "KYC                  FAILED  NONE    PASSED   PENDING\n",
       "TERMS_VERSION                                        \n",
       "2017               0.000000   0.0  0.061224  0.666667\n",
       "2018               0.082803   0.0  0.031983  0.250000\n",
       "version_not_known  0.128571   0.0  0.113445  0.214286"
      ]
     },
     "metadata": {},
     "output_type": "display_data"
    },
    {
     "data": {
      "image/png": "[encoded data removed]",
      "text/plain": [
       "<Figure size 360x1080 with 3 Axes>"
      ]
     },
     "metadata": {},
     "output_type": "display_data"
    }
   ],
   "source": [
    "#Analysis in Mutivariate space\n",
    "\n",
    "def multivar_analysis(data,x,y,index):\n",
    "    print('this analysis is for %s and %s multivariate space' %(x, index))\n",
    "    display((pd.pivot_table(data[[y,x,index]],index=index,columns=x,values=y,aggfunc = np.mean)))\n",
    "    sns.catplot(x=x, y=y, row=index,label=y,\n",
    "                kind=\"bar\",\n",
    "                data=data)\n",
    "    plt.show()  \n",
    "\n",
    "multivar_analysis(data=user_level_data,x='KYC',y='IS_FRAUDSTER',index='TERMS_VERSION') "
   ]
  },
  {
   "cell_type": "markdown",
   "metadata": {},
   "source": [
    "#### So from the all the combination of two independent features - 'TERMS_VERSION' and 'KYC' in Multivariate space we see that a certain combination of values(KYC='Pending' and TERMS_VERSION = '2017') generates humongous higher(>20 times) event rate than a ideal KYC status('Passed')with latest app version(2018).Although minuscule/rare in frequency rather rare, fraud detection process falls in the regime of anomaly detection. Also for the combination of values for KYC= 'Pending'/'Failed' and has TERMS_VERSION =  'version_not_known' or 2017 have relatively higher event rate than ideal candidates(KYC status ='Passed' with version 2018)\n",
    "\n",
    "#### This is just a illustration a simple linear Multivariate space(only with 2 features) analysis,as built in feature the ML algorithm will fit the event in hundreds of complex non-linear Multivariate space and will add lot more distinctive power to calculate fraud propensity.  "
   ]
  },
  {
   "cell_type": "markdown",
   "metadata": {},
   "source": [
    "### Feature Transformation\n",
    "#### - We have dependent variable- 'IS_FRAUDSTER' and independent features- 'KYC' and 'TERMS_VERSION' as categorical. For ML model we need to make suitable transformation,so that algorithm can treat them accordingly.\n",
    "\n",
    "#### -We created a class category 'cat_data_transform', which can take care of relevant feature transformation- LabelEncoding('IS_FRAUDSTER') and OneHotEncoding('KYC' and 'TERMS_VERSION'). Also we create provision for inverse transform of these Encodings."
   ]
  },
  {
   "cell_type": "code",
   "execution_count": 262,
   "metadata": {},
   "outputs": [],
   "source": [
    "#Data Transformation\n",
    "\n",
    "class cat_data_transform():\n",
    "    def __init__(self):\n",
    "        self.le = LabelEncoder()\n",
    "        self.oe = OneHotEncoder(sparse = False)\n",
    "    def onehot_encode(self,x):\n",
    "        feature = self.le.fit_transform(x)\n",
    "        self.oe = OneHotEncoder(sparse = False)\n",
    "        return self.oe.fit_transform(feature.reshape(-1,1))\n",
    "    def label_encode(self,x):\n",
    "        return self.le.fit_transform(x)\n",
    "    def inverse_enc(self,x):\n",
    "        inv = list()\n",
    "        for i in range(len(x)):\n",
    "            inv.append(np.argmax(x[i]))\n",
    "        inv=np.array(inv)    \n",
    "        return self.le.inverse_transform(inv)"
   ]
  },
  {
   "cell_type": "code",
   "execution_count": 1358,
   "metadata": {
    "scrolled": true
   },
   "outputs": [
    {
     "name": "stderr",
     "output_type": "stream",
     "text": [
      "c:\\users\\sourish\\anaconda3\\lib\\site-packages\\sklearn\\preprocessing\\_encoders.py:415: FutureWarning:\n",
      "\n",
      "The handling of integer data will change in version 0.22. Currently, the categories are determined based on the range [0, max(values)], while in the future they will be determined based on the unique values.\n",
      "If you want the future behaviour and silence this warning, you can specify \"categories='auto'\".\n",
      "In case you used a LabelEncoder before this OneHotEncoder to convert the categories to integers, then you can now use the OneHotEncoder directly.\n",
      "\n",
      "c:\\users\\sourish\\anaconda3\\lib\\site-packages\\sklearn\\preprocessing\\_encoders.py:415: FutureWarning:\n",
      "\n",
      "The handling of integer data will change in version 0.22. Currently, the categories are determined based on the range [0, max(values)], while in the future they will be determined based on the unique values.\n",
      "If you want the future behaviour and silence this warning, you can specify \"categories='auto'\".\n",
      "In case you used a LabelEncoder before this OneHotEncoder to convert the categories to integers, then you can now use the OneHotEncoder directly.\n",
      "\n"
     ]
    },
    {
     "data": {
      "text/plain": [
       "(7748, 561)"
      ]
     },
     "execution_count": 1358,
     "metadata": {},
     "output_type": "execute_result"
    }
   ],
   "source": [
    "user_level_data['IS_FRAUDSTER'] = cat.label_encode(user_level_data['IS_FRAUDSTER'])\n",
    "enc_kyc = pd.DataFrame(cat.onehot_encode(user_level_data['KYC']),columns=['FAILED','NONE','PASSED','PENDING'])\n",
    "enc_version = pd.DataFrame(cat.onehot_encode(user_level_data['TERMS_VERSION']),columns=['2017_version','2018_version','version_not_known'])\n",
    "user_level_data.drop(['KYC','TERMS_VERSION'],axis=1,inplace=True)\n",
    "model_data = pd.concat([user_level_data,enc_kyc,enc_version],axis=1)\n",
    "model_data.shape"
   ]
  },
  {
   "cell_type": "markdown",
   "metadata": {},
   "source": [
    "### Before building ML model we need to keep in mind that the data is extremely imbalanced. \n",
    "\n",
    "#### - So treat this data anomaly,before building model we have a few strategies, which will be applied only on training data, NOT ON VALIDATION DATA.So a re-producible data splitting is first required."
   ]
  },
  {
   "cell_type": "code",
   "execution_count": 1359,
   "metadata": {},
   "outputs": [
    {
     "name": "stdout",
     "output_type": "stream",
     "text": [
      "training label stat\n",
      "   IS_FRAUDSTER   percent\n",
      "0          6706  0.961709\n",
      "1           267  0.038291\n",
      "validation label stat\n",
      "   IS_FRAUDSTER  percent\n",
      "0           745  0.96129\n",
      "1            30  0.03871\n"
     ]
    }
   ],
   "source": [
    "train_X,valid_X,train_Y,valid_Y = train_test_split(model_data.iloc[:,model_data.columns!='IS_FRAUDSTER'],model_data.iloc[:,model_data.columns=='IS_FRAUDSTER'],test_size = 0.1, random_state = 20)\n",
    "user_train,user_valid = train_test_split(user_id,test_size = 0.1, random_state = 20)\n",
    "t = pd.DataFrame(train_Y['IS_FRAUDSTER'].value_counts())\n",
    "t['percent'] = t['IS_FRAUDSTER']/t['IS_FRAUDSTER'].sum()\n",
    "v = pd.DataFrame(valid_Y['IS_FRAUDSTER'].value_counts())\n",
    "v['percent'] = v['IS_FRAUDSTER']/v['IS_FRAUDSTER'].sum()\n",
    "print('training label stat')\n",
    "print(t)\n",
    "print('validation label stat')\n",
    "print(v)"
   ]
  },
  {
   "cell_type": "markdown",
   "metadata": {},
   "source": [
    "### Plain vanilla supervised learning will result in putting much higher importance to the non-fraudsters, as even with predicting every user as non-fraudster, model can achieve > 96% accuracy and 100% Specificity. However our goal here to reduce false negative(FN) as much as possible even with slight deterioration of accuracy.\n",
    "\n",
    "#### To treat this anomaly/imbalance class problem, we have following few strategies. \n",
    "##### - Resampling- Oversampling of minority class and or Under sampling of minority class,Resample with different ratios,Ensemble different resampled datasets etc.\n",
    "##### - SMOTE(Synthetic Minority Over-sampling Technique), which creates synthetic data with minority class using KNN(K-Nearest Neighbours)algorithm.\n",
    "##### - Weight correction(Putting proportional weights to minority class)\n",
    "\n",
    "#### For sake of time I tried only SMOTE and Weight correction(for final model)"
   ]
  },
  {
   "cell_type": "markdown",
   "metadata": {},
   "source": [
    "#### SMOTE- We applied this only on the training data sample"
   ]
  },
  {
   "cell_type": "code",
   "execution_count": 1360,
   "metadata": {},
   "outputs": [
    {
     "name": "stdout",
     "output_type": "stream",
     "text": [
      "Before OverSampling, counts of label FRAUDSTER : [267]\n",
      "Before OverSampling, counts of label not_FRAUDSTER: [6706] \n",
      "\n"
     ]
    },
    {
     "name": "stderr",
     "output_type": "stream",
     "text": [
      "c:\\users\\sourish\\anaconda3\\lib\\site-packages\\sklearn\\utils\\validation.py:724: DataConversionWarning:\n",
      "\n",
      "A column-vector y was passed when a 1d array was expected. Please change the shape of y to (n_samples, ), for example using ravel().\n",
      "\n"
     ]
    },
    {
     "name": "stdout",
     "output_type": "stream",
     "text": [
      "After OverSampling, the shape of X: (13412, 560)\n",
      "After OverSampling, the shape of Y: (13412,) \n",
      "\n",
      "After OverSampling, counts of label FRAUDSTER: 6706\n",
      "After OverSampling, counts of label not_FRAUDSTER: 6706\n"
     ]
    }
   ],
   "source": [
    "print(\"Before OverSampling, counts of label FRAUDSTER : {}\".format(sum(np.array(train_Y==1))))\n",
    "print(\"Before OverSampling, counts of label not_FRAUDSTER: {} \\n\".format(sum(np.array(train_Y==0))))\n",
    "\n",
    "smt = SMOTE()\n",
    "X, Y = smt.fit_sample(train_X, train_Y)\n",
    "X=pd.DataFrame(X)\n",
    "X.columns = train_X.columns \n",
    "print('After OverSampling, the shape of X: {}'.format(X.shape))\n",
    "print('After OverSampling, the shape of Y: {} \\n'.format(Y.shape))\n",
    "\n",
    "print(\"After OverSampling, counts of label FRAUDSTER: {}\".format(sum(np.array(Y==1))))\n",
    "print(\"After OverSampling, counts of label not_FRAUDSTER: {}\".format(sum(np.array(Y==0))))"
   ]
  },
  {
   "cell_type": "markdown",
   "metadata": {},
   "source": [
    "### Feature Selection\n",
    "\n",
    "#### - Initially we took all the features from feature engineering. However to get rid of useless/junk features we need to take only important features filtered through feature selection algorithm.This will not only reduce overfitting, but also make the model more robust,stable and production friendly.\n",
    "\n",
    "#### - There are many techniques to do this like RFE(Recursive Feature Elimination),PCA(Principal Component Analysis),Variable of Importance(Bagging/Boosting, IV(Information value) etc. For sake of time I chose Variable of Importance with boosting method."
   ]
  },
  {
   "cell_type": "code",
   "execution_count": 1361,
   "metadata": {},
   "outputs": [
    {
     "name": "stderr",
     "output_type": "stream",
     "text": [
      "c:\\users\\sourish\\anaconda3\\lib\\site-packages\\sklearn\\preprocessing\\label.py:252: DataConversionWarning:\n",
      "\n",
      "A column-vector y was passed when a 1d array was expected. Please change the shape of y to (n_samples, ), for example using ravel().\n",
      "\n"
     ]
    },
    {
     "name": "stdout",
     "output_type": "stream",
     "text": [
      "[11:57:13] Allocated 14MB on [0] GeForce GTX 1060 with Max-Q Design, 4926MB remaining.\n",
      "[11:57:13] Allocated 0MB on [0] GeForce GTX 1060 with Max-Q Design, 4926MB remaining.\n",
      "[11:57:13] Allocated 22MB on [0] GeForce GTX 1060 with Max-Q Design, 4904MB remaining.\n",
      "[11:57:13] Allocated 3MB on [0] GeForce GTX 1060 with Max-Q Design, 4902MB remaining.\n",
      "[11:57:13] Allocated 57MB on [0] GeForce GTX 1060 with Max-Q Design, 4845MB remaining.\n",
      "[0]\tvalidation_0-auc:0.830197\tvalidation_1-auc:0.500089\n",
      "Multiple eval metrics have been passed: 'validation_1-auc' will be used for early stopping.\n",
      "\n",
      "Will train until validation_1-auc hasn't improved in 30 rounds.\n",
      "[10]\tvalidation_0-auc:0.929513\tvalidation_1-auc:0.562416\n",
      "[20]\tvalidation_0-auc:0.93629\tvalidation_1-auc:0.576376\n",
      "[30]\tvalidation_0-auc:0.942897\tvalidation_1-auc:0.592058\n",
      "[40]\tvalidation_0-auc:0.955101\tvalidation_1-auc:0.600559\n",
      "[50]\tvalidation_0-auc:0.963135\tvalidation_1-auc:0.618345\n",
      "[60]\tvalidation_0-auc:0.973279\tvalidation_1-auc:0.621812\n",
      "[70]\tvalidation_0-auc:0.976471\tvalidation_1-auc:0.635324\n",
      "[80]\tvalidation_0-auc:0.979823\tvalidation_1-auc:0.638277\n",
      "[90]\tvalidation_0-auc:0.981906\tvalidation_1-auc:0.639933\n",
      "[100]\tvalidation_0-auc:0.983097\tvalidation_1-auc:0.643826\n",
      "[110]\tvalidation_0-auc:0.983886\tvalidation_1-auc:0.635414\n",
      "Stopping. Best iteration:\n",
      "[88]\tvalidation_0-auc:0.981031\tvalidation_1-auc:0.643848\n",
      "\n"
     ]
    }
   ],
   "source": [
    "imp_model = xgb.XGBClassifier(n_estimators= 2000, max_depth = 4,learning_rate=0.03,subsample=0.8,colsample_bytree=0.8, objective= 'gpu:binary:logistic',silent = False,tree_method = 'gpu_hist',gamma = 0.01,reg_alpha=0.005,seed=10)\n",
    "eval_set  = [(X,Y),(valid_X,valid_Y)]\n",
    "\n",
    "imp_mod = imp_model.fit(X,Y,eval_set=eval_set,early_stopping_rounds=30,verbose = 10,\n",
    "        eval_metric=\"auc\")"
   ]
  },
  {
   "cell_type": "markdown",
   "metadata": {},
   "source": [
    "#### We will choose features which constitute cumulative 98% of feature importance"
   ]
  },
  {
   "cell_type": "code",
   "execution_count": 1367,
   "metadata": {},
   "outputs": [
    {
     "name": "stdout",
     "output_type": "stream",
     "text": [
      "76 features have cumulative 98 percent feature importance\n"
     ]
    }
   ],
   "source": [
    "feat_imp = pd.DataFrame(imp_mod.feature_importances_).reset_index(drop = True)\n",
    "feat_imp.columns = ['feature_importance']\n",
    "feat_imp['features'] = train_X.columns\n",
    "feat_imp.sort_values('feature_importance',ascending=False,inplace=True)\n",
    "feat_imp['cum_importance'] = np.cumsum(feat_imp['feature_importance'])\n",
    "print('%d features have cumulative 98 percent feature importance' %(len(feat_imp[(feat_imp['cum_importance'] <= 0.98)])))\n",
    "imp_feat = feat_imp[(feat_imp['cum_importance'] <= 0.98)]['features'].values"
   ]
  },
  {
   "cell_type": "code",
   "execution_count": 1373,
   "metadata": {},
   "outputs": [],
   "source": [
    "#Final Model Data with selected 76 features\n",
    "\n",
    "final_model_data_X = model_data[imp_feat]\n",
    "train_X,valid_X,train_Y,valid_Y = train_test_split(final_model_data_X,model_data.iloc[:,model_data.columns=='IS_FRAUDSTER'],test_size = 0.1, random_state = 20)"
   ]
  },
  {
   "cell_type": "markdown",
   "metadata": {},
   "source": [
    "### ML Model Building\n",
    "\n",
    "#### There are mainly two types of algorithm for this business problem- Supervised and unsupervised learning(mainly anomaly detection algorithms such as Multivariate Gaussian Distribution,Isolation Forest etc.).While these unsupervised learning techniques are worth exploring,for sake of time we chose supervised learning technique.   \n",
    "\n",
    "#### Now we are ready to build model.This is a binary classification problem.There are many m/c learning techniques-Logistic Regression, Decision Tree,Random Forest,Boosing techniques(GBM,XGBoost etc.),SVM etc. and the ideal way would be to try each of them and take the best one or stacking(prediction from multiple ). Because of time constaint we will be focussing on XGBoost(extreme gradient boosting), a class of boosting method,as modelling technique.\n",
    "\n",
    "##### XGBoost is also called regularized Gradient Boosting(an ensemble decision tree based algorithm) and in python it comes as an algorithm under sklearn package. XGBoost provides a parallel tree boosting (also known as GBDT, GBM) that solve many data science problems in a fast and accurate way. The same code runs on major distributed environment (Hadoop, SGE, MPI) and can solve problems beyond billions of examples. \n",
    "\n",
    "##### For building this model, as optimization strategy, we try to maximize F1 score(harmonic mean of precision and recall)and AUC metric."
   ]
  },
  {
   "cell_type": "markdown",
   "metadata": {},
   "source": [
    "### Model Selection- through grid serach hyperparameter tuning \n",
    "\n",
    "#### For time constraint we will vary few key hyper parameters- depth,scale_pos_weight ,base_score(threshold),gamma,colsample and subsample rate of XGB algorithm and will pick the hyper parameter setting,which will give maximum performance(low rmse).Of course there are many more hyper parameters we can play with.\n",
    "\n",
    "#### As key evaluation metric, relevant for this business problem here we try to maximize f1 score."
   ]
  },
  {
   "cell_type": "code",
   "execution_count": 1492,
   "metadata": {},
   "outputs": [
    {
     "name": "stdout",
     "output_type": "stream",
     "text": [
      "Fitting 3 folds for each of 36 candidates, totalling 108 fits\n"
     ]
    },
    {
     "name": "stderr",
     "output_type": "stream",
     "text": [
      "[Parallel(n_jobs=1)]: Using backend SequentialBackend with 1 concurrent workers.\n"
     ]
    },
    {
     "name": "stdout",
     "output_type": "stream",
     "text": [
      "[CV] base_score=0.4, colsample_bytree=0.8, max_depth=4, scale_pos_weight=10, subsample=0.7 \n"
     ]
    },
    {
     "name": "stderr",
     "output_type": "stream",
     "text": [
      "c:\\users\\sourish\\anaconda3\\lib\\site-packages\\sklearn\\preprocessing\\label.py:219: DataConversionWarning:\n",
      "\n",
      "A column-vector y was passed when a 1d array was expected. Please change the shape of y to (n_samples, ), for example using ravel().\n",
      "\n",
      "c:\\users\\sourish\\anaconda3\\lib\\site-packages\\sklearn\\preprocessing\\label.py:252: DataConversionWarning:\n",
      "\n",
      "A column-vector y was passed when a 1d array was expected. Please change the shape of y to (n_samples, ), for example using ravel().\n",
      "\n"
     ]
    },
    {
     "name": "stdout",
     "output_type": "stream",
     "text": [
      "[CV]  base_score=0.4, colsample_bytree=0.8, max_depth=4, scale_pos_weight=10, subsample=0.7, total=   1.9s\n"
     ]
    },
    {
     "name": "stderr",
     "output_type": "stream",
     "text": [
      "[Parallel(n_jobs=1)]: Done   1 out of   1 | elapsed:    1.8s remaining:    0.0s\n"
     ]
    },
    {
     "name": "stdout",
     "output_type": "stream",
     "text": [
      "[CV] base_score=0.4, colsample_bytree=0.8, max_depth=4, scale_pos_weight=10, subsample=0.7 \n"
     ]
    },
    {
     "name": "stderr",
     "output_type": "stream",
     "text": [
      "c:\\users\\sourish\\anaconda3\\lib\\site-packages\\sklearn\\preprocessing\\label.py:219: DataConversionWarning:\n",
      "\n",
      "A column-vector y was passed when a 1d array was expected. Please change the shape of y to (n_samples, ), for example using ravel().\n",
      "\n",
      "c:\\users\\sourish\\anaconda3\\lib\\site-packages\\sklearn\\preprocessing\\label.py:252: DataConversionWarning:\n",
      "\n",
      "A column-vector y was passed when a 1d array was expected. Please change the shape of y to (n_samples, ), for example using ravel().\n",
      "\n"
     ]
    },
    {
     "name": "stdout",
     "output_type": "stream",
     "text": [
      "[CV]  base_score=0.4, colsample_bytree=0.8, max_depth=4, scale_pos_weight=10, subsample=0.7, total=   1.9s\n",
      "[CV] base_score=0.4, colsample_bytree=0.8, max_depth=4, scale_pos_weight=10, subsample=0.7 \n"
     ]
    },
    {
     "name": "stderr",
     "output_type": "stream",
     "text": [
      "c:\\users\\sourish\\anaconda3\\lib\\site-packages\\sklearn\\preprocessing\\label.py:219: DataConversionWarning:\n",
      "\n",
      "A column-vector y was passed when a 1d array was expected. Please change the shape of y to (n_samples, ), for example using ravel().\n",
      "\n",
      "c:\\users\\sourish\\anaconda3\\lib\\site-packages\\sklearn\\preprocessing\\label.py:252: DataConversionWarning:\n",
      "\n",
      "A column-vector y was passed when a 1d array was expected. Please change the shape of y to (n_samples, ), for example using ravel().\n",
      "\n"
     ]
    },
    {
     "name": "stdout",
     "output_type": "stream",
     "text": [
      "[CV]  base_score=0.4, colsample_bytree=0.8, max_depth=4, scale_pos_weight=10, subsample=0.7, total=   1.9s\n",
      "[CV] base_score=0.4, colsample_bytree=0.8, max_depth=4, scale_pos_weight=10, subsample=0.8 \n"
     ]
    },
    {
     "name": "stderr",
     "output_type": "stream",
     "text": [
      "c:\\users\\sourish\\anaconda3\\lib\\site-packages\\sklearn\\preprocessing\\label.py:219: DataConversionWarning:\n",
      "\n",
      "A column-vector y was passed when a 1d array was expected. Please change the shape of y to (n_samples, ), for example using ravel().\n",
      "\n",
      "c:\\users\\sourish\\anaconda3\\lib\\site-packages\\sklearn\\preprocessing\\label.py:252: DataConversionWarning:\n",
      "\n",
      "A column-vector y was passed when a 1d array was expected. Please change the shape of y to (n_samples, ), for example using ravel().\n",
      "\n"
     ]
    },
    {
     "name": "stdout",
     "output_type": "stream",
     "text": [
      "[CV]  base_score=0.4, colsample_bytree=0.8, max_depth=4, scale_pos_weight=10, subsample=0.8, total=   1.8s\n",
      "[CV] base_score=0.4, colsample_bytree=0.8, max_depth=4, scale_pos_weight=10, subsample=0.8 \n"
     ]
    },
    {
     "name": "stderr",
     "output_type": "stream",
     "text": [
      "c:\\users\\sourish\\anaconda3\\lib\\site-packages\\sklearn\\preprocessing\\label.py:219: DataConversionWarning:\n",
      "\n",
      "A column-vector y was passed when a 1d array was expected. Please change the shape of y to (n_samples, ), for example using ravel().\n",
      "\n",
      "c:\\users\\sourish\\anaconda3\\lib\\site-packages\\sklearn\\preprocessing\\label.py:252: DataConversionWarning:\n",
      "\n",
      "A column-vector y was passed when a 1d array was expected. Please change the shape of y to (n_samples, ), for example using ravel().\n",
      "\n"
     ]
    },
    {
     "name": "stdout",
     "output_type": "stream",
     "text": [
      "[CV]  base_score=0.4, colsample_bytree=0.8, max_depth=4, scale_pos_weight=10, subsample=0.8, total=   1.9s\n",
      "[CV] base_score=0.4, colsample_bytree=0.8, max_depth=4, scale_pos_weight=10, subsample=0.8 \n"
     ]
    },
    {
     "name": "stderr",
     "output_type": "stream",
     "text": [
      "c:\\users\\sourish\\anaconda3\\lib\\site-packages\\sklearn\\preprocessing\\label.py:219: DataConversionWarning:\n",
      "\n",
      "A column-vector y was passed when a 1d array was expected. Please change the shape of y to (n_samples, ), for example using ravel().\n",
      "\n",
      "c:\\users\\sourish\\anaconda3\\lib\\site-packages\\sklearn\\preprocessing\\label.py:252: DataConversionWarning:\n",
      "\n",
      "A column-vector y was passed when a 1d array was expected. Please change the shape of y to (n_samples, ), for example using ravel().\n",
      "\n"
     ]
    },
    {
     "name": "stdout",
     "output_type": "stream",
     "text": [
      "[CV]  base_score=0.4, colsample_bytree=0.8, max_depth=4, scale_pos_weight=10, subsample=0.8, total=   1.9s\n",
      "[CV] base_score=0.4, colsample_bytree=0.8, max_depth=4, scale_pos_weight=15, subsample=0.7 \n"
     ]
    },
    {
     "name": "stderr",
     "output_type": "stream",
     "text": [
      "c:\\users\\sourish\\anaconda3\\lib\\site-packages\\sklearn\\preprocessing\\label.py:219: DataConversionWarning:\n",
      "\n",
      "A column-vector y was passed when a 1d array was expected. Please change the shape of y to (n_samples, ), for example using ravel().\n",
      "\n",
      "c:\\users\\sourish\\anaconda3\\lib\\site-packages\\sklearn\\preprocessing\\label.py:252: DataConversionWarning:\n",
      "\n",
      "A column-vector y was passed when a 1d array was expected. Please change the shape of y to (n_samples, ), for example using ravel().\n",
      "\n"
     ]
    },
    {
     "name": "stdout",
     "output_type": "stream",
     "text": [
      "[CV]  base_score=0.4, colsample_bytree=0.8, max_depth=4, scale_pos_weight=15, subsample=0.7, total=   2.0s\n",
      "[CV] base_score=0.4, colsample_bytree=0.8, max_depth=4, scale_pos_weight=15, subsample=0.7 \n"
     ]
    },
    {
     "name": "stderr",
     "output_type": "stream",
     "text": [
      "c:\\users\\sourish\\anaconda3\\lib\\site-packages\\sklearn\\preprocessing\\label.py:219: DataConversionWarning:\n",
      "\n",
      "A column-vector y was passed when a 1d array was expected. Please change the shape of y to (n_samples, ), for example using ravel().\n",
      "\n",
      "c:\\users\\sourish\\anaconda3\\lib\\site-packages\\sklearn\\preprocessing\\label.py:252: DataConversionWarning:\n",
      "\n",
      "A column-vector y was passed when a 1d array was expected. Please change the shape of y to (n_samples, ), for example using ravel().\n",
      "\n"
     ]
    },
    {
     "name": "stdout",
     "output_type": "stream",
     "text": [
      "[CV]  base_score=0.4, colsample_bytree=0.8, max_depth=4, scale_pos_weight=15, subsample=0.7, total=   2.0s\n",
      "[CV] base_score=0.4, colsample_bytree=0.8, max_depth=4, scale_pos_weight=15, subsample=0.7 \n"
     ]
    },
    {
     "name": "stderr",
     "output_type": "stream",
     "text": [
      "c:\\users\\sourish\\anaconda3\\lib\\site-packages\\sklearn\\preprocessing\\label.py:219: DataConversionWarning:\n",
      "\n",
      "A column-vector y was passed when a 1d array was expected. Please change the shape of y to (n_samples, ), for example using ravel().\n",
      "\n",
      "c:\\users\\sourish\\anaconda3\\lib\\site-packages\\sklearn\\preprocessing\\label.py:252: DataConversionWarning:\n",
      "\n",
      "A column-vector y was passed when a 1d array was expected. Please change the shape of y to (n_samples, ), for example using ravel().\n",
      "\n"
     ]
    },
    {
     "name": "stdout",
     "output_type": "stream",
     "text": [
      "[CV]  base_score=0.4, colsample_bytree=0.8, max_depth=4, scale_pos_weight=15, subsample=0.7, total=   2.1s\n",
      "[CV] base_score=0.4, colsample_bytree=0.8, max_depth=4, scale_pos_weight=15, subsample=0.8 \n"
     ]
    },
    {
     "name": "stderr",
     "output_type": "stream",
     "text": [
      "c:\\users\\sourish\\anaconda3\\lib\\site-packages\\sklearn\\preprocessing\\label.py:219: DataConversionWarning:\n",
      "\n",
      "A column-vector y was passed when a 1d array was expected. Please change the shape of y to (n_samples, ), for example using ravel().\n",
      "\n",
      "c:\\users\\sourish\\anaconda3\\lib\\site-packages\\sklearn\\preprocessing\\label.py:252: DataConversionWarning:\n",
      "\n",
      "A column-vector y was passed when a 1d array was expected. Please change the shape of y to (n_samples, ), for example using ravel().\n",
      "\n"
     ]
    },
    {
     "name": "stdout",
     "output_type": "stream",
     "text": [
      "[CV]  base_score=0.4, colsample_bytree=0.8, max_depth=4, scale_pos_weight=15, subsample=0.8, total=   2.0s\n",
      "[CV] base_score=0.4, colsample_bytree=0.8, max_depth=4, scale_pos_weight=15, subsample=0.8 \n"
     ]
    },
    {
     "name": "stderr",
     "output_type": "stream",
     "text": [
      "c:\\users\\sourish\\anaconda3\\lib\\site-packages\\sklearn\\preprocessing\\label.py:219: DataConversionWarning:\n",
      "\n",
      "A column-vector y was passed when a 1d array was expected. Please change the shape of y to (n_samples, ), for example using ravel().\n",
      "\n",
      "c:\\users\\sourish\\anaconda3\\lib\\site-packages\\sklearn\\preprocessing\\label.py:252: DataConversionWarning:\n",
      "\n",
      "A column-vector y was passed when a 1d array was expected. Please change the shape of y to (n_samples, ), for example using ravel().\n",
      "\n"
     ]
    },
    {
     "name": "stdout",
     "output_type": "stream",
     "text": [
      "[CV]  base_score=0.4, colsample_bytree=0.8, max_depth=4, scale_pos_weight=15, subsample=0.8, total=   2.0s\n",
      "[CV] base_score=0.4, colsample_bytree=0.8, max_depth=4, scale_pos_weight=15, subsample=0.8 \n"
     ]
    },
    {
     "name": "stderr",
     "output_type": "stream",
     "text": [
      "c:\\users\\sourish\\anaconda3\\lib\\site-packages\\sklearn\\preprocessing\\label.py:219: DataConversionWarning:\n",
      "\n",
      "A column-vector y was passed when a 1d array was expected. Please change the shape of y to (n_samples, ), for example using ravel().\n",
      "\n",
      "c:\\users\\sourish\\anaconda3\\lib\\site-packages\\sklearn\\preprocessing\\label.py:252: DataConversionWarning:\n",
      "\n",
      "A column-vector y was passed when a 1d array was expected. Please change the shape of y to (n_samples, ), for example using ravel().\n",
      "\n"
     ]
    },
    {
     "name": "stdout",
     "output_type": "stream",
     "text": [
      "[CV]  base_score=0.4, colsample_bytree=0.8, max_depth=4, scale_pos_weight=15, subsample=0.8, total=   1.9s\n",
      "[CV] base_score=0.4, colsample_bytree=0.8, max_depth=4, scale_pos_weight=20, subsample=0.7 \n"
     ]
    },
    {
     "name": "stderr",
     "output_type": "stream",
     "text": [
      "c:\\users\\sourish\\anaconda3\\lib\\site-packages\\sklearn\\preprocessing\\label.py:219: DataConversionWarning:\n",
      "\n",
      "A column-vector y was passed when a 1d array was expected. Please change the shape of y to (n_samples, ), for example using ravel().\n",
      "\n",
      "c:\\users\\sourish\\anaconda3\\lib\\site-packages\\sklearn\\preprocessing\\label.py:252: DataConversionWarning:\n",
      "\n",
      "A column-vector y was passed when a 1d array was expected. Please change the shape of y to (n_samples, ), for example using ravel().\n",
      "\n"
     ]
    },
    {
     "name": "stdout",
     "output_type": "stream",
     "text": [
      "[CV]  base_score=0.4, colsample_bytree=0.8, max_depth=4, scale_pos_weight=20, subsample=0.7, total=   1.9s\n",
      "[CV] base_score=0.4, colsample_bytree=0.8, max_depth=4, scale_pos_weight=20, subsample=0.7 \n"
     ]
    },
    {
     "name": "stderr",
     "output_type": "stream",
     "text": [
      "c:\\users\\sourish\\anaconda3\\lib\\site-packages\\sklearn\\preprocessing\\label.py:219: DataConversionWarning:\n",
      "\n",
      "A column-vector y was passed when a 1d array was expected. Please change the shape of y to (n_samples, ), for example using ravel().\n",
      "\n",
      "c:\\users\\sourish\\anaconda3\\lib\\site-packages\\sklearn\\preprocessing\\label.py:252: DataConversionWarning:\n",
      "\n",
      "A column-vector y was passed when a 1d array was expected. Please change the shape of y to (n_samples, ), for example using ravel().\n",
      "\n"
     ]
    },
    {
     "name": "stdout",
     "output_type": "stream",
     "text": [
      "[CV]  base_score=0.4, colsample_bytree=0.8, max_depth=4, scale_pos_weight=20, subsample=0.7, total=   2.0s\n",
      "[CV] base_score=0.4, colsample_bytree=0.8, max_depth=4, scale_pos_weight=20, subsample=0.7 \n"
     ]
    },
    {
     "name": "stderr",
     "output_type": "stream",
     "text": [
      "c:\\users\\sourish\\anaconda3\\lib\\site-packages\\sklearn\\preprocessing\\label.py:219: DataConversionWarning:\n",
      "\n",
      "A column-vector y was passed when a 1d array was expected. Please change the shape of y to (n_samples, ), for example using ravel().\n",
      "\n",
      "c:\\users\\sourish\\anaconda3\\lib\\site-packages\\sklearn\\preprocessing\\label.py:252: DataConversionWarning:\n",
      "\n",
      "A column-vector y was passed when a 1d array was expected. Please change the shape of y to (n_samples, ), for example using ravel().\n",
      "\n"
     ]
    },
    {
     "name": "stdout",
     "output_type": "stream",
     "text": [
      "[CV]  base_score=0.4, colsample_bytree=0.8, max_depth=4, scale_pos_weight=20, subsample=0.7, total=   2.1s\n",
      "[CV] base_score=0.4, colsample_bytree=0.8, max_depth=4, scale_pos_weight=20, subsample=0.8 \n"
     ]
    },
    {
     "name": "stderr",
     "output_type": "stream",
     "text": [
      "c:\\users\\sourish\\anaconda3\\lib\\site-packages\\sklearn\\preprocessing\\label.py:219: DataConversionWarning:\n",
      "\n",
      "A column-vector y was passed when a 1d array was expected. Please change the shape of y to (n_samples, ), for example using ravel().\n",
      "\n",
      "c:\\users\\sourish\\anaconda3\\lib\\site-packages\\sklearn\\preprocessing\\label.py:252: DataConversionWarning:\n",
      "\n",
      "A column-vector y was passed when a 1d array was expected. Please change the shape of y to (n_samples, ), for example using ravel().\n",
      "\n"
     ]
    },
    {
     "name": "stdout",
     "output_type": "stream",
     "text": [
      "[CV]  base_score=0.4, colsample_bytree=0.8, max_depth=4, scale_pos_weight=20, subsample=0.8, total=   1.9s\n",
      "[CV] base_score=0.4, colsample_bytree=0.8, max_depth=4, scale_pos_weight=20, subsample=0.8 \n"
     ]
    },
    {
     "name": "stderr",
     "output_type": "stream",
     "text": [
      "c:\\users\\sourish\\anaconda3\\lib\\site-packages\\sklearn\\preprocessing\\label.py:219: DataConversionWarning:\n",
      "\n",
      "A column-vector y was passed when a 1d array was expected. Please change the shape of y to (n_samples, ), for example using ravel().\n",
      "\n",
      "c:\\users\\sourish\\anaconda3\\lib\\site-packages\\sklearn\\preprocessing\\label.py:252: DataConversionWarning:\n",
      "\n",
      "A column-vector y was passed when a 1d array was expected. Please change the shape of y to (n_samples, ), for example using ravel().\n",
      "\n"
     ]
    },
    {
     "name": "stdout",
     "output_type": "stream",
     "text": [
      "[CV]  base_score=0.4, colsample_bytree=0.8, max_depth=4, scale_pos_weight=20, subsample=0.8, total=   1.9s\n",
      "[CV] base_score=0.4, colsample_bytree=0.8, max_depth=4, scale_pos_weight=20, subsample=0.8 \n"
     ]
    },
    {
     "name": "stderr",
     "output_type": "stream",
     "text": [
      "c:\\users\\sourish\\anaconda3\\lib\\site-packages\\sklearn\\preprocessing\\label.py:219: DataConversionWarning:\n",
      "\n",
      "A column-vector y was passed when a 1d array was expected. Please change the shape of y to (n_samples, ), for example using ravel().\n",
      "\n",
      "c:\\users\\sourish\\anaconda3\\lib\\site-packages\\sklearn\\preprocessing\\label.py:252: DataConversionWarning:\n",
      "\n",
      "A column-vector y was passed when a 1d array was expected. Please change the shape of y to (n_samples, ), for example using ravel().\n",
      "\n"
     ]
    },
    {
     "name": "stdout",
     "output_type": "stream",
     "text": [
      "[CV]  base_score=0.4, colsample_bytree=0.8, max_depth=4, scale_pos_weight=20, subsample=0.8, total=   1.9s\n",
      "[CV] base_score=0.4, colsample_bytree=0.9, max_depth=4, scale_pos_weight=10, subsample=0.7 \n"
     ]
    },
    {
     "name": "stderr",
     "output_type": "stream",
     "text": [
      "c:\\users\\sourish\\anaconda3\\lib\\site-packages\\sklearn\\preprocessing\\label.py:219: DataConversionWarning:\n",
      "\n",
      "A column-vector y was passed when a 1d array was expected. Please change the shape of y to (n_samples, ), for example using ravel().\n",
      "\n",
      "c:\\users\\sourish\\anaconda3\\lib\\site-packages\\sklearn\\preprocessing\\label.py:252: DataConversionWarning:\n",
      "\n",
      "A column-vector y was passed when a 1d array was expected. Please change the shape of y to (n_samples, ), for example using ravel().\n",
      "\n"
     ]
    },
    {
     "name": "stdout",
     "output_type": "stream",
     "text": [
      "[CV]  base_score=0.4, colsample_bytree=0.9, max_depth=4, scale_pos_weight=10, subsample=0.7, total=   2.1s\n",
      "[CV] base_score=0.4, colsample_bytree=0.9, max_depth=4, scale_pos_weight=10, subsample=0.7 \n"
     ]
    },
    {
     "name": "stderr",
     "output_type": "stream",
     "text": [
      "c:\\users\\sourish\\anaconda3\\lib\\site-packages\\sklearn\\preprocessing\\label.py:219: DataConversionWarning:\n",
      "\n",
      "A column-vector y was passed when a 1d array was expected. Please change the shape of y to (n_samples, ), for example using ravel().\n",
      "\n",
      "c:\\users\\sourish\\anaconda3\\lib\\site-packages\\sklearn\\preprocessing\\label.py:252: DataConversionWarning:\n",
      "\n",
      "A column-vector y was passed when a 1d array was expected. Please change the shape of y to (n_samples, ), for example using ravel().\n",
      "\n"
     ]
    },
    {
     "name": "stdout",
     "output_type": "stream",
     "text": [
      "[CV]  base_score=0.4, colsample_bytree=0.9, max_depth=4, scale_pos_weight=10, subsample=0.7, total=   2.1s\n",
      "[CV] base_score=0.4, colsample_bytree=0.9, max_depth=4, scale_pos_weight=10, subsample=0.7 \n"
     ]
    },
    {
     "name": "stderr",
     "output_type": "stream",
     "text": [
      "c:\\users\\sourish\\anaconda3\\lib\\site-packages\\sklearn\\preprocessing\\label.py:219: DataConversionWarning:\n",
      "\n",
      "A column-vector y was passed when a 1d array was expected. Please change the shape of y to (n_samples, ), for example using ravel().\n",
      "\n",
      "c:\\users\\sourish\\anaconda3\\lib\\site-packages\\sklearn\\preprocessing\\label.py:252: DataConversionWarning:\n",
      "\n",
      "A column-vector y was passed when a 1d array was expected. Please change the shape of y to (n_samples, ), for example using ravel().\n",
      "\n"
     ]
    },
    {
     "name": "stdout",
     "output_type": "stream",
     "text": [
      "[CV]  base_score=0.4, colsample_bytree=0.9, max_depth=4, scale_pos_weight=10, subsample=0.7, total=   2.0s\n",
      "[CV] base_score=0.4, colsample_bytree=0.9, max_depth=4, scale_pos_weight=10, subsample=0.8 \n"
     ]
    },
    {
     "name": "stderr",
     "output_type": "stream",
     "text": [
      "c:\\users\\sourish\\anaconda3\\lib\\site-packages\\sklearn\\preprocessing\\label.py:219: DataConversionWarning:\n",
      "\n",
      "A column-vector y was passed when a 1d array was expected. Please change the shape of y to (n_samples, ), for example using ravel().\n",
      "\n",
      "c:\\users\\sourish\\anaconda3\\lib\\site-packages\\sklearn\\preprocessing\\label.py:252: DataConversionWarning:\n",
      "\n",
      "A column-vector y was passed when a 1d array was expected. Please change the shape of y to (n_samples, ), for example using ravel().\n",
      "\n"
     ]
    },
    {
     "name": "stdout",
     "output_type": "stream",
     "text": [
      "[CV]  base_score=0.4, colsample_bytree=0.9, max_depth=4, scale_pos_weight=10, subsample=0.8, total=   2.0s\n",
      "[CV] base_score=0.4, colsample_bytree=0.9, max_depth=4, scale_pos_weight=10, subsample=0.8 \n"
     ]
    },
    {
     "name": "stderr",
     "output_type": "stream",
     "text": [
      "c:\\users\\sourish\\anaconda3\\lib\\site-packages\\sklearn\\preprocessing\\label.py:219: DataConversionWarning:\n",
      "\n",
      "A column-vector y was passed when a 1d array was expected. Please change the shape of y to (n_samples, ), for example using ravel().\n",
      "\n",
      "c:\\users\\sourish\\anaconda3\\lib\\site-packages\\sklearn\\preprocessing\\label.py:252: DataConversionWarning:\n",
      "\n",
      "A column-vector y was passed when a 1d array was expected. Please change the shape of y to (n_samples, ), for example using ravel().\n",
      "\n"
     ]
    },
    {
     "name": "stdout",
     "output_type": "stream",
     "text": [
      "[CV]  base_score=0.4, colsample_bytree=0.9, max_depth=4, scale_pos_weight=10, subsample=0.8, total=   2.0s\n",
      "[CV] base_score=0.4, colsample_bytree=0.9, max_depth=4, scale_pos_weight=10, subsample=0.8 \n"
     ]
    },
    {
     "name": "stderr",
     "output_type": "stream",
     "text": [
      "c:\\users\\sourish\\anaconda3\\lib\\site-packages\\sklearn\\preprocessing\\label.py:219: DataConversionWarning:\n",
      "\n",
      "A column-vector y was passed when a 1d array was expected. Please change the shape of y to (n_samples, ), for example using ravel().\n",
      "\n",
      "c:\\users\\sourish\\anaconda3\\lib\\site-packages\\sklearn\\preprocessing\\label.py:252: DataConversionWarning:\n",
      "\n",
      "A column-vector y was passed when a 1d array was expected. Please change the shape of y to (n_samples, ), for example using ravel().\n",
      "\n"
     ]
    },
    {
     "name": "stdout",
     "output_type": "stream",
     "text": [
      "[CV]  base_score=0.4, colsample_bytree=0.9, max_depth=4, scale_pos_weight=10, subsample=0.8, total=   2.0s\n",
      "[CV] base_score=0.4, colsample_bytree=0.9, max_depth=4, scale_pos_weight=15, subsample=0.7 \n"
     ]
    },
    {
     "name": "stderr",
     "output_type": "stream",
     "text": [
      "c:\\users\\sourish\\anaconda3\\lib\\site-packages\\sklearn\\preprocessing\\label.py:219: DataConversionWarning:\n",
      "\n",
      "A column-vector y was passed when a 1d array was expected. Please change the shape of y to (n_samples, ), for example using ravel().\n",
      "\n",
      "c:\\users\\sourish\\anaconda3\\lib\\site-packages\\sklearn\\preprocessing\\label.py:252: DataConversionWarning:\n",
      "\n",
      "A column-vector y was passed when a 1d array was expected. Please change the shape of y to (n_samples, ), for example using ravel().\n",
      "\n"
     ]
    },
    {
     "name": "stdout",
     "output_type": "stream",
     "text": [
      "[CV]  base_score=0.4, colsample_bytree=0.9, max_depth=4, scale_pos_weight=15, subsample=0.7, total=   2.0s\n",
      "[CV] base_score=0.4, colsample_bytree=0.9, max_depth=4, scale_pos_weight=15, subsample=0.7 \n"
     ]
    },
    {
     "name": "stderr",
     "output_type": "stream",
     "text": [
      "c:\\users\\sourish\\anaconda3\\lib\\site-packages\\sklearn\\preprocessing\\label.py:219: DataConversionWarning:\n",
      "\n",
      "A column-vector y was passed when a 1d array was expected. Please change the shape of y to (n_samples, ), for example using ravel().\n",
      "\n",
      "c:\\users\\sourish\\anaconda3\\lib\\site-packages\\sklearn\\preprocessing\\label.py:252: DataConversionWarning:\n",
      "\n",
      "A column-vector y was passed when a 1d array was expected. Please change the shape of y to (n_samples, ), for example using ravel().\n",
      "\n"
     ]
    },
    {
     "name": "stdout",
     "output_type": "stream",
     "text": [
      "[CV]  base_score=0.4, colsample_bytree=0.9, max_depth=4, scale_pos_weight=15, subsample=0.7, total=   2.0s\n",
      "[CV] base_score=0.4, colsample_bytree=0.9, max_depth=4, scale_pos_weight=15, subsample=0.7 \n"
     ]
    },
    {
     "name": "stderr",
     "output_type": "stream",
     "text": [
      "c:\\users\\sourish\\anaconda3\\lib\\site-packages\\sklearn\\preprocessing\\label.py:219: DataConversionWarning:\n",
      "\n",
      "A column-vector y was passed when a 1d array was expected. Please change the shape of y to (n_samples, ), for example using ravel().\n",
      "\n",
      "c:\\users\\sourish\\anaconda3\\lib\\site-packages\\sklearn\\preprocessing\\label.py:252: DataConversionWarning:\n",
      "\n",
      "A column-vector y was passed when a 1d array was expected. Please change the shape of y to (n_samples, ), for example using ravel().\n",
      "\n"
     ]
    },
    {
     "name": "stdout",
     "output_type": "stream",
     "text": [
      "[CV]  base_score=0.4, colsample_bytree=0.9, max_depth=4, scale_pos_weight=15, subsample=0.7, total=   2.2s\n",
      "[CV] base_score=0.4, colsample_bytree=0.9, max_depth=4, scale_pos_weight=15, subsample=0.8 \n"
     ]
    },
    {
     "name": "stderr",
     "output_type": "stream",
     "text": [
      "c:\\users\\sourish\\anaconda3\\lib\\site-packages\\sklearn\\preprocessing\\label.py:219: DataConversionWarning:\n",
      "\n",
      "A column-vector y was passed when a 1d array was expected. Please change the shape of y to (n_samples, ), for example using ravel().\n",
      "\n",
      "c:\\users\\sourish\\anaconda3\\lib\\site-packages\\sklearn\\preprocessing\\label.py:252: DataConversionWarning:\n",
      "\n",
      "A column-vector y was passed when a 1d array was expected. Please change the shape of y to (n_samples, ), for example using ravel().\n",
      "\n"
     ]
    },
    {
     "name": "stdout",
     "output_type": "stream",
     "text": [
      "[CV]  base_score=0.4, colsample_bytree=0.9, max_depth=4, scale_pos_weight=15, subsample=0.8, total=   2.1s\n",
      "[CV] base_score=0.4, colsample_bytree=0.9, max_depth=4, scale_pos_weight=15, subsample=0.8 \n"
     ]
    },
    {
     "name": "stderr",
     "output_type": "stream",
     "text": [
      "c:\\users\\sourish\\anaconda3\\lib\\site-packages\\sklearn\\preprocessing\\label.py:219: DataConversionWarning:\n",
      "\n",
      "A column-vector y was passed when a 1d array was expected. Please change the shape of y to (n_samples, ), for example using ravel().\n",
      "\n",
      "c:\\users\\sourish\\anaconda3\\lib\\site-packages\\sklearn\\preprocessing\\label.py:252: DataConversionWarning:\n",
      "\n",
      "A column-vector y was passed when a 1d array was expected. Please change the shape of y to (n_samples, ), for example using ravel().\n",
      "\n"
     ]
    },
    {
     "name": "stdout",
     "output_type": "stream",
     "text": [
      "[CV]  base_score=0.4, colsample_bytree=0.9, max_depth=4, scale_pos_weight=15, subsample=0.8, total=   2.1s\n",
      "[CV] base_score=0.4, colsample_bytree=0.9, max_depth=4, scale_pos_weight=15, subsample=0.8 \n"
     ]
    },
    {
     "name": "stderr",
     "output_type": "stream",
     "text": [
      "c:\\users\\sourish\\anaconda3\\lib\\site-packages\\sklearn\\preprocessing\\label.py:219: DataConversionWarning:\n",
      "\n",
      "A column-vector y was passed when a 1d array was expected. Please change the shape of y to (n_samples, ), for example using ravel().\n",
      "\n",
      "c:\\users\\sourish\\anaconda3\\lib\\site-packages\\sklearn\\preprocessing\\label.py:252: DataConversionWarning:\n",
      "\n",
      "A column-vector y was passed when a 1d array was expected. Please change the shape of y to (n_samples, ), for example using ravel().\n",
      "\n"
     ]
    },
    {
     "name": "stdout",
     "output_type": "stream",
     "text": [
      "[CV]  base_score=0.4, colsample_bytree=0.9, max_depth=4, scale_pos_weight=15, subsample=0.8, total=   2.1s\n",
      "[CV] base_score=0.4, colsample_bytree=0.9, max_depth=4, scale_pos_weight=20, subsample=0.7 \n"
     ]
    },
    {
     "name": "stderr",
     "output_type": "stream",
     "text": [
      "c:\\users\\sourish\\anaconda3\\lib\\site-packages\\sklearn\\preprocessing\\label.py:219: DataConversionWarning:\n",
      "\n",
      "A column-vector y was passed when a 1d array was expected. Please change the shape of y to (n_samples, ), for example using ravel().\n",
      "\n",
      "c:\\users\\sourish\\anaconda3\\lib\\site-packages\\sklearn\\preprocessing\\label.py:252: DataConversionWarning:\n",
      "\n",
      "A column-vector y was passed when a 1d array was expected. Please change the shape of y to (n_samples, ), for example using ravel().\n",
      "\n"
     ]
    },
    {
     "name": "stdout",
     "output_type": "stream",
     "text": [
      "[CV]  base_score=0.4, colsample_bytree=0.9, max_depth=4, scale_pos_weight=20, subsample=0.7, total=   2.1s\n",
      "[CV] base_score=0.4, colsample_bytree=0.9, max_depth=4, scale_pos_weight=20, subsample=0.7 \n"
     ]
    },
    {
     "name": "stderr",
     "output_type": "stream",
     "text": [
      "c:\\users\\sourish\\anaconda3\\lib\\site-packages\\sklearn\\preprocessing\\label.py:219: DataConversionWarning:\n",
      "\n",
      "A column-vector y was passed when a 1d array was expected. Please change the shape of y to (n_samples, ), for example using ravel().\n",
      "\n",
      "c:\\users\\sourish\\anaconda3\\lib\\site-packages\\sklearn\\preprocessing\\label.py:252: DataConversionWarning:\n",
      "\n",
      "A column-vector y was passed when a 1d array was expected. Please change the shape of y to (n_samples, ), for example using ravel().\n",
      "\n"
     ]
    },
    {
     "name": "stdout",
     "output_type": "stream",
     "text": [
      "[CV]  base_score=0.4, colsample_bytree=0.9, max_depth=4, scale_pos_weight=20, subsample=0.7, total=   2.0s\n",
      "[CV] base_score=0.4, colsample_bytree=0.9, max_depth=4, scale_pos_weight=20, subsample=0.7 \n"
     ]
    },
    {
     "name": "stderr",
     "output_type": "stream",
     "text": [
      "c:\\users\\sourish\\anaconda3\\lib\\site-packages\\sklearn\\preprocessing\\label.py:219: DataConversionWarning:\n",
      "\n",
      "A column-vector y was passed when a 1d array was expected. Please change the shape of y to (n_samples, ), for example using ravel().\n",
      "\n",
      "c:\\users\\sourish\\anaconda3\\lib\\site-packages\\sklearn\\preprocessing\\label.py:252: DataConversionWarning:\n",
      "\n",
      "A column-vector y was passed when a 1d array was expected. Please change the shape of y to (n_samples, ), for example using ravel().\n",
      "\n"
     ]
    },
    {
     "name": "stdout",
     "output_type": "stream",
     "text": [
      "[CV]  base_score=0.4, colsample_bytree=0.9, max_depth=4, scale_pos_weight=20, subsample=0.7, total=   2.0s\n",
      "[CV] base_score=0.4, colsample_bytree=0.9, max_depth=4, scale_pos_weight=20, subsample=0.8 \n"
     ]
    },
    {
     "name": "stderr",
     "output_type": "stream",
     "text": [
      "c:\\users\\sourish\\anaconda3\\lib\\site-packages\\sklearn\\preprocessing\\label.py:219: DataConversionWarning:\n",
      "\n",
      "A column-vector y was passed when a 1d array was expected. Please change the shape of y to (n_samples, ), for example using ravel().\n",
      "\n",
      "c:\\users\\sourish\\anaconda3\\lib\\site-packages\\sklearn\\preprocessing\\label.py:252: DataConversionWarning:\n",
      "\n",
      "A column-vector y was passed when a 1d array was expected. Please change the shape of y to (n_samples, ), for example using ravel().\n",
      "\n"
     ]
    },
    {
     "name": "stdout",
     "output_type": "stream",
     "text": [
      "[CV]  base_score=0.4, colsample_bytree=0.9, max_depth=4, scale_pos_weight=20, subsample=0.8, total=   2.0s\n",
      "[CV] base_score=0.4, colsample_bytree=0.9, max_depth=4, scale_pos_weight=20, subsample=0.8 \n"
     ]
    },
    {
     "name": "stderr",
     "output_type": "stream",
     "text": [
      "c:\\users\\sourish\\anaconda3\\lib\\site-packages\\sklearn\\preprocessing\\label.py:219: DataConversionWarning:\n",
      "\n",
      "A column-vector y was passed when a 1d array was expected. Please change the shape of y to (n_samples, ), for example using ravel().\n",
      "\n",
      "c:\\users\\sourish\\anaconda3\\lib\\site-packages\\sklearn\\preprocessing\\label.py:252: DataConversionWarning:\n",
      "\n",
      "A column-vector y was passed when a 1d array was expected. Please change the shape of y to (n_samples, ), for example using ravel().\n",
      "\n"
     ]
    },
    {
     "name": "stdout",
     "output_type": "stream",
     "text": [
      "[CV]  base_score=0.4, colsample_bytree=0.9, max_depth=4, scale_pos_weight=20, subsample=0.8, total=   2.0s\n",
      "[CV] base_score=0.4, colsample_bytree=0.9, max_depth=4, scale_pos_weight=20, subsample=0.8 \n"
     ]
    },
    {
     "name": "stderr",
     "output_type": "stream",
     "text": [
      "c:\\users\\sourish\\anaconda3\\lib\\site-packages\\sklearn\\preprocessing\\label.py:219: DataConversionWarning:\n",
      "\n",
      "A column-vector y was passed when a 1d array was expected. Please change the shape of y to (n_samples, ), for example using ravel().\n",
      "\n",
      "c:\\users\\sourish\\anaconda3\\lib\\site-packages\\sklearn\\preprocessing\\label.py:252: DataConversionWarning:\n",
      "\n",
      "A column-vector y was passed when a 1d array was expected. Please change the shape of y to (n_samples, ), for example using ravel().\n",
      "\n"
     ]
    },
    {
     "name": "stdout",
     "output_type": "stream",
     "text": [
      "[CV]  base_score=0.4, colsample_bytree=0.9, max_depth=4, scale_pos_weight=20, subsample=0.8, total=   2.1s\n",
      "[CV] base_score=0.5, colsample_bytree=0.8, max_depth=4, scale_pos_weight=10, subsample=0.7 \n"
     ]
    },
    {
     "name": "stderr",
     "output_type": "stream",
     "text": [
      "c:\\users\\sourish\\anaconda3\\lib\\site-packages\\sklearn\\preprocessing\\label.py:219: DataConversionWarning:\n",
      "\n",
      "A column-vector y was passed when a 1d array was expected. Please change the shape of y to (n_samples, ), for example using ravel().\n",
      "\n",
      "c:\\users\\sourish\\anaconda3\\lib\\site-packages\\sklearn\\preprocessing\\label.py:252: DataConversionWarning:\n",
      "\n",
      "A column-vector y was passed when a 1d array was expected. Please change the shape of y to (n_samples, ), for example using ravel().\n",
      "\n"
     ]
    },
    {
     "name": "stdout",
     "output_type": "stream",
     "text": [
      "[CV]  base_score=0.5, colsample_bytree=0.8, max_depth=4, scale_pos_weight=10, subsample=0.7, total=   1.9s\n",
      "[CV] base_score=0.5, colsample_bytree=0.8, max_depth=4, scale_pos_weight=10, subsample=0.7 \n"
     ]
    },
    {
     "name": "stderr",
     "output_type": "stream",
     "text": [
      "c:\\users\\sourish\\anaconda3\\lib\\site-packages\\sklearn\\preprocessing\\label.py:219: DataConversionWarning:\n",
      "\n",
      "A column-vector y was passed when a 1d array was expected. Please change the shape of y to (n_samples, ), for example using ravel().\n",
      "\n",
      "c:\\users\\sourish\\anaconda3\\lib\\site-packages\\sklearn\\preprocessing\\label.py:252: DataConversionWarning:\n",
      "\n",
      "A column-vector y was passed when a 1d array was expected. Please change the shape of y to (n_samples, ), for example using ravel().\n",
      "\n"
     ]
    },
    {
     "name": "stdout",
     "output_type": "stream",
     "text": [
      "[CV]  base_score=0.5, colsample_bytree=0.8, max_depth=4, scale_pos_weight=10, subsample=0.7, total=   2.0s\n",
      "[CV] base_score=0.5, colsample_bytree=0.8, max_depth=4, scale_pos_weight=10, subsample=0.7 \n"
     ]
    },
    {
     "name": "stderr",
     "output_type": "stream",
     "text": [
      "c:\\users\\sourish\\anaconda3\\lib\\site-packages\\sklearn\\preprocessing\\label.py:219: DataConversionWarning:\n",
      "\n",
      "A column-vector y was passed when a 1d array was expected. Please change the shape of y to (n_samples, ), for example using ravel().\n",
      "\n",
      "c:\\users\\sourish\\anaconda3\\lib\\site-packages\\sklearn\\preprocessing\\label.py:252: DataConversionWarning:\n",
      "\n",
      "A column-vector y was passed when a 1d array was expected. Please change the shape of y to (n_samples, ), for example using ravel().\n",
      "\n"
     ]
    },
    {
     "name": "stdout",
     "output_type": "stream",
     "text": [
      "[CV]  base_score=0.5, colsample_bytree=0.8, max_depth=4, scale_pos_weight=10, subsample=0.7, total=   2.0s\n",
      "[CV] base_score=0.5, colsample_bytree=0.8, max_depth=4, scale_pos_weight=10, subsample=0.8 \n"
     ]
    },
    {
     "name": "stderr",
     "output_type": "stream",
     "text": [
      "c:\\users\\sourish\\anaconda3\\lib\\site-packages\\sklearn\\preprocessing\\label.py:219: DataConversionWarning:\n",
      "\n",
      "A column-vector y was passed when a 1d array was expected. Please change the shape of y to (n_samples, ), for example using ravel().\n",
      "\n",
      "c:\\users\\sourish\\anaconda3\\lib\\site-packages\\sklearn\\preprocessing\\label.py:252: DataConversionWarning:\n",
      "\n",
      "A column-vector y was passed when a 1d array was expected. Please change the shape of y to (n_samples, ), for example using ravel().\n",
      "\n"
     ]
    },
    {
     "name": "stdout",
     "output_type": "stream",
     "text": [
      "[CV]  base_score=0.5, colsample_bytree=0.8, max_depth=4, scale_pos_weight=10, subsample=0.8, total=   1.8s\n",
      "[CV] base_score=0.5, colsample_bytree=0.8, max_depth=4, scale_pos_weight=10, subsample=0.8 \n"
     ]
    },
    {
     "name": "stderr",
     "output_type": "stream",
     "text": [
      "c:\\users\\sourish\\anaconda3\\lib\\site-packages\\sklearn\\preprocessing\\label.py:219: DataConversionWarning:\n",
      "\n",
      "A column-vector y was passed when a 1d array was expected. Please change the shape of y to (n_samples, ), for example using ravel().\n",
      "\n",
      "c:\\users\\sourish\\anaconda3\\lib\\site-packages\\sklearn\\preprocessing\\label.py:252: DataConversionWarning:\n",
      "\n",
      "A column-vector y was passed when a 1d array was expected. Please change the shape of y to (n_samples, ), for example using ravel().\n",
      "\n"
     ]
    },
    {
     "name": "stdout",
     "output_type": "stream",
     "text": [
      "[CV]  base_score=0.5, colsample_bytree=0.8, max_depth=4, scale_pos_weight=10, subsample=0.8, total=   1.8s\n",
      "[CV] base_score=0.5, colsample_bytree=0.8, max_depth=4, scale_pos_weight=10, subsample=0.8 \n"
     ]
    },
    {
     "name": "stderr",
     "output_type": "stream",
     "text": [
      "c:\\users\\sourish\\anaconda3\\lib\\site-packages\\sklearn\\preprocessing\\label.py:219: DataConversionWarning:\n",
      "\n",
      "A column-vector y was passed when a 1d array was expected. Please change the shape of y to (n_samples, ), for example using ravel().\n",
      "\n",
      "c:\\users\\sourish\\anaconda3\\lib\\site-packages\\sklearn\\preprocessing\\label.py:252: DataConversionWarning:\n",
      "\n",
      "A column-vector y was passed when a 1d array was expected. Please change the shape of y to (n_samples, ), for example using ravel().\n",
      "\n"
     ]
    },
    {
     "name": "stdout",
     "output_type": "stream",
     "text": [
      "[CV]  base_score=0.5, colsample_bytree=0.8, max_depth=4, scale_pos_weight=10, subsample=0.8, total=   1.8s\n",
      "[CV] base_score=0.5, colsample_bytree=0.8, max_depth=4, scale_pos_weight=15, subsample=0.7 \n"
     ]
    },
    {
     "name": "stderr",
     "output_type": "stream",
     "text": [
      "c:\\users\\sourish\\anaconda3\\lib\\site-packages\\sklearn\\preprocessing\\label.py:219: DataConversionWarning:\n",
      "\n",
      "A column-vector y was passed when a 1d array was expected. Please change the shape of y to (n_samples, ), for example using ravel().\n",
      "\n",
      "c:\\users\\sourish\\anaconda3\\lib\\site-packages\\sklearn\\preprocessing\\label.py:252: DataConversionWarning:\n",
      "\n",
      "A column-vector y was passed when a 1d array was expected. Please change the shape of y to (n_samples, ), for example using ravel().\n",
      "\n"
     ]
    },
    {
     "name": "stdout",
     "output_type": "stream",
     "text": [
      "[CV]  base_score=0.5, colsample_bytree=0.8, max_depth=4, scale_pos_weight=15, subsample=0.7, total=   2.1s\n",
      "[CV] base_score=0.5, colsample_bytree=0.8, max_depth=4, scale_pos_weight=15, subsample=0.7 \n"
     ]
    },
    {
     "name": "stderr",
     "output_type": "stream",
     "text": [
      "c:\\users\\sourish\\anaconda3\\lib\\site-packages\\sklearn\\preprocessing\\label.py:219: DataConversionWarning:\n",
      "\n",
      "A column-vector y was passed when a 1d array was expected. Please change the shape of y to (n_samples, ), for example using ravel().\n",
      "\n",
      "c:\\users\\sourish\\anaconda3\\lib\\site-packages\\sklearn\\preprocessing\\label.py:252: DataConversionWarning:\n",
      "\n",
      "A column-vector y was passed when a 1d array was expected. Please change the shape of y to (n_samples, ), for example using ravel().\n",
      "\n"
     ]
    },
    {
     "name": "stdout",
     "output_type": "stream",
     "text": [
      "[CV]  base_score=0.5, colsample_bytree=0.8, max_depth=4, scale_pos_weight=15, subsample=0.7, total=   2.0s\n",
      "[CV] base_score=0.5, colsample_bytree=0.8, max_depth=4, scale_pos_weight=15, subsample=0.7 \n"
     ]
    },
    {
     "name": "stderr",
     "output_type": "stream",
     "text": [
      "c:\\users\\sourish\\anaconda3\\lib\\site-packages\\sklearn\\preprocessing\\label.py:219: DataConversionWarning:\n",
      "\n",
      "A column-vector y was passed when a 1d array was expected. Please change the shape of y to (n_samples, ), for example using ravel().\n",
      "\n",
      "c:\\users\\sourish\\anaconda3\\lib\\site-packages\\sklearn\\preprocessing\\label.py:252: DataConversionWarning:\n",
      "\n",
      "A column-vector y was passed when a 1d array was expected. Please change the shape of y to (n_samples, ), for example using ravel().\n",
      "\n"
     ]
    },
    {
     "name": "stdout",
     "output_type": "stream",
     "text": [
      "[CV]  base_score=0.5, colsample_bytree=0.8, max_depth=4, scale_pos_weight=15, subsample=0.7, total=   1.9s\n",
      "[CV] base_score=0.5, colsample_bytree=0.8, max_depth=4, scale_pos_weight=15, subsample=0.8 \n"
     ]
    },
    {
     "name": "stderr",
     "output_type": "stream",
     "text": [
      "c:\\users\\sourish\\anaconda3\\lib\\site-packages\\sklearn\\preprocessing\\label.py:219: DataConversionWarning:\n",
      "\n",
      "A column-vector y was passed when a 1d array was expected. Please change the shape of y to (n_samples, ), for example using ravel().\n",
      "\n",
      "c:\\users\\sourish\\anaconda3\\lib\\site-packages\\sklearn\\preprocessing\\label.py:252: DataConversionWarning:\n",
      "\n",
      "A column-vector y was passed when a 1d array was expected. Please change the shape of y to (n_samples, ), for example using ravel().\n",
      "\n"
     ]
    },
    {
     "name": "stdout",
     "output_type": "stream",
     "text": [
      "[CV]  base_score=0.5, colsample_bytree=0.8, max_depth=4, scale_pos_weight=15, subsample=0.8, total=   1.9s\n",
      "[CV] base_score=0.5, colsample_bytree=0.8, max_depth=4, scale_pos_weight=15, subsample=0.8 \n"
     ]
    },
    {
     "name": "stderr",
     "output_type": "stream",
     "text": [
      "c:\\users\\sourish\\anaconda3\\lib\\site-packages\\sklearn\\preprocessing\\label.py:219: DataConversionWarning:\n",
      "\n",
      "A column-vector y was passed when a 1d array was expected. Please change the shape of y to (n_samples, ), for example using ravel().\n",
      "\n",
      "c:\\users\\sourish\\anaconda3\\lib\\site-packages\\sklearn\\preprocessing\\label.py:252: DataConversionWarning:\n",
      "\n",
      "A column-vector y was passed when a 1d array was expected. Please change the shape of y to (n_samples, ), for example using ravel().\n",
      "\n"
     ]
    },
    {
     "name": "stdout",
     "output_type": "stream",
     "text": [
      "[CV]  base_score=0.5, colsample_bytree=0.8, max_depth=4, scale_pos_weight=15, subsample=0.8, total=   2.0s\n",
      "[CV] base_score=0.5, colsample_bytree=0.8, max_depth=4, scale_pos_weight=15, subsample=0.8 \n"
     ]
    },
    {
     "name": "stderr",
     "output_type": "stream",
     "text": [
      "c:\\users\\sourish\\anaconda3\\lib\\site-packages\\sklearn\\preprocessing\\label.py:219: DataConversionWarning:\n",
      "\n",
      "A column-vector y was passed when a 1d array was expected. Please change the shape of y to (n_samples, ), for example using ravel().\n",
      "\n",
      "c:\\users\\sourish\\anaconda3\\lib\\site-packages\\sklearn\\preprocessing\\label.py:252: DataConversionWarning:\n",
      "\n",
      "A column-vector y was passed when a 1d array was expected. Please change the shape of y to (n_samples, ), for example using ravel().\n",
      "\n"
     ]
    },
    {
     "name": "stdout",
     "output_type": "stream",
     "text": [
      "[CV]  base_score=0.5, colsample_bytree=0.8, max_depth=4, scale_pos_weight=15, subsample=0.8, total=   2.2s\n",
      "[CV] base_score=0.5, colsample_bytree=0.8, max_depth=4, scale_pos_weight=20, subsample=0.7 \n"
     ]
    },
    {
     "name": "stderr",
     "output_type": "stream",
     "text": [
      "c:\\users\\sourish\\anaconda3\\lib\\site-packages\\sklearn\\preprocessing\\label.py:219: DataConversionWarning:\n",
      "\n",
      "A column-vector y was passed when a 1d array was expected. Please change the shape of y to (n_samples, ), for example using ravel().\n",
      "\n",
      "c:\\users\\sourish\\anaconda3\\lib\\site-packages\\sklearn\\preprocessing\\label.py:252: DataConversionWarning:\n",
      "\n",
      "A column-vector y was passed when a 1d array was expected. Please change the shape of y to (n_samples, ), for example using ravel().\n",
      "\n"
     ]
    },
    {
     "name": "stdout",
     "output_type": "stream",
     "text": [
      "[CV]  base_score=0.5, colsample_bytree=0.8, max_depth=4, scale_pos_weight=20, subsample=0.7, total=   2.0s\n",
      "[CV] base_score=0.5, colsample_bytree=0.8, max_depth=4, scale_pos_weight=20, subsample=0.7 \n"
     ]
    },
    {
     "name": "stderr",
     "output_type": "stream",
     "text": [
      "c:\\users\\sourish\\anaconda3\\lib\\site-packages\\sklearn\\preprocessing\\label.py:219: DataConversionWarning:\n",
      "\n",
      "A column-vector y was passed when a 1d array was expected. Please change the shape of y to (n_samples, ), for example using ravel().\n",
      "\n",
      "c:\\users\\sourish\\anaconda3\\lib\\site-packages\\sklearn\\preprocessing\\label.py:252: DataConversionWarning:\n",
      "\n",
      "A column-vector y was passed when a 1d array was expected. Please change the shape of y to (n_samples, ), for example using ravel().\n",
      "\n"
     ]
    },
    {
     "name": "stdout",
     "output_type": "stream",
     "text": [
      "[CV]  base_score=0.5, colsample_bytree=0.8, max_depth=4, scale_pos_weight=20, subsample=0.7, total=   2.0s\n",
      "[CV] base_score=0.5, colsample_bytree=0.8, max_depth=4, scale_pos_weight=20, subsample=0.7 \n"
     ]
    },
    {
     "name": "stderr",
     "output_type": "stream",
     "text": [
      "c:\\users\\sourish\\anaconda3\\lib\\site-packages\\sklearn\\preprocessing\\label.py:219: DataConversionWarning:\n",
      "\n",
      "A column-vector y was passed when a 1d array was expected. Please change the shape of y to (n_samples, ), for example using ravel().\n",
      "\n",
      "c:\\users\\sourish\\anaconda3\\lib\\site-packages\\sklearn\\preprocessing\\label.py:252: DataConversionWarning:\n",
      "\n",
      "A column-vector y was passed when a 1d array was expected. Please change the shape of y to (n_samples, ), for example using ravel().\n",
      "\n"
     ]
    },
    {
     "name": "stdout",
     "output_type": "stream",
     "text": [
      "[CV]  base_score=0.5, colsample_bytree=0.8, max_depth=4, scale_pos_weight=20, subsample=0.7, total=   1.9s\n",
      "[CV] base_score=0.5, colsample_bytree=0.8, max_depth=4, scale_pos_weight=20, subsample=0.8 \n"
     ]
    },
    {
     "name": "stderr",
     "output_type": "stream",
     "text": [
      "c:\\users\\sourish\\anaconda3\\lib\\site-packages\\sklearn\\preprocessing\\label.py:219: DataConversionWarning:\n",
      "\n",
      "A column-vector y was passed when a 1d array was expected. Please change the shape of y to (n_samples, ), for example using ravel().\n",
      "\n",
      "c:\\users\\sourish\\anaconda3\\lib\\site-packages\\sklearn\\preprocessing\\label.py:252: DataConversionWarning:\n",
      "\n",
      "A column-vector y was passed when a 1d array was expected. Please change the shape of y to (n_samples, ), for example using ravel().\n",
      "\n"
     ]
    },
    {
     "name": "stdout",
     "output_type": "stream",
     "text": [
      "[CV]  base_score=0.5, colsample_bytree=0.8, max_depth=4, scale_pos_weight=20, subsample=0.8, total=   1.9s\n",
      "[CV] base_score=0.5, colsample_bytree=0.8, max_depth=4, scale_pos_weight=20, subsample=0.8 \n"
     ]
    },
    {
     "name": "stderr",
     "output_type": "stream",
     "text": [
      "c:\\users\\sourish\\anaconda3\\lib\\site-packages\\sklearn\\preprocessing\\label.py:219: DataConversionWarning:\n",
      "\n",
      "A column-vector y was passed when a 1d array was expected. Please change the shape of y to (n_samples, ), for example using ravel().\n",
      "\n",
      "c:\\users\\sourish\\anaconda3\\lib\\site-packages\\sklearn\\preprocessing\\label.py:252: DataConversionWarning:\n",
      "\n",
      "A column-vector y was passed when a 1d array was expected. Please change the shape of y to (n_samples, ), for example using ravel().\n",
      "\n"
     ]
    },
    {
     "name": "stdout",
     "output_type": "stream",
     "text": [
      "[CV]  base_score=0.5, colsample_bytree=0.8, max_depth=4, scale_pos_weight=20, subsample=0.8, total=   1.9s\n",
      "[CV] base_score=0.5, colsample_bytree=0.8, max_depth=4, scale_pos_weight=20, subsample=0.8 \n"
     ]
    },
    {
     "name": "stderr",
     "output_type": "stream",
     "text": [
      "c:\\users\\sourish\\anaconda3\\lib\\site-packages\\sklearn\\preprocessing\\label.py:219: DataConversionWarning:\n",
      "\n",
      "A column-vector y was passed when a 1d array was expected. Please change the shape of y to (n_samples, ), for example using ravel().\n",
      "\n",
      "c:\\users\\sourish\\anaconda3\\lib\\site-packages\\sklearn\\preprocessing\\label.py:252: DataConversionWarning:\n",
      "\n",
      "A column-vector y was passed when a 1d array was expected. Please change the shape of y to (n_samples, ), for example using ravel().\n",
      "\n"
     ]
    },
    {
     "name": "stdout",
     "output_type": "stream",
     "text": [
      "[CV]  base_score=0.5, colsample_bytree=0.8, max_depth=4, scale_pos_weight=20, subsample=0.8, total=   1.8s\n",
      "[CV] base_score=0.5, colsample_bytree=0.9, max_depth=4, scale_pos_weight=10, subsample=0.7 \n"
     ]
    },
    {
     "name": "stderr",
     "output_type": "stream",
     "text": [
      "c:\\users\\sourish\\anaconda3\\lib\\site-packages\\sklearn\\preprocessing\\label.py:219: DataConversionWarning:\n",
      "\n",
      "A column-vector y was passed when a 1d array was expected. Please change the shape of y to (n_samples, ), for example using ravel().\n",
      "\n",
      "c:\\users\\sourish\\anaconda3\\lib\\site-packages\\sklearn\\preprocessing\\label.py:252: DataConversionWarning:\n",
      "\n",
      "A column-vector y was passed when a 1d array was expected. Please change the shape of y to (n_samples, ), for example using ravel().\n",
      "\n"
     ]
    },
    {
     "name": "stdout",
     "output_type": "stream",
     "text": [
      "[CV]  base_score=0.5, colsample_bytree=0.9, max_depth=4, scale_pos_weight=10, subsample=0.7, total=   2.0s\n",
      "[CV] base_score=0.5, colsample_bytree=0.9, max_depth=4, scale_pos_weight=10, subsample=0.7 \n"
     ]
    },
    {
     "name": "stderr",
     "output_type": "stream",
     "text": [
      "c:\\users\\sourish\\anaconda3\\lib\\site-packages\\sklearn\\preprocessing\\label.py:219: DataConversionWarning:\n",
      "\n",
      "A column-vector y was passed when a 1d array was expected. Please change the shape of y to (n_samples, ), for example using ravel().\n",
      "\n",
      "c:\\users\\sourish\\anaconda3\\lib\\site-packages\\sklearn\\preprocessing\\label.py:252: DataConversionWarning:\n",
      "\n",
      "A column-vector y was passed when a 1d array was expected. Please change the shape of y to (n_samples, ), for example using ravel().\n",
      "\n"
     ]
    },
    {
     "name": "stdout",
     "output_type": "stream",
     "text": [
      "[CV]  base_score=0.5, colsample_bytree=0.9, max_depth=4, scale_pos_weight=10, subsample=0.7, total=   2.1s\n",
      "[CV] base_score=0.5, colsample_bytree=0.9, max_depth=4, scale_pos_weight=10, subsample=0.7 \n"
     ]
    },
    {
     "name": "stderr",
     "output_type": "stream",
     "text": [
      "c:\\users\\sourish\\anaconda3\\lib\\site-packages\\sklearn\\preprocessing\\label.py:219: DataConversionWarning:\n",
      "\n",
      "A column-vector y was passed when a 1d array was expected. Please change the shape of y to (n_samples, ), for example using ravel().\n",
      "\n",
      "c:\\users\\sourish\\anaconda3\\lib\\site-packages\\sklearn\\preprocessing\\label.py:252: DataConversionWarning:\n",
      "\n",
      "A column-vector y was passed when a 1d array was expected. Please change the shape of y to (n_samples, ), for example using ravel().\n",
      "\n"
     ]
    },
    {
     "name": "stdout",
     "output_type": "stream",
     "text": [
      "[CV]  base_score=0.5, colsample_bytree=0.9, max_depth=4, scale_pos_weight=10, subsample=0.7, total=   2.1s\n",
      "[CV] base_score=0.5, colsample_bytree=0.9, max_depth=4, scale_pos_weight=10, subsample=0.8 \n"
     ]
    },
    {
     "name": "stderr",
     "output_type": "stream",
     "text": [
      "c:\\users\\sourish\\anaconda3\\lib\\site-packages\\sklearn\\preprocessing\\label.py:219: DataConversionWarning:\n",
      "\n",
      "A column-vector y was passed when a 1d array was expected. Please change the shape of y to (n_samples, ), for example using ravel().\n",
      "\n",
      "c:\\users\\sourish\\anaconda3\\lib\\site-packages\\sklearn\\preprocessing\\label.py:252: DataConversionWarning:\n",
      "\n",
      "A column-vector y was passed when a 1d array was expected. Please change the shape of y to (n_samples, ), for example using ravel().\n",
      "\n"
     ]
    },
    {
     "name": "stdout",
     "output_type": "stream",
     "text": [
      "[CV]  base_score=0.5, colsample_bytree=0.9, max_depth=4, scale_pos_weight=10, subsample=0.8, total=   1.9s\n",
      "[CV] base_score=0.5, colsample_bytree=0.9, max_depth=4, scale_pos_weight=10, subsample=0.8 \n"
     ]
    },
    {
     "name": "stderr",
     "output_type": "stream",
     "text": [
      "c:\\users\\sourish\\anaconda3\\lib\\site-packages\\sklearn\\preprocessing\\label.py:219: DataConversionWarning:\n",
      "\n",
      "A column-vector y was passed when a 1d array was expected. Please change the shape of y to (n_samples, ), for example using ravel().\n",
      "\n",
      "c:\\users\\sourish\\anaconda3\\lib\\site-packages\\sklearn\\preprocessing\\label.py:252: DataConversionWarning:\n",
      "\n",
      "A column-vector y was passed when a 1d array was expected. Please change the shape of y to (n_samples, ), for example using ravel().\n",
      "\n"
     ]
    },
    {
     "name": "stdout",
     "output_type": "stream",
     "text": [
      "[CV]  base_score=0.5, colsample_bytree=0.9, max_depth=4, scale_pos_weight=10, subsample=0.8, total=   1.9s\n",
      "[CV] base_score=0.5, colsample_bytree=0.9, max_depth=4, scale_pos_weight=10, subsample=0.8 \n"
     ]
    },
    {
     "name": "stderr",
     "output_type": "stream",
     "text": [
      "c:\\users\\sourish\\anaconda3\\lib\\site-packages\\sklearn\\preprocessing\\label.py:219: DataConversionWarning:\n",
      "\n",
      "A column-vector y was passed when a 1d array was expected. Please change the shape of y to (n_samples, ), for example using ravel().\n",
      "\n",
      "c:\\users\\sourish\\anaconda3\\lib\\site-packages\\sklearn\\preprocessing\\label.py:252: DataConversionWarning:\n",
      "\n",
      "A column-vector y was passed when a 1d array was expected. Please change the shape of y to (n_samples, ), for example using ravel().\n",
      "\n"
     ]
    },
    {
     "name": "stdout",
     "output_type": "stream",
     "text": [
      "[CV]  base_score=0.5, colsample_bytree=0.9, max_depth=4, scale_pos_weight=10, subsample=0.8, total=   2.0s\n",
      "[CV] base_score=0.5, colsample_bytree=0.9, max_depth=4, scale_pos_weight=15, subsample=0.7 \n"
     ]
    },
    {
     "name": "stderr",
     "output_type": "stream",
     "text": [
      "c:\\users\\sourish\\anaconda3\\lib\\site-packages\\sklearn\\preprocessing\\label.py:219: DataConversionWarning:\n",
      "\n",
      "A column-vector y was passed when a 1d array was expected. Please change the shape of y to (n_samples, ), for example using ravel().\n",
      "\n",
      "c:\\users\\sourish\\anaconda3\\lib\\site-packages\\sklearn\\preprocessing\\label.py:252: DataConversionWarning:\n",
      "\n",
      "A column-vector y was passed when a 1d array was expected. Please change the shape of y to (n_samples, ), for example using ravel().\n",
      "\n"
     ]
    },
    {
     "name": "stdout",
     "output_type": "stream",
     "text": [
      "[CV]  base_score=0.5, colsample_bytree=0.9, max_depth=4, scale_pos_weight=15, subsample=0.7, total=   2.0s\n",
      "[CV] base_score=0.5, colsample_bytree=0.9, max_depth=4, scale_pos_weight=15, subsample=0.7 \n"
     ]
    },
    {
     "name": "stderr",
     "output_type": "stream",
     "text": [
      "c:\\users\\sourish\\anaconda3\\lib\\site-packages\\sklearn\\preprocessing\\label.py:219: DataConversionWarning:\n",
      "\n",
      "A column-vector y was passed when a 1d array was expected. Please change the shape of y to (n_samples, ), for example using ravel().\n",
      "\n",
      "c:\\users\\sourish\\anaconda3\\lib\\site-packages\\sklearn\\preprocessing\\label.py:252: DataConversionWarning:\n",
      "\n",
      "A column-vector y was passed when a 1d array was expected. Please change the shape of y to (n_samples, ), for example using ravel().\n",
      "\n"
     ]
    },
    {
     "name": "stdout",
     "output_type": "stream",
     "text": [
      "[CV]  base_score=0.5, colsample_bytree=0.9, max_depth=4, scale_pos_weight=15, subsample=0.7, total=   2.0s\n",
      "[CV] base_score=0.5, colsample_bytree=0.9, max_depth=4, scale_pos_weight=15, subsample=0.7 \n"
     ]
    },
    {
     "name": "stderr",
     "output_type": "stream",
     "text": [
      "c:\\users\\sourish\\anaconda3\\lib\\site-packages\\sklearn\\preprocessing\\label.py:219: DataConversionWarning:\n",
      "\n",
      "A column-vector y was passed when a 1d array was expected. Please change the shape of y to (n_samples, ), for example using ravel().\n",
      "\n",
      "c:\\users\\sourish\\anaconda3\\lib\\site-packages\\sklearn\\preprocessing\\label.py:252: DataConversionWarning:\n",
      "\n",
      "A column-vector y was passed when a 1d array was expected. Please change the shape of y to (n_samples, ), for example using ravel().\n",
      "\n"
     ]
    },
    {
     "name": "stdout",
     "output_type": "stream",
     "text": [
      "[CV]  base_score=0.5, colsample_bytree=0.9, max_depth=4, scale_pos_weight=15, subsample=0.7, total=   2.0s\n",
      "[CV] base_score=0.5, colsample_bytree=0.9, max_depth=4, scale_pos_weight=15, subsample=0.8 \n"
     ]
    },
    {
     "name": "stderr",
     "output_type": "stream",
     "text": [
      "c:\\users\\sourish\\anaconda3\\lib\\site-packages\\sklearn\\preprocessing\\label.py:219: DataConversionWarning:\n",
      "\n",
      "A column-vector y was passed when a 1d array was expected. Please change the shape of y to (n_samples, ), for example using ravel().\n",
      "\n",
      "c:\\users\\sourish\\anaconda3\\lib\\site-packages\\sklearn\\preprocessing\\label.py:252: DataConversionWarning:\n",
      "\n",
      "A column-vector y was passed when a 1d array was expected. Please change the shape of y to (n_samples, ), for example using ravel().\n",
      "\n"
     ]
    },
    {
     "name": "stdout",
     "output_type": "stream",
     "text": [
      "[CV]  base_score=0.5, colsample_bytree=0.9, max_depth=4, scale_pos_weight=15, subsample=0.8, total=   1.9s\n",
      "[CV] base_score=0.5, colsample_bytree=0.9, max_depth=4, scale_pos_weight=15, subsample=0.8 \n"
     ]
    },
    {
     "name": "stderr",
     "output_type": "stream",
     "text": [
      "c:\\users\\sourish\\anaconda3\\lib\\site-packages\\sklearn\\preprocessing\\label.py:219: DataConversionWarning:\n",
      "\n",
      "A column-vector y was passed when a 1d array was expected. Please change the shape of y to (n_samples, ), for example using ravel().\n",
      "\n",
      "c:\\users\\sourish\\anaconda3\\lib\\site-packages\\sklearn\\preprocessing\\label.py:252: DataConversionWarning:\n",
      "\n",
      "A column-vector y was passed when a 1d array was expected. Please change the shape of y to (n_samples, ), for example using ravel().\n",
      "\n"
     ]
    },
    {
     "name": "stdout",
     "output_type": "stream",
     "text": [
      "[CV]  base_score=0.5, colsample_bytree=0.9, max_depth=4, scale_pos_weight=15, subsample=0.8, total=   1.9s\n",
      "[CV] base_score=0.5, colsample_bytree=0.9, max_depth=4, scale_pos_weight=15, subsample=0.8 \n"
     ]
    },
    {
     "name": "stderr",
     "output_type": "stream",
     "text": [
      "c:\\users\\sourish\\anaconda3\\lib\\site-packages\\sklearn\\preprocessing\\label.py:219: DataConversionWarning:\n",
      "\n",
      "A column-vector y was passed when a 1d array was expected. Please change the shape of y to (n_samples, ), for example using ravel().\n",
      "\n",
      "c:\\users\\sourish\\anaconda3\\lib\\site-packages\\sklearn\\preprocessing\\label.py:252: DataConversionWarning:\n",
      "\n",
      "A column-vector y was passed when a 1d array was expected. Please change the shape of y to (n_samples, ), for example using ravel().\n",
      "\n"
     ]
    },
    {
     "name": "stdout",
     "output_type": "stream",
     "text": [
      "[CV]  base_score=0.5, colsample_bytree=0.9, max_depth=4, scale_pos_weight=15, subsample=0.8, total=   1.9s\n",
      "[CV] base_score=0.5, colsample_bytree=0.9, max_depth=4, scale_pos_weight=20, subsample=0.7 \n"
     ]
    },
    {
     "name": "stderr",
     "output_type": "stream",
     "text": [
      "c:\\users\\sourish\\anaconda3\\lib\\site-packages\\sklearn\\preprocessing\\label.py:219: DataConversionWarning:\n",
      "\n",
      "A column-vector y was passed when a 1d array was expected. Please change the shape of y to (n_samples, ), for example using ravel().\n",
      "\n",
      "c:\\users\\sourish\\anaconda3\\lib\\site-packages\\sklearn\\preprocessing\\label.py:252: DataConversionWarning:\n",
      "\n",
      "A column-vector y was passed when a 1d array was expected. Please change the shape of y to (n_samples, ), for example using ravel().\n",
      "\n"
     ]
    },
    {
     "name": "stdout",
     "output_type": "stream",
     "text": [
      "[CV]  base_score=0.5, colsample_bytree=0.9, max_depth=4, scale_pos_weight=20, subsample=0.7, total=   1.9s\n",
      "[CV] base_score=0.5, colsample_bytree=0.9, max_depth=4, scale_pos_weight=20, subsample=0.7 \n"
     ]
    },
    {
     "name": "stderr",
     "output_type": "stream",
     "text": [
      "c:\\users\\sourish\\anaconda3\\lib\\site-packages\\sklearn\\preprocessing\\label.py:219: DataConversionWarning:\n",
      "\n",
      "A column-vector y was passed when a 1d array was expected. Please change the shape of y to (n_samples, ), for example using ravel().\n",
      "\n",
      "c:\\users\\sourish\\anaconda3\\lib\\site-packages\\sklearn\\preprocessing\\label.py:252: DataConversionWarning:\n",
      "\n",
      "A column-vector y was passed when a 1d array was expected. Please change the shape of y to (n_samples, ), for example using ravel().\n",
      "\n"
     ]
    },
    {
     "name": "stdout",
     "output_type": "stream",
     "text": [
      "[CV]  base_score=0.5, colsample_bytree=0.9, max_depth=4, scale_pos_weight=20, subsample=0.7, total=   1.9s\n",
      "[CV] base_score=0.5, colsample_bytree=0.9, max_depth=4, scale_pos_weight=20, subsample=0.7 \n"
     ]
    },
    {
     "name": "stderr",
     "output_type": "stream",
     "text": [
      "c:\\users\\sourish\\anaconda3\\lib\\site-packages\\sklearn\\preprocessing\\label.py:219: DataConversionWarning:\n",
      "\n",
      "A column-vector y was passed when a 1d array was expected. Please change the shape of y to (n_samples, ), for example using ravel().\n",
      "\n",
      "c:\\users\\sourish\\anaconda3\\lib\\site-packages\\sklearn\\preprocessing\\label.py:252: DataConversionWarning:\n",
      "\n",
      "A column-vector y was passed when a 1d array was expected. Please change the shape of y to (n_samples, ), for example using ravel().\n",
      "\n"
     ]
    },
    {
     "name": "stdout",
     "output_type": "stream",
     "text": [
      "[CV]  base_score=0.5, colsample_bytree=0.9, max_depth=4, scale_pos_weight=20, subsample=0.7, total=   1.9s\n",
      "[CV] base_score=0.5, colsample_bytree=0.9, max_depth=4, scale_pos_weight=20, subsample=0.8 \n"
     ]
    },
    {
     "name": "stderr",
     "output_type": "stream",
     "text": [
      "c:\\users\\sourish\\anaconda3\\lib\\site-packages\\sklearn\\preprocessing\\label.py:219: DataConversionWarning:\n",
      "\n",
      "A column-vector y was passed when a 1d array was expected. Please change the shape of y to (n_samples, ), for example using ravel().\n",
      "\n",
      "c:\\users\\sourish\\anaconda3\\lib\\site-packages\\sklearn\\preprocessing\\label.py:252: DataConversionWarning:\n",
      "\n",
      "A column-vector y was passed when a 1d array was expected. Please change the shape of y to (n_samples, ), for example using ravel().\n",
      "\n"
     ]
    },
    {
     "name": "stdout",
     "output_type": "stream",
     "text": [
      "[CV]  base_score=0.5, colsample_bytree=0.9, max_depth=4, scale_pos_weight=20, subsample=0.8, total=   1.9s\n",
      "[CV] base_score=0.5, colsample_bytree=0.9, max_depth=4, scale_pos_weight=20, subsample=0.8 \n"
     ]
    },
    {
     "name": "stderr",
     "output_type": "stream",
     "text": [
      "c:\\users\\sourish\\anaconda3\\lib\\site-packages\\sklearn\\preprocessing\\label.py:219: DataConversionWarning:\n",
      "\n",
      "A column-vector y was passed when a 1d array was expected. Please change the shape of y to (n_samples, ), for example using ravel().\n",
      "\n",
      "c:\\users\\sourish\\anaconda3\\lib\\site-packages\\sklearn\\preprocessing\\label.py:252: DataConversionWarning:\n",
      "\n",
      "A column-vector y was passed when a 1d array was expected. Please change the shape of y to (n_samples, ), for example using ravel().\n",
      "\n"
     ]
    },
    {
     "name": "stdout",
     "output_type": "stream",
     "text": [
      "[CV]  base_score=0.5, colsample_bytree=0.9, max_depth=4, scale_pos_weight=20, subsample=0.8, total=   1.9s\n",
      "[CV] base_score=0.5, colsample_bytree=0.9, max_depth=4, scale_pos_weight=20, subsample=0.8 \n"
     ]
    },
    {
     "name": "stderr",
     "output_type": "stream",
     "text": [
      "c:\\users\\sourish\\anaconda3\\lib\\site-packages\\sklearn\\preprocessing\\label.py:219: DataConversionWarning:\n",
      "\n",
      "A column-vector y was passed when a 1d array was expected. Please change the shape of y to (n_samples, ), for example using ravel().\n",
      "\n",
      "c:\\users\\sourish\\anaconda3\\lib\\site-packages\\sklearn\\preprocessing\\label.py:252: DataConversionWarning:\n",
      "\n",
      "A column-vector y was passed when a 1d array was expected. Please change the shape of y to (n_samples, ), for example using ravel().\n",
      "\n"
     ]
    },
    {
     "name": "stdout",
     "output_type": "stream",
     "text": [
      "[CV]  base_score=0.5, colsample_bytree=0.9, max_depth=4, scale_pos_weight=20, subsample=0.8, total=   1.9s\n",
      "[CV] base_score=0.6, colsample_bytree=0.8, max_depth=4, scale_pos_weight=10, subsample=0.7 \n"
     ]
    },
    {
     "name": "stderr",
     "output_type": "stream",
     "text": [
      "c:\\users\\sourish\\anaconda3\\lib\\site-packages\\sklearn\\preprocessing\\label.py:219: DataConversionWarning:\n",
      "\n",
      "A column-vector y was passed when a 1d array was expected. Please change the shape of y to (n_samples, ), for example using ravel().\n",
      "\n",
      "c:\\users\\sourish\\anaconda3\\lib\\site-packages\\sklearn\\preprocessing\\label.py:252: DataConversionWarning:\n",
      "\n",
      "A column-vector y was passed when a 1d array was expected. Please change the shape of y to (n_samples, ), for example using ravel().\n",
      "\n"
     ]
    },
    {
     "name": "stdout",
     "output_type": "stream",
     "text": [
      "[CV]  base_score=0.6, colsample_bytree=0.8, max_depth=4, scale_pos_weight=10, subsample=0.7, total=   1.8s\n",
      "[CV] base_score=0.6, colsample_bytree=0.8, max_depth=4, scale_pos_weight=10, subsample=0.7 \n"
     ]
    },
    {
     "name": "stderr",
     "output_type": "stream",
     "text": [
      "c:\\users\\sourish\\anaconda3\\lib\\site-packages\\sklearn\\preprocessing\\label.py:219: DataConversionWarning:\n",
      "\n",
      "A column-vector y was passed when a 1d array was expected. Please change the shape of y to (n_samples, ), for example using ravel().\n",
      "\n",
      "c:\\users\\sourish\\anaconda3\\lib\\site-packages\\sklearn\\preprocessing\\label.py:252: DataConversionWarning:\n",
      "\n",
      "A column-vector y was passed when a 1d array was expected. Please change the shape of y to (n_samples, ), for example using ravel().\n",
      "\n"
     ]
    },
    {
     "name": "stdout",
     "output_type": "stream",
     "text": [
      "[CV]  base_score=0.6, colsample_bytree=0.8, max_depth=4, scale_pos_weight=10, subsample=0.7, total=   1.8s\n",
      "[CV] base_score=0.6, colsample_bytree=0.8, max_depth=4, scale_pos_weight=10, subsample=0.7 \n"
     ]
    },
    {
     "name": "stderr",
     "output_type": "stream",
     "text": [
      "c:\\users\\sourish\\anaconda3\\lib\\site-packages\\sklearn\\preprocessing\\label.py:219: DataConversionWarning:\n",
      "\n",
      "A column-vector y was passed when a 1d array was expected. Please change the shape of y to (n_samples, ), for example using ravel().\n",
      "\n",
      "c:\\users\\sourish\\anaconda3\\lib\\site-packages\\sklearn\\preprocessing\\label.py:252: DataConversionWarning:\n",
      "\n",
      "A column-vector y was passed when a 1d array was expected. Please change the shape of y to (n_samples, ), for example using ravel().\n",
      "\n"
     ]
    },
    {
     "name": "stdout",
     "output_type": "stream",
     "text": [
      "[CV]  base_score=0.6, colsample_bytree=0.8, max_depth=4, scale_pos_weight=10, subsample=0.7, total=   1.8s\n",
      "[CV] base_score=0.6, colsample_bytree=0.8, max_depth=4, scale_pos_weight=10, subsample=0.8 \n"
     ]
    },
    {
     "name": "stderr",
     "output_type": "stream",
     "text": [
      "c:\\users\\sourish\\anaconda3\\lib\\site-packages\\sklearn\\preprocessing\\label.py:219: DataConversionWarning:\n",
      "\n",
      "A column-vector y was passed when a 1d array was expected. Please change the shape of y to (n_samples, ), for example using ravel().\n",
      "\n",
      "c:\\users\\sourish\\anaconda3\\lib\\site-packages\\sklearn\\preprocessing\\label.py:252: DataConversionWarning:\n",
      "\n",
      "A column-vector y was passed when a 1d array was expected. Please change the shape of y to (n_samples, ), for example using ravel().\n",
      "\n"
     ]
    },
    {
     "name": "stdout",
     "output_type": "stream",
     "text": [
      "[CV]  base_score=0.6, colsample_bytree=0.8, max_depth=4, scale_pos_weight=10, subsample=0.8, total=   1.8s\n",
      "[CV] base_score=0.6, colsample_bytree=0.8, max_depth=4, scale_pos_weight=10, subsample=0.8 \n"
     ]
    },
    {
     "name": "stderr",
     "output_type": "stream",
     "text": [
      "c:\\users\\sourish\\anaconda3\\lib\\site-packages\\sklearn\\preprocessing\\label.py:219: DataConversionWarning:\n",
      "\n",
      "A column-vector y was passed when a 1d array was expected. Please change the shape of y to (n_samples, ), for example using ravel().\n",
      "\n",
      "c:\\users\\sourish\\anaconda3\\lib\\site-packages\\sklearn\\preprocessing\\label.py:252: DataConversionWarning:\n",
      "\n",
      "A column-vector y was passed when a 1d array was expected. Please change the shape of y to (n_samples, ), for example using ravel().\n",
      "\n"
     ]
    },
    {
     "name": "stdout",
     "output_type": "stream",
     "text": [
      "[CV]  base_score=0.6, colsample_bytree=0.8, max_depth=4, scale_pos_weight=10, subsample=0.8, total=   1.7s\n",
      "[CV] base_score=0.6, colsample_bytree=0.8, max_depth=4, scale_pos_weight=10, subsample=0.8 \n"
     ]
    },
    {
     "name": "stderr",
     "output_type": "stream",
     "text": [
      "c:\\users\\sourish\\anaconda3\\lib\\site-packages\\sklearn\\preprocessing\\label.py:219: DataConversionWarning:\n",
      "\n",
      "A column-vector y was passed when a 1d array was expected. Please change the shape of y to (n_samples, ), for example using ravel().\n",
      "\n",
      "c:\\users\\sourish\\anaconda3\\lib\\site-packages\\sklearn\\preprocessing\\label.py:252: DataConversionWarning:\n",
      "\n",
      "A column-vector y was passed when a 1d array was expected. Please change the shape of y to (n_samples, ), for example using ravel().\n",
      "\n"
     ]
    },
    {
     "name": "stdout",
     "output_type": "stream",
     "text": [
      "[CV]  base_score=0.6, colsample_bytree=0.8, max_depth=4, scale_pos_weight=10, subsample=0.8, total=   1.8s\n",
      "[CV] base_score=0.6, colsample_bytree=0.8, max_depth=4, scale_pos_weight=15, subsample=0.7 \n"
     ]
    },
    {
     "name": "stderr",
     "output_type": "stream",
     "text": [
      "c:\\users\\sourish\\anaconda3\\lib\\site-packages\\sklearn\\preprocessing\\label.py:219: DataConversionWarning:\n",
      "\n",
      "A column-vector y was passed when a 1d array was expected. Please change the shape of y to (n_samples, ), for example using ravel().\n",
      "\n",
      "c:\\users\\sourish\\anaconda3\\lib\\site-packages\\sklearn\\preprocessing\\label.py:252: DataConversionWarning:\n",
      "\n",
      "A column-vector y was passed when a 1d array was expected. Please change the shape of y to (n_samples, ), for example using ravel().\n",
      "\n"
     ]
    },
    {
     "name": "stdout",
     "output_type": "stream",
     "text": [
      "[CV]  base_score=0.6, colsample_bytree=0.8, max_depth=4, scale_pos_weight=15, subsample=0.7, total=   1.8s\n",
      "[CV] base_score=0.6, colsample_bytree=0.8, max_depth=4, scale_pos_weight=15, subsample=0.7 \n"
     ]
    },
    {
     "name": "stderr",
     "output_type": "stream",
     "text": [
      "c:\\users\\sourish\\anaconda3\\lib\\site-packages\\sklearn\\preprocessing\\label.py:219: DataConversionWarning:\n",
      "\n",
      "A column-vector y was passed when a 1d array was expected. Please change the shape of y to (n_samples, ), for example using ravel().\n",
      "\n",
      "c:\\users\\sourish\\anaconda3\\lib\\site-packages\\sklearn\\preprocessing\\label.py:252: DataConversionWarning:\n",
      "\n",
      "A column-vector y was passed when a 1d array was expected. Please change the shape of y to (n_samples, ), for example using ravel().\n",
      "\n"
     ]
    },
    {
     "name": "stdout",
     "output_type": "stream",
     "text": [
      "[CV]  base_score=0.6, colsample_bytree=0.8, max_depth=4, scale_pos_weight=15, subsample=0.7, total=   1.8s\n",
      "[CV] base_score=0.6, colsample_bytree=0.8, max_depth=4, scale_pos_weight=15, subsample=0.7 \n"
     ]
    },
    {
     "name": "stderr",
     "output_type": "stream",
     "text": [
      "c:\\users\\sourish\\anaconda3\\lib\\site-packages\\sklearn\\preprocessing\\label.py:219: DataConversionWarning:\n",
      "\n",
      "A column-vector y was passed when a 1d array was expected. Please change the shape of y to (n_samples, ), for example using ravel().\n",
      "\n",
      "c:\\users\\sourish\\anaconda3\\lib\\site-packages\\sklearn\\preprocessing\\label.py:252: DataConversionWarning:\n",
      "\n",
      "A column-vector y was passed when a 1d array was expected. Please change the shape of y to (n_samples, ), for example using ravel().\n",
      "\n"
     ]
    },
    {
     "name": "stdout",
     "output_type": "stream",
     "text": [
      "[CV]  base_score=0.6, colsample_bytree=0.8, max_depth=4, scale_pos_weight=15, subsample=0.7, total=   1.8s\n",
      "[CV] base_score=0.6, colsample_bytree=0.8, max_depth=4, scale_pos_weight=15, subsample=0.8 \n"
     ]
    },
    {
     "name": "stderr",
     "output_type": "stream",
     "text": [
      "c:\\users\\sourish\\anaconda3\\lib\\site-packages\\sklearn\\preprocessing\\label.py:219: DataConversionWarning:\n",
      "\n",
      "A column-vector y was passed when a 1d array was expected. Please change the shape of y to (n_samples, ), for example using ravel().\n",
      "\n",
      "c:\\users\\sourish\\anaconda3\\lib\\site-packages\\sklearn\\preprocessing\\label.py:252: DataConversionWarning:\n",
      "\n",
      "A column-vector y was passed when a 1d array was expected. Please change the shape of y to (n_samples, ), for example using ravel().\n",
      "\n"
     ]
    },
    {
     "name": "stdout",
     "output_type": "stream",
     "text": [
      "[CV]  base_score=0.6, colsample_bytree=0.8, max_depth=4, scale_pos_weight=15, subsample=0.8, total=   1.8s\n",
      "[CV] base_score=0.6, colsample_bytree=0.8, max_depth=4, scale_pos_weight=15, subsample=0.8 \n"
     ]
    },
    {
     "name": "stderr",
     "output_type": "stream",
     "text": [
      "c:\\users\\sourish\\anaconda3\\lib\\site-packages\\sklearn\\preprocessing\\label.py:219: DataConversionWarning:\n",
      "\n",
      "A column-vector y was passed when a 1d array was expected. Please change the shape of y to (n_samples, ), for example using ravel().\n",
      "\n",
      "c:\\users\\sourish\\anaconda3\\lib\\site-packages\\sklearn\\preprocessing\\label.py:252: DataConversionWarning:\n",
      "\n",
      "A column-vector y was passed when a 1d array was expected. Please change the shape of y to (n_samples, ), for example using ravel().\n",
      "\n"
     ]
    },
    {
     "name": "stdout",
     "output_type": "stream",
     "text": [
      "[CV]  base_score=0.6, colsample_bytree=0.8, max_depth=4, scale_pos_weight=15, subsample=0.8, total=   1.8s\n",
      "[CV] base_score=0.6, colsample_bytree=0.8, max_depth=4, scale_pos_weight=15, subsample=0.8 \n"
     ]
    },
    {
     "name": "stderr",
     "output_type": "stream",
     "text": [
      "c:\\users\\sourish\\anaconda3\\lib\\site-packages\\sklearn\\preprocessing\\label.py:219: DataConversionWarning:\n",
      "\n",
      "A column-vector y was passed when a 1d array was expected. Please change the shape of y to (n_samples, ), for example using ravel().\n",
      "\n",
      "c:\\users\\sourish\\anaconda3\\lib\\site-packages\\sklearn\\preprocessing\\label.py:252: DataConversionWarning:\n",
      "\n",
      "A column-vector y was passed when a 1d array was expected. Please change the shape of y to (n_samples, ), for example using ravel().\n",
      "\n"
     ]
    },
    {
     "name": "stdout",
     "output_type": "stream",
     "text": [
      "[CV]  base_score=0.6, colsample_bytree=0.8, max_depth=4, scale_pos_weight=15, subsample=0.8, total=   1.8s\n",
      "[CV] base_score=0.6, colsample_bytree=0.8, max_depth=4, scale_pos_weight=20, subsample=0.7 \n"
     ]
    },
    {
     "name": "stderr",
     "output_type": "stream",
     "text": [
      "c:\\users\\sourish\\anaconda3\\lib\\site-packages\\sklearn\\preprocessing\\label.py:219: DataConversionWarning:\n",
      "\n",
      "A column-vector y was passed when a 1d array was expected. Please change the shape of y to (n_samples, ), for example using ravel().\n",
      "\n",
      "c:\\users\\sourish\\anaconda3\\lib\\site-packages\\sklearn\\preprocessing\\label.py:252: DataConversionWarning:\n",
      "\n",
      "A column-vector y was passed when a 1d array was expected. Please change the shape of y to (n_samples, ), for example using ravel().\n",
      "\n"
     ]
    },
    {
     "name": "stdout",
     "output_type": "stream",
     "text": [
      "[CV]  base_score=0.6, colsample_bytree=0.8, max_depth=4, scale_pos_weight=20, subsample=0.7, total=   1.8s\n",
      "[CV] base_score=0.6, colsample_bytree=0.8, max_depth=4, scale_pos_weight=20, subsample=0.7 \n"
     ]
    },
    {
     "name": "stderr",
     "output_type": "stream",
     "text": [
      "c:\\users\\sourish\\anaconda3\\lib\\site-packages\\sklearn\\preprocessing\\label.py:219: DataConversionWarning:\n",
      "\n",
      "A column-vector y was passed when a 1d array was expected. Please change the shape of y to (n_samples, ), for example using ravel().\n",
      "\n",
      "c:\\users\\sourish\\anaconda3\\lib\\site-packages\\sklearn\\preprocessing\\label.py:252: DataConversionWarning:\n",
      "\n",
      "A column-vector y was passed when a 1d array was expected. Please change the shape of y to (n_samples, ), for example using ravel().\n",
      "\n"
     ]
    },
    {
     "name": "stdout",
     "output_type": "stream",
     "text": [
      "[CV]  base_score=0.6, colsample_bytree=0.8, max_depth=4, scale_pos_weight=20, subsample=0.7, total=   2.0s\n",
      "[CV] base_score=0.6, colsample_bytree=0.8, max_depth=4, scale_pos_weight=20, subsample=0.7 \n"
     ]
    },
    {
     "name": "stderr",
     "output_type": "stream",
     "text": [
      "c:\\users\\sourish\\anaconda3\\lib\\site-packages\\sklearn\\preprocessing\\label.py:219: DataConversionWarning:\n",
      "\n",
      "A column-vector y was passed when a 1d array was expected. Please change the shape of y to (n_samples, ), for example using ravel().\n",
      "\n",
      "c:\\users\\sourish\\anaconda3\\lib\\site-packages\\sklearn\\preprocessing\\label.py:252: DataConversionWarning:\n",
      "\n",
      "A column-vector y was passed when a 1d array was expected. Please change the shape of y to (n_samples, ), for example using ravel().\n",
      "\n"
     ]
    },
    {
     "name": "stdout",
     "output_type": "stream",
     "text": [
      "[CV]  base_score=0.6, colsample_bytree=0.8, max_depth=4, scale_pos_weight=20, subsample=0.7, total=   1.8s\n",
      "[CV] base_score=0.6, colsample_bytree=0.8, max_depth=4, scale_pos_weight=20, subsample=0.8 \n"
     ]
    },
    {
     "name": "stderr",
     "output_type": "stream",
     "text": [
      "c:\\users\\sourish\\anaconda3\\lib\\site-packages\\sklearn\\preprocessing\\label.py:219: DataConversionWarning:\n",
      "\n",
      "A column-vector y was passed when a 1d array was expected. Please change the shape of y to (n_samples, ), for example using ravel().\n",
      "\n",
      "c:\\users\\sourish\\anaconda3\\lib\\site-packages\\sklearn\\preprocessing\\label.py:252: DataConversionWarning:\n",
      "\n",
      "A column-vector y was passed when a 1d array was expected. Please change the shape of y to (n_samples, ), for example using ravel().\n",
      "\n"
     ]
    },
    {
     "name": "stdout",
     "output_type": "stream",
     "text": [
      "[CV]  base_score=0.6, colsample_bytree=0.8, max_depth=4, scale_pos_weight=20, subsample=0.8, total=   1.7s\n",
      "[CV] base_score=0.6, colsample_bytree=0.8, max_depth=4, scale_pos_weight=20, subsample=0.8 \n"
     ]
    },
    {
     "name": "stderr",
     "output_type": "stream",
     "text": [
      "c:\\users\\sourish\\anaconda3\\lib\\site-packages\\sklearn\\preprocessing\\label.py:219: DataConversionWarning:\n",
      "\n",
      "A column-vector y was passed when a 1d array was expected. Please change the shape of y to (n_samples, ), for example using ravel().\n",
      "\n",
      "c:\\users\\sourish\\anaconda3\\lib\\site-packages\\sklearn\\preprocessing\\label.py:252: DataConversionWarning:\n",
      "\n",
      "A column-vector y was passed when a 1d array was expected. Please change the shape of y to (n_samples, ), for example using ravel().\n",
      "\n"
     ]
    },
    {
     "name": "stdout",
     "output_type": "stream",
     "text": [
      "[CV]  base_score=0.6, colsample_bytree=0.8, max_depth=4, scale_pos_weight=20, subsample=0.8, total=   1.8s\n",
      "[CV] base_score=0.6, colsample_bytree=0.8, max_depth=4, scale_pos_weight=20, subsample=0.8 \n"
     ]
    },
    {
     "name": "stderr",
     "output_type": "stream",
     "text": [
      "c:\\users\\sourish\\anaconda3\\lib\\site-packages\\sklearn\\preprocessing\\label.py:219: DataConversionWarning:\n",
      "\n",
      "A column-vector y was passed when a 1d array was expected. Please change the shape of y to (n_samples, ), for example using ravel().\n",
      "\n",
      "c:\\users\\sourish\\anaconda3\\lib\\site-packages\\sklearn\\preprocessing\\label.py:252: DataConversionWarning:\n",
      "\n",
      "A column-vector y was passed when a 1d array was expected. Please change the shape of y to (n_samples, ), for example using ravel().\n",
      "\n"
     ]
    },
    {
     "name": "stdout",
     "output_type": "stream",
     "text": [
      "[CV]  base_score=0.6, colsample_bytree=0.8, max_depth=4, scale_pos_weight=20, subsample=0.8, total=   1.7s\n",
      "[CV] base_score=0.6, colsample_bytree=0.9, max_depth=4, scale_pos_weight=10, subsample=0.7 \n"
     ]
    },
    {
     "name": "stderr",
     "output_type": "stream",
     "text": [
      "c:\\users\\sourish\\anaconda3\\lib\\site-packages\\sklearn\\preprocessing\\label.py:219: DataConversionWarning:\n",
      "\n",
      "A column-vector y was passed when a 1d array was expected. Please change the shape of y to (n_samples, ), for example using ravel().\n",
      "\n",
      "c:\\users\\sourish\\anaconda3\\lib\\site-packages\\sklearn\\preprocessing\\label.py:252: DataConversionWarning:\n",
      "\n",
      "A column-vector y was passed when a 1d array was expected. Please change the shape of y to (n_samples, ), for example using ravel().\n",
      "\n"
     ]
    },
    {
     "name": "stdout",
     "output_type": "stream",
     "text": [
      "[CV]  base_score=0.6, colsample_bytree=0.9, max_depth=4, scale_pos_weight=10, subsample=0.7, total=   1.9s\n",
      "[CV] base_score=0.6, colsample_bytree=0.9, max_depth=4, scale_pos_weight=10, subsample=0.7 \n"
     ]
    },
    {
     "name": "stderr",
     "output_type": "stream",
     "text": [
      "c:\\users\\sourish\\anaconda3\\lib\\site-packages\\sklearn\\preprocessing\\label.py:219: DataConversionWarning:\n",
      "\n",
      "A column-vector y was passed when a 1d array was expected. Please change the shape of y to (n_samples, ), for example using ravel().\n",
      "\n",
      "c:\\users\\sourish\\anaconda3\\lib\\site-packages\\sklearn\\preprocessing\\label.py:252: DataConversionWarning:\n",
      "\n",
      "A column-vector y was passed when a 1d array was expected. Please change the shape of y to (n_samples, ), for example using ravel().\n",
      "\n"
     ]
    },
    {
     "name": "stdout",
     "output_type": "stream",
     "text": [
      "[CV]  base_score=0.6, colsample_bytree=0.9, max_depth=4, scale_pos_weight=10, subsample=0.7, total=   2.0s\n",
      "[CV] base_score=0.6, colsample_bytree=0.9, max_depth=4, scale_pos_weight=10, subsample=0.7 \n"
     ]
    },
    {
     "name": "stderr",
     "output_type": "stream",
     "text": [
      "c:\\users\\sourish\\anaconda3\\lib\\site-packages\\sklearn\\preprocessing\\label.py:219: DataConversionWarning:\n",
      "\n",
      "A column-vector y was passed when a 1d array was expected. Please change the shape of y to (n_samples, ), for example using ravel().\n",
      "\n",
      "c:\\users\\sourish\\anaconda3\\lib\\site-packages\\sklearn\\preprocessing\\label.py:252: DataConversionWarning:\n",
      "\n",
      "A column-vector y was passed when a 1d array was expected. Please change the shape of y to (n_samples, ), for example using ravel().\n",
      "\n"
     ]
    },
    {
     "name": "stdout",
     "output_type": "stream",
     "text": [
      "[CV]  base_score=0.6, colsample_bytree=0.9, max_depth=4, scale_pos_weight=10, subsample=0.7, total=   2.0s\n",
      "[CV] base_score=0.6, colsample_bytree=0.9, max_depth=4, scale_pos_weight=10, subsample=0.8 \n"
     ]
    },
    {
     "name": "stderr",
     "output_type": "stream",
     "text": [
      "c:\\users\\sourish\\anaconda3\\lib\\site-packages\\sklearn\\preprocessing\\label.py:219: DataConversionWarning:\n",
      "\n",
      "A column-vector y was passed when a 1d array was expected. Please change the shape of y to (n_samples, ), for example using ravel().\n",
      "\n",
      "c:\\users\\sourish\\anaconda3\\lib\\site-packages\\sklearn\\preprocessing\\label.py:252: DataConversionWarning:\n",
      "\n",
      "A column-vector y was passed when a 1d array was expected. Please change the shape of y to (n_samples, ), for example using ravel().\n",
      "\n"
     ]
    },
    {
     "name": "stdout",
     "output_type": "stream",
     "text": [
      "[CV]  base_score=0.6, colsample_bytree=0.9, max_depth=4, scale_pos_weight=10, subsample=0.8, total=   2.1s\n",
      "[CV] base_score=0.6, colsample_bytree=0.9, max_depth=4, scale_pos_weight=10, subsample=0.8 \n"
     ]
    },
    {
     "name": "stderr",
     "output_type": "stream",
     "text": [
      "c:\\users\\sourish\\anaconda3\\lib\\site-packages\\sklearn\\preprocessing\\label.py:219: DataConversionWarning:\n",
      "\n",
      "A column-vector y was passed when a 1d array was expected. Please change the shape of y to (n_samples, ), for example using ravel().\n",
      "\n",
      "c:\\users\\sourish\\anaconda3\\lib\\site-packages\\sklearn\\preprocessing\\label.py:252: DataConversionWarning:\n",
      "\n",
      "A column-vector y was passed when a 1d array was expected. Please change the shape of y to (n_samples, ), for example using ravel().\n",
      "\n"
     ]
    },
    {
     "name": "stdout",
     "output_type": "stream",
     "text": [
      "[CV]  base_score=0.6, colsample_bytree=0.9, max_depth=4, scale_pos_weight=10, subsample=0.8, total=   2.0s\n",
      "[CV] base_score=0.6, colsample_bytree=0.9, max_depth=4, scale_pos_weight=10, subsample=0.8 \n"
     ]
    },
    {
     "name": "stderr",
     "output_type": "stream",
     "text": [
      "c:\\users\\sourish\\anaconda3\\lib\\site-packages\\sklearn\\preprocessing\\label.py:219: DataConversionWarning:\n",
      "\n",
      "A column-vector y was passed when a 1d array was expected. Please change the shape of y to (n_samples, ), for example using ravel().\n",
      "\n",
      "c:\\users\\sourish\\anaconda3\\lib\\site-packages\\sklearn\\preprocessing\\label.py:252: DataConversionWarning:\n",
      "\n",
      "A column-vector y was passed when a 1d array was expected. Please change the shape of y to (n_samples, ), for example using ravel().\n",
      "\n"
     ]
    },
    {
     "name": "stdout",
     "output_type": "stream",
     "text": [
      "[CV]  base_score=0.6, colsample_bytree=0.9, max_depth=4, scale_pos_weight=10, subsample=0.8, total=   1.9s\n",
      "[CV] base_score=0.6, colsample_bytree=0.9, max_depth=4, scale_pos_weight=15, subsample=0.7 \n"
     ]
    },
    {
     "name": "stderr",
     "output_type": "stream",
     "text": [
      "c:\\users\\sourish\\anaconda3\\lib\\site-packages\\sklearn\\preprocessing\\label.py:219: DataConversionWarning:\n",
      "\n",
      "A column-vector y was passed when a 1d array was expected. Please change the shape of y to (n_samples, ), for example using ravel().\n",
      "\n",
      "c:\\users\\sourish\\anaconda3\\lib\\site-packages\\sklearn\\preprocessing\\label.py:252: DataConversionWarning:\n",
      "\n",
      "A column-vector y was passed when a 1d array was expected. Please change the shape of y to (n_samples, ), for example using ravel().\n",
      "\n"
     ]
    },
    {
     "name": "stdout",
     "output_type": "stream",
     "text": [
      "[CV]  base_score=0.6, colsample_bytree=0.9, max_depth=4, scale_pos_weight=15, subsample=0.7, total=   2.0s\n",
      "[CV] base_score=0.6, colsample_bytree=0.9, max_depth=4, scale_pos_weight=15, subsample=0.7 \n"
     ]
    },
    {
     "name": "stderr",
     "output_type": "stream",
     "text": [
      "c:\\users\\sourish\\anaconda3\\lib\\site-packages\\sklearn\\preprocessing\\label.py:219: DataConversionWarning:\n",
      "\n",
      "A column-vector y was passed when a 1d array was expected. Please change the shape of y to (n_samples, ), for example using ravel().\n",
      "\n",
      "c:\\users\\sourish\\anaconda3\\lib\\site-packages\\sklearn\\preprocessing\\label.py:252: DataConversionWarning:\n",
      "\n",
      "A column-vector y was passed when a 1d array was expected. Please change the shape of y to (n_samples, ), for example using ravel().\n",
      "\n"
     ]
    },
    {
     "name": "stdout",
     "output_type": "stream",
     "text": [
      "[CV]  base_score=0.6, colsample_bytree=0.9, max_depth=4, scale_pos_weight=15, subsample=0.7, total=   2.0s\n",
      "[CV] base_score=0.6, colsample_bytree=0.9, max_depth=4, scale_pos_weight=15, subsample=0.7 \n"
     ]
    },
    {
     "name": "stderr",
     "output_type": "stream",
     "text": [
      "c:\\users\\sourish\\anaconda3\\lib\\site-packages\\sklearn\\preprocessing\\label.py:219: DataConversionWarning:\n",
      "\n",
      "A column-vector y was passed when a 1d array was expected. Please change the shape of y to (n_samples, ), for example using ravel().\n",
      "\n",
      "c:\\users\\sourish\\anaconda3\\lib\\site-packages\\sklearn\\preprocessing\\label.py:252: DataConversionWarning:\n",
      "\n",
      "A column-vector y was passed when a 1d array was expected. Please change the shape of y to (n_samples, ), for example using ravel().\n",
      "\n"
     ]
    },
    {
     "name": "stdout",
     "output_type": "stream",
     "text": [
      "[CV]  base_score=0.6, colsample_bytree=0.9, max_depth=4, scale_pos_weight=15, subsample=0.7, total=   2.0s\n",
      "[CV] base_score=0.6, colsample_bytree=0.9, max_depth=4, scale_pos_weight=15, subsample=0.8 \n"
     ]
    },
    {
     "name": "stderr",
     "output_type": "stream",
     "text": [
      "c:\\users\\sourish\\anaconda3\\lib\\site-packages\\sklearn\\preprocessing\\label.py:219: DataConversionWarning:\n",
      "\n",
      "A column-vector y was passed when a 1d array was expected. Please change the shape of y to (n_samples, ), for example using ravel().\n",
      "\n",
      "c:\\users\\sourish\\anaconda3\\lib\\site-packages\\sklearn\\preprocessing\\label.py:252: DataConversionWarning:\n",
      "\n",
      "A column-vector y was passed when a 1d array was expected. Please change the shape of y to (n_samples, ), for example using ravel().\n",
      "\n"
     ]
    },
    {
     "name": "stdout",
     "output_type": "stream",
     "text": [
      "[CV]  base_score=0.6, colsample_bytree=0.9, max_depth=4, scale_pos_weight=15, subsample=0.8, total=   2.0s\n",
      "[CV] base_score=0.6, colsample_bytree=0.9, max_depth=4, scale_pos_weight=15, subsample=0.8 \n"
     ]
    },
    {
     "name": "stderr",
     "output_type": "stream",
     "text": [
      "c:\\users\\sourish\\anaconda3\\lib\\site-packages\\sklearn\\preprocessing\\label.py:219: DataConversionWarning:\n",
      "\n",
      "A column-vector y was passed when a 1d array was expected. Please change the shape of y to (n_samples, ), for example using ravel().\n",
      "\n",
      "c:\\users\\sourish\\anaconda3\\lib\\site-packages\\sklearn\\preprocessing\\label.py:252: DataConversionWarning:\n",
      "\n",
      "A column-vector y was passed when a 1d array was expected. Please change the shape of y to (n_samples, ), for example using ravel().\n",
      "\n"
     ]
    },
    {
     "name": "stdout",
     "output_type": "stream",
     "text": [
      "[CV]  base_score=0.6, colsample_bytree=0.9, max_depth=4, scale_pos_weight=15, subsample=0.8, total=   1.9s\n",
      "[CV] base_score=0.6, colsample_bytree=0.9, max_depth=4, scale_pos_weight=15, subsample=0.8 \n"
     ]
    },
    {
     "name": "stderr",
     "output_type": "stream",
     "text": [
      "c:\\users\\sourish\\anaconda3\\lib\\site-packages\\sklearn\\preprocessing\\label.py:219: DataConversionWarning:\n",
      "\n",
      "A column-vector y was passed when a 1d array was expected. Please change the shape of y to (n_samples, ), for example using ravel().\n",
      "\n",
      "c:\\users\\sourish\\anaconda3\\lib\\site-packages\\sklearn\\preprocessing\\label.py:252: DataConversionWarning:\n",
      "\n",
      "A column-vector y was passed when a 1d array was expected. Please change the shape of y to (n_samples, ), for example using ravel().\n",
      "\n"
     ]
    },
    {
     "name": "stdout",
     "output_type": "stream",
     "text": [
      "[CV]  base_score=0.6, colsample_bytree=0.9, max_depth=4, scale_pos_weight=15, subsample=0.8, total=   1.9s\n",
      "[CV] base_score=0.6, colsample_bytree=0.9, max_depth=4, scale_pos_weight=20, subsample=0.7 \n"
     ]
    },
    {
     "name": "stderr",
     "output_type": "stream",
     "text": [
      "c:\\users\\sourish\\anaconda3\\lib\\site-packages\\sklearn\\preprocessing\\label.py:219: DataConversionWarning:\n",
      "\n",
      "A column-vector y was passed when a 1d array was expected. Please change the shape of y to (n_samples, ), for example using ravel().\n",
      "\n",
      "c:\\users\\sourish\\anaconda3\\lib\\site-packages\\sklearn\\preprocessing\\label.py:252: DataConversionWarning:\n",
      "\n",
      "A column-vector y was passed when a 1d array was expected. Please change the shape of y to (n_samples, ), for example using ravel().\n",
      "\n"
     ]
    },
    {
     "name": "stdout",
     "output_type": "stream",
     "text": [
      "[CV]  base_score=0.6, colsample_bytree=0.9, max_depth=4, scale_pos_weight=20, subsample=0.7, total=   2.0s\n",
      "[CV] base_score=0.6, colsample_bytree=0.9, max_depth=4, scale_pos_weight=20, subsample=0.7 \n"
     ]
    },
    {
     "name": "stderr",
     "output_type": "stream",
     "text": [
      "c:\\users\\sourish\\anaconda3\\lib\\site-packages\\sklearn\\preprocessing\\label.py:219: DataConversionWarning:\n",
      "\n",
      "A column-vector y was passed when a 1d array was expected. Please change the shape of y to (n_samples, ), for example using ravel().\n",
      "\n",
      "c:\\users\\sourish\\anaconda3\\lib\\site-packages\\sklearn\\preprocessing\\label.py:252: DataConversionWarning:\n",
      "\n",
      "A column-vector y was passed when a 1d array was expected. Please change the shape of y to (n_samples, ), for example using ravel().\n",
      "\n"
     ]
    },
    {
     "name": "stdout",
     "output_type": "stream",
     "text": [
      "[CV]  base_score=0.6, colsample_bytree=0.9, max_depth=4, scale_pos_weight=20, subsample=0.7, total=   2.0s\n",
      "[CV] base_score=0.6, colsample_bytree=0.9, max_depth=4, scale_pos_weight=20, subsample=0.7 \n"
     ]
    },
    {
     "name": "stderr",
     "output_type": "stream",
     "text": [
      "c:\\users\\sourish\\anaconda3\\lib\\site-packages\\sklearn\\preprocessing\\label.py:219: DataConversionWarning:\n",
      "\n",
      "A column-vector y was passed when a 1d array was expected. Please change the shape of y to (n_samples, ), for example using ravel().\n",
      "\n",
      "c:\\users\\sourish\\anaconda3\\lib\\site-packages\\sklearn\\preprocessing\\label.py:252: DataConversionWarning:\n",
      "\n",
      "A column-vector y was passed when a 1d array was expected. Please change the shape of y to (n_samples, ), for example using ravel().\n",
      "\n"
     ]
    },
    {
     "name": "stdout",
     "output_type": "stream",
     "text": [
      "[CV]  base_score=0.6, colsample_bytree=0.9, max_depth=4, scale_pos_weight=20, subsample=0.7, total=   2.0s\n",
      "[CV] base_score=0.6, colsample_bytree=0.9, max_depth=4, scale_pos_weight=20, subsample=0.8 \n"
     ]
    },
    {
     "name": "stderr",
     "output_type": "stream",
     "text": [
      "c:\\users\\sourish\\anaconda3\\lib\\site-packages\\sklearn\\preprocessing\\label.py:219: DataConversionWarning:\n",
      "\n",
      "A column-vector y was passed when a 1d array was expected. Please change the shape of y to (n_samples, ), for example using ravel().\n",
      "\n",
      "c:\\users\\sourish\\anaconda3\\lib\\site-packages\\sklearn\\preprocessing\\label.py:252: DataConversionWarning:\n",
      "\n",
      "A column-vector y was passed when a 1d array was expected. Please change the shape of y to (n_samples, ), for example using ravel().\n",
      "\n"
     ]
    },
    {
     "name": "stdout",
     "output_type": "stream",
     "text": [
      "[CV]  base_score=0.6, colsample_bytree=0.9, max_depth=4, scale_pos_weight=20, subsample=0.8, total=   1.9s\n",
      "[CV] base_score=0.6, colsample_bytree=0.9, max_depth=4, scale_pos_weight=20, subsample=0.8 \n"
     ]
    },
    {
     "name": "stderr",
     "output_type": "stream",
     "text": [
      "c:\\users\\sourish\\anaconda3\\lib\\site-packages\\sklearn\\preprocessing\\label.py:219: DataConversionWarning:\n",
      "\n",
      "A column-vector y was passed when a 1d array was expected. Please change the shape of y to (n_samples, ), for example using ravel().\n",
      "\n",
      "c:\\users\\sourish\\anaconda3\\lib\\site-packages\\sklearn\\preprocessing\\label.py:252: DataConversionWarning:\n",
      "\n",
      "A column-vector y was passed when a 1d array was expected. Please change the shape of y to (n_samples, ), for example using ravel().\n",
      "\n"
     ]
    },
    {
     "name": "stdout",
     "output_type": "stream",
     "text": [
      "[CV]  base_score=0.6, colsample_bytree=0.9, max_depth=4, scale_pos_weight=20, subsample=0.8, total=   1.9s\n",
      "[CV] base_score=0.6, colsample_bytree=0.9, max_depth=4, scale_pos_weight=20, subsample=0.8 \n"
     ]
    },
    {
     "name": "stderr",
     "output_type": "stream",
     "text": [
      "c:\\users\\sourish\\anaconda3\\lib\\site-packages\\sklearn\\preprocessing\\label.py:219: DataConversionWarning:\n",
      "\n",
      "A column-vector y was passed when a 1d array was expected. Please change the shape of y to (n_samples, ), for example using ravel().\n",
      "\n",
      "c:\\users\\sourish\\anaconda3\\lib\\site-packages\\sklearn\\preprocessing\\label.py:252: DataConversionWarning:\n",
      "\n",
      "A column-vector y was passed when a 1d array was expected. Please change the shape of y to (n_samples, ), for example using ravel().\n",
      "\n"
     ]
    },
    {
     "name": "stdout",
     "output_type": "stream",
     "text": [
      "[CV]  base_score=0.6, colsample_bytree=0.9, max_depth=4, scale_pos_weight=20, subsample=0.8, total=   1.9s\n"
     ]
    },
    {
     "name": "stderr",
     "output_type": "stream",
     "text": [
      "[Parallel(n_jobs=1)]: Done 108 out of 108 | elapsed:  3.5min finished\n",
      "c:\\users\\sourish\\anaconda3\\lib\\site-packages\\sklearn\\preprocessing\\label.py:219: DataConversionWarning:\n",
      "\n",
      "A column-vector y was passed when a 1d array was expected. Please change the shape of y to (n_samples, ), for example using ravel().\n",
      "\n",
      "c:\\users\\sourish\\anaconda3\\lib\\site-packages\\sklearn\\preprocessing\\label.py:252: DataConversionWarning:\n",
      "\n",
      "A column-vector y was passed when a 1d array was expected. Please change the shape of y to (n_samples, ), for example using ravel().\n",
      "\n"
     ]
    },
    {
     "data": {
      "text/plain": [
       "GridSearchCV(cv=3, error_score='raise-deprecating',\n",
       "             estimator=XGBClassifier(base_score=0.5, booster='gbtree',\n",
       "                                     colsample_bylevel=1, colsample_bytree=1,\n",
       "                                     gamma=0, learning_rate=0.1,\n",
       "                                     max_delta_step=0,\n",
       "                                     max_depth={'eval_metric': 'f1',\n",
       "                                                'gamma': 0.01,\n",
       "                                                'learning_rate': 0.05,\n",
       "                                                'n_estimators': 700,\n",
       "                                                'nthread': 4,\n",
       "                                                'objective': 'gpu:binary:logistic',\n",
       "                                                'seed': 100},\n",
       "                                     min_child_weight=1, mi...\n",
       "                                     objective='binary:logistic',\n",
       "                                     random_state=0, reg_alpha=0, reg_lambda=1,\n",
       "                                     scale_pos_weight=1, seed=None, silent=True,\n",
       "                                     subsample=1),\n",
       "             iid='warn', n_jobs=None,\n",
       "             param_grid={'base_score': [0.4, 0.5, 0.6],\n",
       "                         'colsample_bytree': [0.8, 0.9], 'max_depth': [4],\n",
       "                         'scale_pos_weight': [10, 15, 20],\n",
       "                         'subsample': [0.7, 0.8]},\n",
       "             pre_dispatch='2*n_jobs', refit=True, return_train_score=False,\n",
       "             scoring='f1', verbose=2)"
      ]
     },
     "execution_count": 1492,
     "metadata": {},
     "output_type": "execute_result"
    }
   ],
   "source": [
    "#Best hyper parameter search with 2 fold cross validation\n",
    "\n",
    "ind_params = {'n_estimators': 700, 'seed':100,'learning_rate': 0.05,\n",
    "             'objective': 'gpu:binary:logistic'}\n",
    "ind_params['nthread'] = 4\n",
    "ind_params['eval_metric'] = 'f1'\n",
    "xgb_model = xgb.XGBClassifier(ind_params)\n",
    "clf = GridSearchCV(xgb_model,\n",
    "                   {'max_depth': [4,5],'subsample': [0.7,0.8],'colsample_bytree': [0.8,0.9],'scale_pos_weight':[10,15,20],'base_score':[0.4,0.5,0.6]\n",
    "                    'gamma':[0,0.01]}, verbose=2,cv=3,scoring='f1')\n",
    "clf.fit(train_X, train_Y)"
   ]
  },
  {
   "cell_type": "markdown",
   "metadata": {},
   "source": [
    "#### Model Selection:\n",
    "\n",
    "##### So the final hyper parameters based on grid search of the model is as follows:\n",
    "\n",
    "   [base_score=0.5, booster='gbtree', colsample_bylevel=1,\n",
    "              colsample_bytree=0.8, gamma=0, learning_rate=0.05,\n",
    "              max_delta_step=0, max_depth=4, min_child_weight=1.1, missing=None,\n",
    "              n_estimators=1000, n_jobs=1, nthread=None,\n",
    "              objective='binary:logistic', random_state=0, reg_alpha=0,\n",
    "              reg_lambda=1, scale_pos_weight=20, seed=20, silent=True,\n",
    "              subsample=0.8]"
   ]
  },
  {
   "cell_type": "markdown",
   "metadata": {},
   "source": [
    "#### Now we will train our final model with above hyper parameter setting\n",
    "#### Also we will use early_stopping_rounds as 15 to avoid over fit, as boosting methodology is prone to overfit the data\n",
    "#### As finally in the production system it will be user ranking based on propensity to fraud than just a point estimate, here AUC is the evaluation metric and we try to maximize it.\n",
    "#### Finally we adopted Weight correction strategy as the performance was better than SMOTE strategy. "
   ]
  },
  {
   "cell_type": "code",
   "execution_count": 974,
   "metadata": {},
   "outputs": [
    {
     "name": "stderr",
     "output_type": "stream",
     "text": [
      "c:\\users\\sourish\\anaconda3\\lib\\site-packages\\sklearn\\preprocessing\\label.py:219: DataConversionWarning:\n",
      "\n",
      "A column-vector y was passed when a 1d array was expected. Please change the shape of y to (n_samples, ), for example using ravel().\n",
      "\n",
      "c:\\users\\sourish\\anaconda3\\lib\\site-packages\\sklearn\\preprocessing\\label.py:252: DataConversionWarning:\n",
      "\n",
      "A column-vector y was passed when a 1d array was expected. Please change the shape of y to (n_samples, ), for example using ravel().\n",
      "\n",
      "c:\\users\\sourish\\anaconda3\\lib\\site-packages\\sklearn\\preprocessing\\label.py:252: DataConversionWarning:\n",
      "\n",
      "A column-vector y was passed when a 1d array was expected. Please change the shape of y to (n_samples, ), for example using ravel().\n",
      "\n",
      "c:\\users\\sourish\\anaconda3\\lib\\site-packages\\sklearn\\preprocessing\\label.py:252: DataConversionWarning:\n",
      "\n",
      "A column-vector y was passed when a 1d array was expected. Please change the shape of y to (n_samples, ), for example using ravel().\n",
      "\n"
     ]
    },
    {
     "name": "stdout",
     "output_type": "stream",
     "text": [
      "[0]\tvalidation_0-auc:0.695177\tvalidation_1-auc:0.721499\n",
      "Multiple eval metrics have been passed: 'validation_1-auc' will be used for early stopping.\n",
      "\n",
      "Will train until validation_1-auc hasn't improved in 20 rounds.\n",
      "[10]\tvalidation_0-auc:0.767522\tvalidation_1-auc:0.747696\n",
      "[20]\tvalidation_0-auc:0.784572\tvalidation_1-auc:0.747136\n",
      "[30]\tvalidation_0-auc:0.798687\tvalidation_1-auc:0.718591\n",
      "Stopping. Best iteration:\n",
      "[12]\tvalidation_0-auc:0.773606\tvalidation_1-auc:0.756711\n",
      "\n"
     ]
    }
   ],
   "source": [
    "bst_model = xgb.XGBClassifier(base_score=0.5, booster='gbtree', colsample_bylevel=1,\n",
    "              colsample_bytree=0.8, gamma=0, learning_rate=0.05,\n",
    "              max_delta_step=0, max_depth=4, min_child_weight=1.1, missing=None,\n",
    "              n_estimators=1000, n_jobs=1, nthread=None,\n",
    "              objective='binary:logistic', random_state=0, reg_alpha=0,\n",
    "              reg_lambda=1, scale_pos_weight=21, seed=20, silent=True,\n",
    "              subsample=0.8)\n",
    "eval_set  = [(train_X,train_Y),(valid_X,valid_Y)]\n",
    "\n",
    "bst_mod = bst_model.fit(train_X,train_Y,eval_set=eval_set,early_stopping_rounds=20,verbose = 10,\n",
    "        eval_metric=\"auc\")\n",
    "\n",
    "#Saving the model\n",
    "pickle.dump(bst_mod, open(\"artifacts/revolute_model.dat\", \"wb\"))"
   ]
  },
  {
   "cell_type": "markdown",
   "metadata": {},
   "source": [
    "#### We achieved decent AUC score, however it's not the only performance criteria."
   ]
  },
  {
   "cell_type": "markdown",
   "metadata": {},
   "source": [
    "### Further insight about model features"
   ]
  },
  {
   "cell_type": "code",
   "execution_count": 1013,
   "metadata": {},
   "outputs": [
    {
     "data": {
      "image/png": "[encoded data removed]",
      "text/plain": [
       "<Figure size 432x288 with 1 Axes>"
      ]
     },
     "metadata": {},
     "output_type": "display_data"
    },
    {
     "data": {
      "text/plain": [
       "<Figure size 720x18000 with 0 Axes>"
      ]
     },
     "metadata": {},
     "output_type": "display_data"
    }
   ],
   "source": [
    "# plot feature importance\n",
    "\n",
    "plot_importance(bst_mod, importance_type='weight', max_num_features=15)\n",
    "plt.figure(figsize=(10,250))\n",
    "plt.show()"
   ]
  },
  {
   "cell_type": "markdown",
   "metadata": {},
   "source": [
    "#### From the feature importance plot we can validate a few of our earlier hypothesis regarding features:\n",
    "\n",
    "#### As expected Age emerged as most important feature.\n",
    "\n",
    "#### Also a few engineered features Term_version, KYC category, EMAIL,spending in certain currency,no of currency used, few countries, entry_method etc. came within top 20 variables."
   ]
  },
  {
   "cell_type": "code",
   "execution_count": 1328,
   "metadata": {},
   "outputs": [
    {
     "data": {
      "text/html": [
       "<div>\n",
       "<style scoped>\n",
       "    .dataframe tbody tr th:only-of-type {\n",
       "        vertical-align: middle;\n",
       "    }\n",
       "\n",
       "    .dataframe tbody tr th {\n",
       "        vertical-align: top;\n",
       "    }\n",
       "\n",
       "    .dataframe thead th {\n",
       "        text-align: right;\n",
       "    }\n",
       "</style>\n",
       "<table border=\"1\" class=\"dataframe\">\n",
       "  <thead>\n",
       "    <tr style=\"text-align: right;\">\n",
       "      <th></th>\n",
       "      <th>importance_score</th>\n",
       "      <th>feature</th>\n",
       "    </tr>\n",
       "  </thead>\n",
       "  <tbody>\n",
       "    <tr>\n",
       "      <th>0</th>\n",
       "      <td>0.003610</td>\n",
       "      <td>count_diff_type</td>\n",
       "    </tr>\n",
       "    <tr>\n",
       "      <th>1</th>\n",
       "      <td>0.039711</td>\n",
       "      <td>2018_version</td>\n",
       "    </tr>\n",
       "    <tr>\n",
       "      <th>2</th>\n",
       "      <td>0.039711</td>\n",
       "      <td>PASSED</td>\n",
       "    </tr>\n",
       "    <tr>\n",
       "      <th>3</th>\n",
       "      <td>0.000000</td>\n",
       "      <td>count_diff_SOURCE</td>\n",
       "    </tr>\n",
       "    <tr>\n",
       "      <th>4</th>\n",
       "      <td>0.010830</td>\n",
       "      <td>HERA</td>\n",
       "    </tr>\n",
       "  </tbody>\n",
       "</table>\n",
       "</div>"
      ],
      "text/plain": [
       "   importance_score            feature\n",
       "0          0.003610    count_diff_type\n",
       "1          0.039711       2018_version\n",
       "2          0.039711             PASSED\n",
       "3          0.000000  count_diff_SOURCE\n",
       "4          0.010830               HERA"
      ]
     },
     "execution_count": 1328,
     "metadata": {},
     "output_type": "execute_result"
    }
   ],
   "source": [
    "feature_tab = pd.DataFrame(bst_mod.feature_importances_)\n",
    "feature_tab['feature'] = train_X.columns\n",
    "feature_tab.columns = ['importance_score','feature']\n",
    "feature_tab.to_csv('feature_info.csv', index = False)\n",
    "feature_tab.head(5)"
   ]
  },
  {
   "cell_type": "markdown",
   "metadata": {},
   "source": [
    "### We load the feature importance table in our database for further reference  "
   ]
  },
  {
   "cell_type": "code",
   "execution_count": 1333,
   "metadata": {},
   "outputs": [
    {
     "name": "stderr",
     "output_type": "stream",
     "text": [
      "c:\\users\\sourish\\anaconda3\\lib\\site-packages\\ipykernel_launcher.py:2: YAMLLoadWarning:\n",
      "\n",
      "calling yaml.load() without Loader=... is deprecated, as the default Loader is unsafe. Please read https://msg.pyyaml.org/load for full details.\n",
      "\n"
     ]
    }
   ],
   "source": [
    "with open(\"D:/data_science/revolut_challenge/deliverables/misc/output_schemas.yaml\") as schema_file:  #schema yaml for all Input tables\n",
    "    config = yaml.load(schema_file)\n",
    "create_tables(config, connection)\n",
    "load_tables(config, connection,ip=False)"
   ]
  },
  {
   "cell_type": "code",
   "execution_count": 1334,
   "metadata": {},
   "outputs": [
    {
     "name": "stdout",
     "output_type": "stream",
     "text": [
      "data reading\n"
     ]
    },
    {
     "data": {
      "text/html": [
       "<div>\n",
       "<style scoped>\n",
       "    .dataframe tbody tr th:only-of-type {\n",
       "        vertical-align: middle;\n",
       "    }\n",
       "\n",
       "    .dataframe tbody tr th {\n",
       "        vertical-align: top;\n",
       "    }\n",
       "\n",
       "    .dataframe thead th {\n",
       "        text-align: right;\n",
       "    }\n",
       "</style>\n",
       "<table border=\"1\" class=\"dataframe\">\n",
       "  <thead>\n",
       "    <tr style=\"text-align: right;\">\n",
       "      <th></th>\n",
       "      <th>importance_score</th>\n",
       "      <th>feature</th>\n",
       "    </tr>\n",
       "  </thead>\n",
       "  <tbody>\n",
       "    <tr>\n",
       "      <th>0</th>\n",
       "      <td>0.003610</td>\n",
       "      <td>count_diff_type</td>\n",
       "    </tr>\n",
       "    <tr>\n",
       "      <th>1</th>\n",
       "      <td>0.039711</td>\n",
       "      <td>2018_version</td>\n",
       "    </tr>\n",
       "    <tr>\n",
       "      <th>2</th>\n",
       "      <td>0.039711</td>\n",
       "      <td>PASSED</td>\n",
       "    </tr>\n",
       "  </tbody>\n",
       "</table>\n",
       "</div>"
      ],
      "text/plain": [
       "   importance_score          feature\n",
       "0          0.003610  count_diff_type\n",
       "1          0.039711     2018_version\n",
       "2          0.039711           PASSED"
      ]
     },
     "execution_count": 1334,
     "metadata": {},
     "output_type": "execute_result"
    }
   ],
   "source": [
    "#Let's try to access the database\n",
    "\n",
    "try:\n",
    "    cur = connection.cursor()\n",
    "    cur.execute(\"\"\"SELECT * FROM feature_information\"\"\") \n",
    "    rows = cur.fetchall()\n",
    "    print('data reading')\n",
    "except:\n",
    "    print('data not read')\n",
    "    \n",
    "feature_info=pd.DataFrame(rows,columns=feature_tab.columns)\n",
    "feature_info.head(3)"
   ]
  },
  {
   "cell_type": "markdown",
   "metadata": {},
   "source": [
    "#### feature importance table is loaded in our database"
   ]
  },
  {
   "cell_type": "markdown",
   "metadata": {},
   "source": [
    "### Model Evaluation\n",
    "\n",
    "#### As mentioned earlier unlike plain vanilla binary classification problem only here only accuracy can't be the evaluation metric. As with this extremely imbalanced classes, it’s easy to get a high accuracy without actually making useful predictions.\n",
    "\n",
    "#### As this model will be used for relative ranking of users based on propensity to fraud AUC(AUC-Receiver Operating Characteristic) is one of the important Model Evaluation criteria, but not the only one. \n",
    "\n",
    "#### We need to achive a balance between Precision and recall(sensitivity), precisely f1 score for this problem.Let's first introduce two following concepts:\n",
    "\n",
    "##### - Precision is about exactness, classifying only one instance correctly yields 100% precision, but a very low recall, it tells us how well the system identifies samples from a given class- here fraudsters.\n",
    "  \n",
    "  Precision = True fraudsters Captured by the model(TP)/(True fraudsters Captured by the model(TP) + True NonFraudsters falsly captured by the model(FP))\n",
    " \n",
    "##### - Recall actually calculates how many of the Actual Positives(fraudsters) our model capture through labeling it as Positive (True Positive) .Applying the same understanding, we know that Recall shall be the one of the most important model metric here to evaluate our best model when there is a high cost associated with False Negative(Actual fraudstars not captured by the model).\n",
    "\n",
    "  Recall = True fraudsters Captured by the model(TP)/(True fraudsters Captured by the model(TP) + True Fraudsters not captured by the model(FN))\n",
    "\n",
    "#### Now it's upto the business context which is more expensive for the business- False Negative or False Positive.As the above two metrics work as opposing force,to get a balance between Precision and Recall F1 Score- harmonic mean of Precision and Recall might be one of the rational Model Evaluation metric here. However with this small data and with time constraint it's a difficult task to achieve.\n",
    "  \n",
    "  F1 = 2 X (Precision * Recall)/(Precision + Recall"
   ]
  },
  {
   "cell_type": "code",
   "execution_count": 1001,
   "metadata": {},
   "outputs": [
    {
     "name": "stdout",
     "output_type": "stream",
     "text": [
      "AUC: 0.757\n"
     ]
    },
    {
     "data": {
      "image/png": "[encoded data removed]",
      "text/plain": [
       "<Figure size 432x288 with 1 Axes>"
      ]
     },
     "metadata": {},
     "output_type": "display_data"
    }
   ],
   "source": [
    "y_score = bst_mod.predict_proba(valid_X)\n",
    "fpr, tpr, thresholds = roc_curve(valid_Y.values, y_score[:,1])\n",
    "auc = roc_auc_score(valid_Y.values, y_score[:,1])\n",
    "print('AUC: %.3f' % auc)\n",
    "# plot no skill\n",
    "plt.plot([0, 1], [0, 1], linestyle='--')\n",
    "# plot the roc curve for the model\n",
    "plt.plot(fpr, tpr, marker='.')\n",
    "plt.xlabel('False Positive Rate')\n",
    "plt.ylabel('True Positive Rate')\n",
    "plt.title('Receiver operating curve')\n",
    "# show the plot\n",
    "plt.show()"
   ]
  },
  {
   "cell_type": "markdown",
   "metadata": {},
   "source": [
    "#### We already achieved a decent AUC score with small data, that means model can risk rank the users well "
   ]
  },
  {
   "cell_type": "markdown",
   "metadata": {},
   "source": [
    "#### Now we will see all the evaluation metric. We will also see Precision-Recall curve, which summarizes the trade-off between the true positive rate and the positive predictive value for this model."
   ]
  },
  {
   "cell_type": "code",
   "execution_count": 1014,
   "metadata": {},
   "outputs": [
    {
     "name": "stdout",
     "output_type": "stream",
     "text": [
      "Confusion Matrix :\n",
      "[[677  68]\n",
      " [ 17  13]]\n",
      "Accuracy Score : 0.8903225806451613\n",
      "Report : \n",
      "              precision    recall  f1-score   support\n",
      "\n",
      "           0       0.98      0.91      0.94       745\n",
      "           1       0.16      0.43      0.23        30\n",
      "\n",
      "    accuracy                           0.89       775\n",
      "   macro avg       0.57      0.67      0.59       775\n",
      "weighted avg       0.94      0.89      0.91       775\n",
      "\n",
      "f1=0.234 auc=0.757\n"
     ]
    },
    {
     "data": {
      "image/png": "[encoded data removed]",
      "text/plain": [
       "<Figure size 432x288 with 1 Axes>"
      ]
     },
     "metadata": {},
     "output_type": "display_data"
    }
   ],
   "source": [
    "#Classification report\n",
    "\n",
    "y_pred = bst_mod.predict(valid_X)\n",
    "results = confusion_matrix(valid_Y.values, y_pred) \n",
    "print('Confusion Matrix :')\n",
    "print(results) \n",
    "print('Accuracy Score :',accuracy_score(valid_Y.values, y_pred) )\n",
    "print('Report : ')\n",
    "print(classification_report(valid_Y.values, y_pred)) \n",
    "precision, recall, thresholds = precision_recall_curve(valid_Y.values, y_score[:,1])\n",
    "auc = roc_auc_score(valid_Y.values, y_score[:,1])\n",
    "f1 = f1_score(valid_Y.values, y_pred)\n",
    "print('f1=%.3f auc=%.3f' % (f1,auc))\n",
    "# plot no skill\n",
    "plt.plot([0, 1], [0.5, 0.5], linestyle='--')\n",
    "# plot the precision-recall curve for the model\n",
    "plt.plot(recall, precision, marker='.')\n",
    "plt.xlabel('Recall')\n",
    "plt.ylabel('Precision')\n",
    "# show the plot\n",
    "plt.show()"
   ]
  },
  {
   "cell_type": "markdown",
   "metadata": {},
   "source": [
    "#### Although the model accuracy deteriorates a bit, model can detect 13(43%) of True fraudsters and 91% non-fraudsters are unaffected(from falsely labelled as fraudsters) and even with this small data we achieved a moderate f1 score. Later during operationalization with thresholding method we will try to reduce the error.  "
   ]
  },
  {
   "cell_type": "markdown",
   "metadata": {},
   "source": [
    "### Operationalization and final output data to the business"
   ]
  },
  {
   "cell_type": "markdown",
   "metadata": {},
   "source": [
    "#### As first step we need to rank the users based on propensity to fraud score(model predicted probability).This is relative grading. "
   ]
  },
  {
   "cell_type": "code",
   "execution_count": 1025,
   "metadata": {},
   "outputs": [
    {
     "data": {
      "text/html": [
       "<div>\n",
       "<style scoped>\n",
       "    .dataframe tbody tr th:only-of-type {\n",
       "        vertical-align: middle;\n",
       "    }\n",
       "\n",
       "    .dataframe tbody tr th {\n",
       "        vertical-align: top;\n",
       "    }\n",
       "\n",
       "    .dataframe thead th {\n",
       "        text-align: right;\n",
       "    }\n",
       "</style>\n",
       "<table border=\"1\" class=\"dataframe\">\n",
       "  <thead>\n",
       "    <tr style=\"text-align: right;\">\n",
       "      <th></th>\n",
       "      <th>USER_ID</th>\n",
       "      <th>IS_FRAUDSTER</th>\n",
       "      <th>model_score</th>\n",
       "    </tr>\n",
       "  </thead>\n",
       "  <tbody>\n",
       "    <tr>\n",
       "      <th>127</th>\n",
       "      <td>0393841d-7973-4469-91fd-db826f52c9af</td>\n",
       "      <td>0</td>\n",
       "      <td>0.414933</td>\n",
       "    </tr>\n",
       "    <tr>\n",
       "      <th>1930</th>\n",
       "      <td>3eabf957-f243-449f-9c07-7ab5383cf2f3</td>\n",
       "      <td>0</td>\n",
       "      <td>0.473206</td>\n",
       "    </tr>\n",
       "    <tr>\n",
       "      <th>3537</th>\n",
       "      <td>74c0a721-f585-4b2f-bf12-e7023d342755</td>\n",
       "      <td>0</td>\n",
       "      <td>0.508703</td>\n",
       "    </tr>\n",
       "    <tr>\n",
       "      <th>5710</th>\n",
       "      <td>bdf45de9-bac0-4fec-a195-0584db5eec7d</td>\n",
       "      <td>0</td>\n",
       "      <td>0.496553</td>\n",
       "    </tr>\n",
       "    <tr>\n",
       "      <th>3711</th>\n",
       "      <td>79e23af0-71fd-4e5a-9f27-76fd330a4857</td>\n",
       "      <td>0</td>\n",
       "      <td>0.425398</td>\n",
       "    </tr>\n",
       "  </tbody>\n",
       "</table>\n",
       "</div>"
      ],
      "text/plain": [
       "                                   USER_ID  IS_FRAUDSTER  model_score\n",
       "127   0393841d-7973-4469-91fd-db826f52c9af             0     0.414933\n",
       "1930  3eabf957-f243-449f-9c07-7ab5383cf2f3             0     0.473206\n",
       "3537  74c0a721-f585-4b2f-bf12-e7023d342755             0     0.508703\n",
       "5710  bdf45de9-bac0-4fec-a195-0584db5eec7d             0     0.496553\n",
       "3711  79e23af0-71fd-4e5a-9f27-76fd330a4857             0     0.425398"
      ]
     },
     "execution_count": 1025,
     "metadata": {},
     "output_type": "execute_result"
    }
   ],
   "source": [
    "#Grading\n",
    "\n",
    "out_put = pd.concat([user_valid],axis=1)\n",
    "out_put['IS_FRAUDSTER'] = valid_Y.values\n",
    "out_put['model_score'] = y_score[:,1]\n",
    "out_put.head(5)"
   ]
  },
  {
   "cell_type": "markdown",
   "metadata": {},
   "source": [
    "#### Then we will create 20 equal buckets(ventile) based on descending order of scores and to accommodate each user into respective bucket."
   ]
  },
  {
   "cell_type": "code",
   "execution_count": 1219,
   "metadata": {},
   "outputs": [],
   "source": [
    "out_put.sort_values('model_score',ascending=False,inplace=True)\n",
    "out_put['ventile'] = pd.qcut(out_put['model_score'].rank(method = 'first'),20,labels=range(20,0,-1))"
   ]
  },
  {
   "cell_type": "markdown",
   "metadata": {},
   "source": [
    "### Further model evaluation(Score grading/Risk ranking)\n",
    "\n",
    "#### One of the important model utility criteria is how the mean model scores are graded across the top to bottom ventile. In our case the average fraud scores should monotonically decreasing from 1st to 20th ventile."
   ]
  },
  {
   "cell_type": "code",
   "execution_count": 1114,
   "metadata": {},
   "outputs": [
    {
     "data": {
      "text/html": [
       "<div>\n",
       "<style scoped>\n",
       "    .dataframe tbody tr th:only-of-type {\n",
       "        vertical-align: middle;\n",
       "    }\n",
       "\n",
       "    .dataframe tbody tr th {\n",
       "        vertical-align: top;\n",
       "    }\n",
       "\n",
       "    .dataframe thead th {\n",
       "        text-align: right;\n",
       "    }\n",
       "</style>\n",
       "<table border=\"1\" class=\"dataframe\">\n",
       "  <thead>\n",
       "    <tr style=\"text-align: right;\">\n",
       "      <th></th>\n",
       "      <th>model_score</th>\n",
       "      <th>ventile</th>\n",
       "      <th>cnt_fraudstar</th>\n",
       "    </tr>\n",
       "  </thead>\n",
       "  <tbody>\n",
       "    <tr>\n",
       "      <th>19</th>\n",
       "      <td>0.602305</td>\n",
       "      <td>1</td>\n",
       "      <td>7</td>\n",
       "    </tr>\n",
       "    <tr>\n",
       "      <th>18</th>\n",
       "      <td>0.516216</td>\n",
       "      <td>2</td>\n",
       "      <td>5</td>\n",
       "    </tr>\n",
       "    <tr>\n",
       "      <th>17</th>\n",
       "      <td>0.497043</td>\n",
       "      <td>3</td>\n",
       "      <td>3</td>\n",
       "    </tr>\n",
       "    <tr>\n",
       "      <th>16</th>\n",
       "      <td>0.496553</td>\n",
       "      <td>4</td>\n",
       "      <td>2</td>\n",
       "    </tr>\n",
       "    <tr>\n",
       "      <th>15</th>\n",
       "      <td>0.496553</td>\n",
       "      <td>5</td>\n",
       "      <td>1</td>\n",
       "    </tr>\n",
       "  </tbody>\n",
       "</table>\n",
       "</div>"
      ],
      "text/plain": [
       "    model_score  ventile  cnt_fraudstar\n",
       "19     0.602305        1              7\n",
       "18     0.516216        2              5\n",
       "17     0.497043        3              3\n",
       "16     0.496553        4              2\n",
       "15     0.496553        5              1"
      ]
     },
     "metadata": {},
     "output_type": "display_data"
    },
    {
     "data": {
      "image/png": "[encoded data removed]",
      "text/plain": [
       "<Figure size 432x288 with 1 Axes>"
      ]
     },
     "metadata": {},
     "output_type": "display_data"
    }
   ],
   "source": [
    "ventiles = pd.pivot_table(out_put,index=['ventiles'],values=['model_score'],aggfunc=np.mean).reset_index(drop = True)\n",
    "ventiles['ventile'] = range(20,0,-1)\n",
    "ventiles['cnt_fraudstar'] = list(np.array(pd.pivot_table(out_put,index=['ventiles'],values=['IS_FRAUDSTER'],aggfunc=np.sum).reset_index(drop = True)['IS_FRAUDSTER']))\n",
    "ventiles.sort_values('ventile',ascending=True,inplace=True)\n",
    "display(ventiles.head(5))\n",
    "plt.plot(range(len(ventiles)), ventiles['model_score'], 'o-')\n",
    "plt.xticks(range(len(ventiles)),ventiles['ventile'])\n",
    "plt.xlabel('ventiles')\n",
    "plt.ylabel('average fraud score')\n",
    "plt.show()"
   ]
  },
  {
   "cell_type": "markdown",
   "metadata": {},
   "source": [
    "#### We got a perfect ranking curve"
   ]
  },
  {
   "cell_type": "markdown",
   "metadata": {},
   "source": [
    "### Further Action(patroling)\n",
    "\n",
    "#### Now as a live model there is a need for real time action-  to derive labelling(LOCK_USER, ALERT,Active ect.), based on user,transaction,country,currency etc. characteristics, at the time when the the user is actually transacting with the intention of making fraud. We need to follow the entire process of data preparation in the user level, call the model object(api),score it in real time on the batch/minibatch(or stochastic fashion) data of users.After calculation of propensity to fraud score, suitable thresholding criteria is used to label the respective users.  \n",
    "\n",
    "#### First we calculate mean,min and max scores for each decile."
   ]
  },
  {
   "cell_type": "code",
   "execution_count": 1154,
   "metadata": {},
   "outputs": [
    {
     "data": {
      "text/html": [
       "<div>\n",
       "<style scoped>\n",
       "    .dataframe tbody tr th:only-of-type {\n",
       "        vertical-align: middle;\n",
       "    }\n",
       "\n",
       "    .dataframe tbody tr th {\n",
       "        vertical-align: top;\n",
       "    }\n",
       "\n",
       "    .dataframe thead th {\n",
       "        text-align: right;\n",
       "    }\n",
       "</style>\n",
       "<table border=\"1\" class=\"dataframe\">\n",
       "  <thead>\n",
       "    <tr style=\"text-align: right;\">\n",
       "      <th></th>\n",
       "      <th>model_score</th>\n",
       "      <th>ventile</th>\n",
       "      <th>cnt_fraudstar</th>\n",
       "      <th>cum_fraud_percent</th>\n",
       "      <th>min_score</th>\n",
       "      <th>max_score</th>\n",
       "    </tr>\n",
       "  </thead>\n",
       "  <tbody>\n",
       "    <tr>\n",
       "      <th>19</th>\n",
       "      <td>0.602305</td>\n",
       "      <td>1</td>\n",
       "      <td>7</td>\n",
       "      <td>0.233333</td>\n",
       "      <td>0.537344</td>\n",
       "      <td>0.645749</td>\n",
       "    </tr>\n",
       "    <tr>\n",
       "      <th>18</th>\n",
       "      <td>0.516216</td>\n",
       "      <td>2</td>\n",
       "      <td>5</td>\n",
       "      <td>0.400000</td>\n",
       "      <td>0.503608</td>\n",
       "      <td>0.535840</td>\n",
       "    </tr>\n",
       "    <tr>\n",
       "      <th>17</th>\n",
       "      <td>0.497043</td>\n",
       "      <td>3</td>\n",
       "      <td>3</td>\n",
       "      <td>0.500000</td>\n",
       "      <td>0.496553</td>\n",
       "      <td>0.503608</td>\n",
       "    </tr>\n",
       "    <tr>\n",
       "      <th>16</th>\n",
       "      <td>0.496553</td>\n",
       "      <td>4</td>\n",
       "      <td>2</td>\n",
       "      <td>0.566667</td>\n",
       "      <td>0.496553</td>\n",
       "      <td>0.496553</td>\n",
       "    </tr>\n",
       "  </tbody>\n",
       "</table>\n",
       "</div>"
      ],
      "text/plain": [
       "    model_score  ventile  cnt_fraudstar  cum_fraud_percent  min_score  \\\n",
       "19     0.602305        1              7           0.233333   0.537344   \n",
       "18     0.516216        2              5           0.400000   0.503608   \n",
       "17     0.497043        3              3           0.500000   0.496553   \n",
       "16     0.496553        4              2           0.566667   0.496553   \n",
       "\n",
       "    max_score  \n",
       "19   0.645749  \n",
       "18   0.535840  \n",
       "17   0.503608  \n",
       "16   0.496553  "
      ]
     },
     "execution_count": 1154,
     "metadata": {},
     "output_type": "execute_result"
    }
   ],
   "source": [
    "#Fraudstar Capture rate\n",
    "\n",
    "ventiles['cum_fraud_percent'] = np.cumsum(ventiles['cnt_fraudstar']/np.sum(ventiles['cnt_fraudstar']))\n",
    "ventiles['min_score'] = pd.pivot_table(out_put,index=['ventiles'],values=['model_score'],aggfunc=np.min).reset_index(drop = True)\n",
    "ventiles['max_score'] = pd.pivot_table(out_put,index=['ventiles'],values=['model_score'],aggfunc=np.max).reset_index(drop = True)\n",
    "ventiles.head(4)"
   ]
  },
  {
   "cell_type": "markdown",
   "metadata": {},
   "source": [
    "#### For time constraint we devise a simple approch here as follows:\n",
    "\n",
    "##### - to identify any users as FRAUDSTER and action as 'locked', who are in top 3 ventiles\n",
    "##### - to identify any users needs to be monitored and action as 'alart', who are in 4th ventiles\n",
    "##### - The rest of the users action will 'active'\n",
    "\n",
    "##### - This just for illustration purpose In real time application we don't have the labelling  "
   ]
  },
  {
   "cell_type": "code",
   "execution_count": 1225,
   "metadata": {},
   "outputs": [
    {
     "data": {
      "text/html": [
       "<div>\n",
       "<style scoped>\n",
       "    .dataframe tbody tr th:only-of-type {\n",
       "        vertical-align: middle;\n",
       "    }\n",
       "\n",
       "    .dataframe tbody tr th {\n",
       "        vertical-align: top;\n",
       "    }\n",
       "\n",
       "    .dataframe thead th {\n",
       "        text-align: right;\n",
       "    }\n",
       "</style>\n",
       "<table border=\"1\" class=\"dataframe\">\n",
       "  <thead>\n",
       "    <tr style=\"text-align: right;\">\n",
       "      <th></th>\n",
       "      <th>USER_ID</th>\n",
       "      <th>IS_FRAUDSTER</th>\n",
       "      <th>model_score</th>\n",
       "      <th>ventiles</th>\n",
       "      <th>action</th>\n",
       "    </tr>\n",
       "  </thead>\n",
       "  <tbody>\n",
       "    <tr>\n",
       "      <th>5833</th>\n",
       "      <td>c2242523-6f0b-4beb-ae25-9efb2f384e13</td>\n",
       "      <td>0</td>\n",
       "      <td>0.425398</td>\n",
       "      <td>13</td>\n",
       "      <td>active</td>\n",
       "    </tr>\n",
       "    <tr>\n",
       "      <th>3737</th>\n",
       "      <td>7acabc49-dfd4-4ccb-b310-4d96c3cdf01a</td>\n",
       "      <td>0</td>\n",
       "      <td>0.419889</td>\n",
       "      <td>14</td>\n",
       "      <td>active</td>\n",
       "    </tr>\n",
       "    <tr>\n",
       "      <th>758</th>\n",
       "      <td>17a2e252-fec3-4ad4-954b-63bb28171e7b</td>\n",
       "      <td>0</td>\n",
       "      <td>0.496553</td>\n",
       "      <td>3</td>\n",
       "      <td>alart</td>\n",
       "    </tr>\n",
       "    <tr>\n",
       "      <th>3586</th>\n",
       "      <td>76037a7d-f3de-4ee8-8001-f68498251a53</td>\n",
       "      <td>0</td>\n",
       "      <td>0.441262</td>\n",
       "      <td>11</td>\n",
       "      <td>active</td>\n",
       "    </tr>\n",
       "    <tr>\n",
       "      <th>6690</th>\n",
       "      <td>defff5d9-e730-45b6-90a3-3e34c077cc7a</td>\n",
       "      <td>0</td>\n",
       "      <td>0.491458</td>\n",
       "      <td>7</td>\n",
       "      <td>active</td>\n",
       "    </tr>\n",
       "  </tbody>\n",
       "</table>\n",
       "</div>"
      ],
      "text/plain": [
       "                                   USER_ID  IS_FRAUDSTER  model_score  \\\n",
       "5833  c2242523-6f0b-4beb-ae25-9efb2f384e13             0     0.425398   \n",
       "3737  7acabc49-dfd4-4ccb-b310-4d96c3cdf01a             0     0.419889   \n",
       "758   17a2e252-fec3-4ad4-954b-63bb28171e7b             0     0.496553   \n",
       "3586  76037a7d-f3de-4ee8-8001-f68498251a53             0     0.441262   \n",
       "6690  defff5d9-e730-45b6-90a3-3e34c077cc7a             0     0.491458   \n",
       "\n",
       "     ventiles  action  \n",
       "5833       13  active  \n",
       "3737       14  active  \n",
       "758         3   alart  \n",
       "3586       11  active  \n",
       "6690        7  active  "
      ]
     },
     "metadata": {},
     "output_type": "display_data"
    }
   ],
   "source": [
    "v = np.array(out_put['model_score'])\n",
    "out_put['action'] = ['locked' if v[i] > ventiles['min_score'][17] else 'alart' if v[i] == ventiles['min_score'][17] else 'active' for i in range(len(v))]\n",
    "out_put = shuffle(out_put)\n",
    "display(out_put.head(5))\n",
    "out_put.to_csv('output_score_action.csv',index=False)"
   ]
  },
  {
   "cell_type": "markdown",
   "metadata": {},
   "source": [
    "#### I wrote a comprehensive patrol function and a python script, which can take care all the above steps.\n",
    "\n",
    "#### With is approach cumulatively we can detect ~ 57% of true fraudstars"
   ]
  },
  {
   "cell_type": "markdown",
   "metadata": {},
   "source": [
    "#### Creating output table at database and loading the userwise predicted score-action output data to database for business use."
   ]
  },
  {
   "cell_type": "code",
   "execution_count": null,
   "metadata": {},
   "outputs": [],
   "source": [
    "with open(\"D:/data_science/revolut_challenge/deliverables/misc/output_schemas.yaml\") as schema_file:  #schema yaml for all Input tables\n",
    "    config = yaml.load(schema_file)\n",
    "create_tables(config, connection)\n",
    "load_tables(config, connection,ip=True)"
   ]
  },
  {
   "cell_type": "code",
   "execution_count": 1255,
   "metadata": {},
   "outputs": [
    {
     "name": "stdout",
     "output_type": "stream",
     "text": [
      "data reading\n"
     ]
    },
    {
     "data": {
      "text/html": [
       "<div>\n",
       "<style scoped>\n",
       "    .dataframe tbody tr th:only-of-type {\n",
       "        vertical-align: middle;\n",
       "    }\n",
       "\n",
       "    .dataframe tbody tr th {\n",
       "        vertical-align: top;\n",
       "    }\n",
       "\n",
       "    .dataframe thead th {\n",
       "        text-align: right;\n",
       "    }\n",
       "</style>\n",
       "<table border=\"1\" class=\"dataframe\">\n",
       "  <thead>\n",
       "    <tr style=\"text-align: right;\">\n",
       "      <th></th>\n",
       "      <th>USER_ID</th>\n",
       "      <th>IS_FRAUDSTER</th>\n",
       "      <th>model_score</th>\n",
       "      <th>ventiles</th>\n",
       "      <th>action</th>\n",
       "    </tr>\n",
       "  </thead>\n",
       "  <tbody>\n",
       "    <tr>\n",
       "      <th>0</th>\n",
       "      <td>c2242523-6f0b-4beb-ae25-9efb2f384e13</td>\n",
       "      <td>0</td>\n",
       "      <td>0.425398</td>\n",
       "      <td>13</td>\n",
       "      <td>active</td>\n",
       "    </tr>\n",
       "    <tr>\n",
       "      <th>1</th>\n",
       "      <td>7acabc49-dfd4-4ccb-b310-4d96c3cdf01a</td>\n",
       "      <td>0</td>\n",
       "      <td>0.419889</td>\n",
       "      <td>14</td>\n",
       "      <td>active</td>\n",
       "    </tr>\n",
       "    <tr>\n",
       "      <th>2</th>\n",
       "      <td>17a2e252-fec3-4ad4-954b-63bb28171e7b</td>\n",
       "      <td>0</td>\n",
       "      <td>0.496553</td>\n",
       "      <td>3</td>\n",
       "      <td>alart</td>\n",
       "    </tr>\n",
       "  </tbody>\n",
       "</table>\n",
       "</div>"
      ],
      "text/plain": [
       "                                USER_ID  IS_FRAUDSTER  model_score  ventiles  \\\n",
       "0  c2242523-6f0b-4beb-ae25-9efb2f384e13             0     0.425398        13   \n",
       "1  7acabc49-dfd4-4ccb-b310-4d96c3cdf01a             0     0.419889        14   \n",
       "2  17a2e252-fec3-4ad4-954b-63bb28171e7b             0     0.496553         3   \n",
       "\n",
       "   action  \n",
       "0  active  \n",
       "1  active  \n",
       "2   alart  "
      ]
     },
     "execution_count": 1255,
     "metadata": {},
     "output_type": "execute_result"
    }
   ],
   "source": [
    "#Let's try to access the database\n",
    "\n",
    "try:\n",
    "    cur = connection.cursor()\n",
    "    cur.execute(\"\"\"SELECT * FROM output_score_action_file\"\"\") \n",
    "    rows = cur.fetchall()\n",
    "    print('data reading')\n",
    "except:\n",
    "    print('data not read')\n",
    "    \n",
    "user_score_action=pd.DataFrame(rows,columns=out_put.columns)\n",
    "user_score_action.head(3)"
   ]
  },
  {
   "cell_type": "markdown",
   "metadata": {},
   "source": [
    "#### Database access by the business user is successful"
   ]
  },
  {
   "cell_type": "markdown",
   "metadata": {},
   "source": [
    "### Further improvement(For sake of time I left these options, however worth trying)\n",
    "\n",
    "###### A)  Build predictive models using other unsupervised(anomaly detection algorithms,Isolation Forest etc.) supervised ML techniques like RF,SVM,GBM etc and compare the performance\n",
    "\n",
    "###### B) Model Stacking: To improve the accuracy further we can take ensemble of models approach, in which can take simple of weighted(weight defined by normal logistic regression model)scores, as final prediction scores and then find the class for which prediction score is maximum.\n",
    "\n",
    "##### C) Trying with other imbalance class handling strategies and threshold optimization.\n",
    "\n",
    "###### D) More Feature Engineering."
   ]
  },
  {
   "cell_type": "markdown",
   "metadata": {},
   "source": [
    "##                   Thank You! Any Question"
   ]
  }
 ],
 "metadata": {
  "kernelspec": {
   "display_name": "Python 3",
   "language": "python",
   "name": "python3"
  },
  "language_info": {
   "codemirror_mode": {
    "name": "ipython",
    "version": 3
   },
   "file_extension": ".py",
   "mimetype": "text/x-python",
   "name": "python",
   "nbconvert_exporter": "python",
   "pygments_lexer": "ipython3",
   "version": "3.6.8"
  }
 },
 "nbformat": 4,
 "nbformat_minor": 2
}
